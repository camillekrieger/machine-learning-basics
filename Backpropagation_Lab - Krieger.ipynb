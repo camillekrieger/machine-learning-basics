{
  "cells": [
    {
      "cell_type": "markdown",
      "metadata": {
        "id": "DVL7_bgmIAPR"
      },
      "source": [
        "# Backpropagation Lab\n",
        "\n",
        "\n",
        "\n"
      ]
    },
    {
      "cell_type": "code",
      "execution_count": 1,
      "metadata": {
        "id": "6ZbYjZZZ_yLV"
      },
      "outputs": [],
      "source": [
        "from sklearn.neural_network import MLPClassifier\n",
        "import numpy as np\n",
        "import pandas as pd\n",
        "import matplotlib.pyplot as plt\n",
        "from sklearn.model_selection import train_test_split\n",
        "from sklearn.datasets import load_iris"
      ]
    },
    {
      "cell_type": "markdown",
      "metadata": {
        "id": "9vWiTdlbR2Xh"
      },
      "source": [
        "## 1 Avoiding Overfit: Early Stopping and Loss Regularization\n",
        "\n",
        "### 1.1 (10%) No overfit avoidance\n",
        "Train the sklearn [MLP classifier](https://scikit-learn.org/stable/modules/generated/sklearn.neural_network.MLPClassifier.html#sklearn.neural_network.MLPClassifier) on the [Iris Dataset](https://raw.githubusercontent.com/cs472ta/CS472/master/datasets/iris.arff).  Use 3 output nodes (1 per class). Expanding the one output variable into 3 is called one-hot encoding or dummy variable encoding. There are lots of ways to implement this including the Pandas get_dummies method. This experiment is set up to run a little longer to better see the effects of overfit.  Be patient as there are lots of hidden nodes and a high max iterations setting.\n",
        "\n",
        "Use default parameters except for the following:\n",
        "- hidden_layer_sizes = [64] - One hidden layer with 64 hidden nodes\n",
        "- activation = 'logistic'\n",
        "- solver = 'sgd'\n",
        "- alpha = 0\n",
        "- batch_size = 1\n",
        "- learning_rate_init = 0.01\n",
        "- shuffle = True\n",
        "- momentum = 0\n",
        "- n_iter_no_change = 50\n",
        "- max_iterations = 10000\n",
        "\n",
        "Use a random 80/20 split of the data.  Run it a few times with different random training/test splits and give average values for\n",
        "- Number of iterations until convergence\n",
        "- Training set accuracy\n",
        "- Test set accuracy\n",
        "For one run observe the softmax probabilities on the test set using clf.predict_proba"
      ]
    },
    {
      "cell_type": "code",
      "execution_count": 2,
      "metadata": {
        "colab": {
          "base_uri": "https://localhost:8080/"
        },
        "id": "Wqdxs75qYzpT",
        "outputId": "92a4e249-8f3d-45d6-b36a-276ad2cdc491"
      },
      "outputs": [
        {
          "output_type": "stream",
          "name": "stdout",
          "text": [
            "Softmax Probabilities: [[1.92606069e-04 9.52540179e-01 2.32685747e-02]\n",
            " [9.99296852e-01 2.59520982e-03 1.05561168e-11]\n",
            " [3.29758821e-07 7.13297749e-04 9.99882169e-01]\n",
            " [1.49553764e-04 9.10331104e-01 4.02844429e-02]\n",
            " [2.30689727e-04 9.71091067e-01 1.64217007e-02]\n",
            " [9.99020157e-01 3.66624169e-03 1.63502738e-11]\n",
            " [4.59905215e-03 9.97078952e-01 7.11160511e-05]\n",
            " [8.86216537e-06 9.31574711e-02 9.28437697e-01]\n",
            " [3.04431042e-05 4.85019617e-01 5.05903339e-01]\n",
            " [1.67367274e-03 9.95921056e-01 3.89588311e-04]\n",
            " [1.55593344e-05 2.03995660e-01 8.02548820e-01]\n",
            " [9.98831727e-01 6.12234541e-03 1.81980930e-11]\n",
            " [9.99540121e-01 1.92684194e-03 6.00538062e-12]\n",
            " [9.98772351e-01 6.46038215e-03 1.91852883e-11]\n",
            " [9.99396897e-01 1.97841110e-03 9.00552655e-12]\n",
            " [2.62265325e-04 9.62738315e-01 1.33957125e-02]\n",
            " [1.04641677e-06 3.14844810e-03 9.98874289e-01]\n",
            " [9.90196921e-04 9.92617818e-01 1.04137204e-03]\n",
            " [1.34736163e-04 8.94742188e-01 4.82073510e-02]\n",
            " [1.05321159e-06 3.20147839e-03 9.98856392e-01]\n",
            " [9.98238945e-01 8.30081691e-03 3.09109924e-11]\n",
            " [1.81700442e-05 2.38907888e-01 7.45989648e-01]\n",
            " [9.98502177e-01 5.53520747e-03 2.75845807e-11]\n",
            " [1.26432187e-06 4.31346961e-03 9.98356610e-01]\n",
            " [1.03575501e-05 1.59957031e-01 9.02086409e-01]\n",
            " [3.91935193e-06 2.47306269e-02 9.85127950e-01]\n",
            " [1.34674844e-06 5.58245068e-03 9.98121449e-01]\n",
            " [1.24256487e-06 4.08825741e-03 9.98446615e-01]\n",
            " [9.98409640e-01 7.08443908e-03 2.84747447e-11]\n",
            " [9.98016214e-01 1.02068032e-02 3.50014635e-11]]\n",
            "Iterations until Convergence: 334.6\n",
            "Training Set Accuracy: 0.9733333333333333\n",
            "Test Set Accuracy: 0.9800000000000001\n"
          ]
        }
      ],
      "source": [
        "#Iris with no regularization\n",
        "iris = load_iris()\n",
        "data = iris.data\n",
        "target = iris.target\n",
        "\n",
        "y = pd.get_dummies(target).values\n",
        "\n",
        "iterations = []\n",
        "training_accuracy = []\n",
        "test_accuracy = []\n",
        "\n",
        "for _ in range(5):\n",
        "  X_train, X_test, y_train, y_test = train_test_split(data, y, test_size=0.2, random_state=42)\n",
        "\n",
        "  mlp = MLPClassifier(hidden_layer_sizes=64, activation='logistic', solver='sgd', alpha=0, batch_size=1, learning_rate_init=0.01, shuffle=True, momentum=0, n_iter_no_change=50, max_iter=10000).fit(X_train, y_train)\n",
        "\n",
        "  iterations.append(mlp.n_iter_)\n",
        "  training_accuracy.append(mlp.score(X_train, y_train))\n",
        "  test_accuracy.append(mlp.score(X_test, y_test))\n",
        "\n",
        "print(f'Softmax Probabilities: {mlp.predict_proba(X_test)}')\n",
        "print(f'Iterations until Convergence: {np.mean(iterations)}')\n",
        "print(f'Training Set Accuracy: {np.mean(training_accuracy)}')\n",
        "print(f'Test Set Accuracy: {np.mean(test_accuracy)}')"
      ]
    },
    {
      "cell_type": "markdown",
      "metadata": {
        "id": "nOZr71K4YzpT"
      },
      "source": [
        "#### Discussion\n",
        "In the markdown cell below, write about your experience training the MLP classifier. Things to cover in your discussion: How long did it take? What was your accuracy on the training set? What was your accuracy on the testing set? Do you see any evidence of overfitting? If so, what could be done to reduce the effects of overfitting?"
      ]
    },
    {
      "cell_type": "markdown",
      "metadata": {
        "id": "KVYW9gj3YzpT"
      },
      "source": [
        "It took about 30 seconds to a minute to run the MLP classifier 5 times. The accuracy for both the training set and testing set ranged each time I ran it, but the ultimate time the training set ended up with 97% accuracy, and the testing set ended up wtih 98% accuracy. As I was running the tests, every so often, one of the sets would come back with 100% accuracy. To me this was a sign of overfitting, because the MLP would be so trained on the data, that it seemed to 'memorize' it enough to have 100% accuracy. A way to reduce this overfitting, would be to have earlier stopping points once the error gets above a certain threshold. We could also reduce the number of hidden nodes. Even with the big dataset, having 64 hidden nodes may be too many. By decreasing the number of hidden nodes it would help the algorithm to not overfit the data. However, with this strategy, we have to be mindful to not underfit the data by finding a good number of hidden nodes to balance out the accuracy of the model."
      ]
    },
    {
      "cell_type": "markdown",
      "metadata": {
        "id": "-LshrjoWYzpT"
      },
      "source": [
        "### 1.2 (10%) Early Stopping (Validation Set)\n",
        "\n",
        "- Do the same as above but this time with early stopping\n",
        "- Use a validation set taken from the training set for your stopping criteria. Using 10-15% of the training set for a validation set is common. You do this simply by setting the MLPClassifier early_stopping, validation_fraction, and n_iter_no_change parameters.\n",
        "- Run it a few times with different training/test splits and give average values for\n",
        "    - Number of iterations until convergence\n",
        "    - Training set accuracy\n",
        "    - Test set accuracy\n",
        "    - Best validation score (MLPClassifer attribute best_validation_score_)\n",
        "- For one run create a graph with validation set accuracy (*y*-axis) vs epochs (*x*-axis). Hint: MLPClassifer attribute validation_scores_\n",
        "\n",
        "Note: Due to the simplicity of and lack of noise in the iris data set you will not see the accuracy improvements that early stopping or loss regularization can give for more complex noisy datasets.  In particular, early stopping will have lower than expected results because with a very small VS taken from a very small training set there is less data to train on and more variance with the VS score.  Thus, you will probably get lower accuracies for VS than normal training for this less typical case.  But at least you will get practice on using early stopping and loss regularization for future data sets."
      ]
    },
    {
      "cell_type": "code",
      "execution_count": 3,
      "metadata": {
        "colab": {
          "base_uri": "https://localhost:8080/"
        },
        "id": "tG4eVZyBYzpT",
        "outputId": "05f335e2-1ba7-44c7-aa07-20e0f93824ae"
      },
      "outputs": [
        {
          "output_type": "stream",
          "name": "stdout",
          "text": [
            "[0.0, 0.0, 0.0, 0.0, 0.3333333333333333, 0.7222222222222222, 0.5555555555555556, 0.6111111111111112, 0.7222222222222222, 0.7222222222222222, 0.7222222222222222, 0.7222222222222222, 0.7222222222222222, 0.7222222222222222, 0.7222222222222222, 0.7222222222222222, 0.7222222222222222, 0.7222222222222222, 0.6666666666666666, 0.7222222222222222, 0.6111111111111112, 0.6111111111111112, 0.6666666666666666, 0.5555555555555556, 0.6111111111111112, 0.7222222222222222, 0.7222222222222222, 0.7222222222222222, 0.7222222222222222, 0.6111111111111112, 0.7222222222222222, 0.6666666666666666, 0.6666666666666666, 0.7222222222222222, 0.7222222222222222, 0.6111111111111112, 0.7222222222222222, 0.7222222222222222, 0.7222222222222222, 0.7222222222222222, 0.7222222222222222, 0.7222222222222222, 0.7222222222222222, 0.7222222222222222, 0.7222222222222222, 0.7222222222222222, 0.7222222222222222, 0.7777777777777778, 0.7222222222222222, 0.7222222222222222, 0.7222222222222222, 0.7777777777777778, 0.7777777777777778, 0.7222222222222222, 0.8333333333333334, 0.7222222222222222, 0.7222222222222222, 0.8888888888888888, 0.7222222222222222, 0.8888888888888888, 0.7222222222222222, 0.8888888888888888, 0.7777777777777778, 0.8888888888888888, 0.9444444444444444, 0.7222222222222222, 0.8888888888888888, 0.7777777777777778, 0.8888888888888888, 0.8888888888888888, 0.8333333333333334, 0.8888888888888888, 0.8888888888888888, 0.8888888888888888, 0.8888888888888888, 0.8888888888888888, 0.8888888888888888, 0.8888888888888888, 0.8888888888888888, 0.8888888888888888, 0.8888888888888888, 0.8888888888888888, 0.9444444444444444, 0.8888888888888888, 0.8888888888888888, 0.8888888888888888, 0.9444444444444444, 0.8888888888888888, 0.8888888888888888, 0.8888888888888888, 0.8888888888888888, 0.8888888888888888, 0.8888888888888888, 0.8888888888888888, 0.8888888888888888, 0.8888888888888888, 0.8888888888888888, 0.8888888888888888, 0.9444444444444444, 0.8888888888888888, 0.8888888888888888, 0.8888888888888888, 0.8888888888888888, 0.8888888888888888, 0.8888888888888888, 0.8888888888888888, 0.9444444444444444, 0.8888888888888888, 0.8888888888888888, 0.8888888888888888, 0.8888888888888888, 0.8888888888888888, 0.9444444444444444, 0.8888888888888888, 0.8888888888888888, 0.8888888888888888]\n",
            "Iterations until Convergence: 105.0\n",
            "Training Set Accuracy: 0.8683333333333334\n",
            "Test Set Accuracy: 0.8733333333333334\n",
            "Validation Score: 0.9\n"
          ]
        }
      ],
      "source": [
        "#Iris with early stopping and validation scores graph\n",
        "iris = load_iris()\n",
        "data = iris.data\n",
        "target = iris.target\n",
        "\n",
        "y = pd.get_dummies(target).values\n",
        "\n",
        "iterations = []\n",
        "training_accuracy = []\n",
        "test_accuracy = []\n",
        "validation_score = []\n",
        "\n",
        "for _ in range(5):\n",
        "  X_train, X_test, y_train, y_test = train_test_split(data, y, test_size=0.2, random_state=42)\n",
        "\n",
        "  mlp = MLPClassifier(hidden_layer_sizes=64, activation='logistic', solver='sgd', alpha=0, batch_size=1,\n",
        "                      learning_rate_init=0.01, shuffle=True, momentum=0, early_stopping=True, validation_fraction=0.15,\n",
        "                      n_iter_no_change=50, max_iter=10000)\n",
        "  mlp.fit(X_train, y_train)\n",
        "\n",
        "  iterations.append(mlp.n_iter_)\n",
        "  training_accuracy.append(mlp.score(X_train, y_train))\n",
        "  test_accuracy.append(mlp.score(X_test, y_test))\n",
        "  validation_score.append(mlp.best_validation_score_)\n",
        "\n",
        "print(mlp.validation_scores_)\n",
        "print(f'Iterations until Convergence: {np.mean(iterations)}')\n",
        "print(f'Training Set Accuracy: {np.mean(training_accuracy)}')\n",
        "print(f'Test Set Accuracy: {np.mean(test_accuracy)}')\n",
        "print(f'Validation Score: {np.mean(validation_score)}')"
      ]
    },
    {
      "cell_type": "markdown",
      "metadata": {
        "id": "Jbu2z3QvYzpT"
      },
      "source": [
        "#### Discussion\n",
        "Report on the average number of iterations until convergence. What is the effect of the use of the validation set and early stopping on training set accuracy and testing set accuracy? What do you attribute the performance change to? What do you see in the validation scores graph?"
      ]
    },
    {
      "cell_type": "markdown",
      "metadata": {
        "id": "ZNMATZqjtlxs"
      },
      "source": [
        "When I ran the normal iterations of the MLP without the early stop, it always averaged out to about 300 iterations, when with the early stop it averaged out to about 100-130 iterations each time it ran. While the accuracy of the early stop trial did decrease slightly when compared to the normal trails, the decrease in iterations until convergence didn't have a substantial effect on the overall accuracy of the program. The training set accuracy did decrease by a few points, but the testing set accuracy remained similar to the original trials. This is probably because some of the data was taken for a validation set, so not all of the training data was being used to train the algorithm. The validation scores graph starts with 0% accuracy, and then approaches 100% accuracy as the algorithm converges. It is interesting to note, that the algorithm didn't stop when the validation set hit 100%, but kept going until the validation set had achieved 100% accuracy multiple times, and the scores weren't improving by much."
      ]
    },
    {
      "cell_type": "markdown",
      "metadata": {
        "id": "XHgneb2VYzpT"
      },
      "source": [
        "### 1.3 (10%) Loss Regularization\n",
        "\n",
        "- Do the same as in 1.1 but his time with loss regularization (Do not do early stopping)\n",
        "- Run it with different L2 regularization parameter values (alpha).  The default for alpha is .0001.  Try other values such as .1, .01, .001, .00001, etc. Make a table with each row including:\n",
        "    - The regularization parameter value\n",
        "    - Number of iterations until convergence\n",
        "    - Training set accuracy\n",
        "    - Test set accuracy\n",
        "    - Best loss value (MLPClassifer attribute best_loss_)\n",
        "- Which regularization value gave you the best results?\n",
        "- For your best regularization value do one run and create a graph with loss (*y*-axis) vs epochs (*x*-axis) for the training set (Hint: MLPClassifer attribute loss_curve_)"
      ]
    },
    {
      "cell_type": "code",
      "execution_count": 4,
      "metadata": {
        "colab": {
          "base_uri": "https://localhost:8080/",
          "height": 776
        },
        "id": "G3eaQL1cYzpU",
        "outputId": "370bc497-8ed0-42d1-e13d-a2c6a03e8832"
      },
      "outputs": [
        {
          "output_type": "stream",
          "name": "stdout",
          "text": [
            "          Iterations until Convergence  Training Set Accuracy  \\\n",
            "0.000000                           322               0.925000   \n",
            "0.100000                            89               0.566667   \n",
            "0.010000                           302               0.950000   \n",
            "0.001000                           220               0.966667   \n",
            "0.000100                           272               0.966667   \n",
            "0.000010                           291               0.975000   \n",
            "0.000001                           290               0.958333   \n",
            "\n",
            "          Test Set Accuracy  Best Loss Value  \n",
            "0.000000           0.866667         0.123715  \n",
            "0.100000           0.633333         1.650008  \n",
            "0.010000           0.900000         0.780075  \n",
            "0.001000           0.966667         0.261033  \n",
            "0.000100           0.966667         0.155746  \n",
            "0.000010           0.966667         0.112917  \n",
            "0.000001           0.900000         0.133014  \n"
          ]
        },
        {
          "output_type": "display_data",
          "data": {
            "text/plain": [
              "<Figure size 640x480 with 1 Axes>"
            ],
            "image/png": "[encoded data removed]"
          },
          "metadata": {}
        }
      ],
      "source": [
        "#Iris with Loss Regularization\n",
        "from collections import defaultdict\n",
        "\n",
        "iris = load_iris()\n",
        "data = iris.data\n",
        "target = iris.target\n",
        "\n",
        "y = pd.get_dummies(target).values\n",
        "\n",
        "alpha_values = [0, .1, .01, .001, .0001, .00001, .000001]\n",
        "\n",
        "results = defaultdict(list)\n",
        "\n",
        "best_accuracy = 0\n",
        "best_mlp = None\n",
        "best_alpha = 0\n",
        "best_loss = 1\n",
        "\n",
        "for i in alpha_values:\n",
        "  X_train, X_test, y_train, y_test = train_test_split(data, y, test_size=0.2, random_state=42)\n",
        "\n",
        "  mlp = MLPClassifier(hidden_layer_sizes=64, activation='logistic', solver='sgd', alpha=i, batch_size=1,\n",
        "                      learning_rate_init=0.01, shuffle=True, momentum=0, n_iter_no_change=50, max_iter=10000)\n",
        "  mlp.fit(X_train, y_train)\n",
        "\n",
        "  results[i].append(mlp.n_iter_)\n",
        "  results[i].append(mlp.score(X_train, y_train))\n",
        "  test_Acc = mlp.score(X_test, y_test)\n",
        "  results[i].append(test_Acc)\n",
        "  loss = mlp.best_loss_\n",
        "  results[i].append(loss)\n",
        "\n",
        "  if test_Acc >= best_accuracy and loss < best_loss:\n",
        "    best_accuracy = test_Acc\n",
        "    best_mlp = mlp\n",
        "    best_alpha = i\n",
        "    best_loss = loss\n",
        "\n",
        "df = pd.DataFrame.from_dict(results, orient=\"index\")\n",
        "df.columns = [\"Iterations until Convergence\", \"Training Set Accuracy\", \"Test Set Accuracy\", \"Best Loss Value\"]\n",
        "print(df)\n",
        "\n",
        "plt.plot(best_mlp.loss_curve_)\n",
        "plt.title(f\"Best Loss v Epochs; Alpha = {best_alpha}\")\n",
        "plt.xlabel(\"epochs\")\n",
        "plt.ylabel(\"loss\")\n",
        "plt.show()"
      ]
    },
    {
      "cell_type": "markdown",
      "metadata": {
        "id": "MRi2SWYFYzpU"
      },
      "source": [
        "#### Discussion\n",
        "Write about which regularization method gave you the best results and why you think that happened. Also compare: no regularization, early stopping, and L2 loss regularization."
      ]
    },
    {
      "cell_type": "markdown",
      "metadata": {
        "id": "nCx4oVIxYzpU"
      },
      "source": [
        "The best regularization method was always one of the trials with one of the smallest alpha values. The smaller the value got the stronger the L2 regularization term become, causing the loss to decrease. This then caused the lower regularization terms to have the better accuracy values. The training set accuracy stayed about the same over each trial, but the text accuracy increased when using the L2 loss regularization. This suggests that the alpha value has a greater influence on the accuracy of the algorithm than the early stopping parameter."
      ]
    },
    {
      "cell_type": "markdown",
      "metadata": {
        "id": "mOteTlV6S0bq"
      },
      "source": [
        "## 2 Hyperparameters\n",
        "In this section we use the [Vowel Dataset](https://raw.githubusercontent.com/cs472ta/CS472/master/datasets/vowel.arff) to consider the hyperparameters of learning rate, number of hidden nodes, and momentum.\n",
        "\n",
        "### 2.1 (10%) Vowel Dataset Questions\n",
        "- Give the baseline accuracies for the Iris and Vowel datasets. Baseline accuracy is what you would get if the model just outputs the majority class of the data set (i.e. the output value which occurs most often). These two data sets are not great examples for this as they have an equal amount of each class, which is not typical.\n",
        "- Discuss why the vowel data set will probably have lower accuracy than Iris.\n",
        "- Consider which of the vowel dataset's input features you should not use in training and discuss why."
      ]
    },
    {
      "cell_type": "markdown",
      "metadata": {
        "id": "qmq9GSbJS8k2"
      },
      "source": [
        "Since the two datasets have equal amounts of each class the baseline accuracy of the Iris data set is 33.3% because there are 3 classes. The Vowel dataset has a baseline accuracy of about 9.1% because there are 11 classes. The vowel set will have a lower accuracy than the Iris because there are more classes that it has to train for. Therefore, it's base accuracy cis based on the number of classes it has, and since it has more than the Iris dataset, it has a lower base accuracy. The input features that seem irrelevant are the speaker number, the sex of the speaker and Train or Test value. These features do not carry meaningful patterns when looking at the vowel data, but instead are participant identifiers that can be ignored when training the model."
      ]
    },
    {
      "cell_type": "markdown",
      "metadata": {
        "id": "SIRG42TgSR4x"
      },
      "source": [
        "### 2.2 (10%) Learning Rate\n",
        "Load the [Vowel Dataset](https://raw.githubusercontent.com/cs472ta/CS472/master/datasets/vowel.arff). Drop any features which you explained above as being inappropriate for training.\n",
        "\n",
        "Hints: Consider the Pandas drop method for dropping columns. When you want to transform features in your data set there are lots of approaches. You could edit the arff file directly, or make the transforms in your code.  The Pandas replace method is nice for that. For example, if you wanted to change the vowel data set gender feature in a Pandas dataframe to 0/1 you could do the following:\n",
        "\n",
        "vowel_df['Sex'] = vowel_df['Sex'].str.decode('utf-8')   //Changes the byte code data into a normal string, b'Male' becomes \"Male\"\\\n",
        "vowel_df = vowel_df.replace('Male', 0)\\\n",
        "vowel_df = vowel_df.replace('Female', 1)\n",
        "\n",
        "- Use one layer of hidden nodes with the number of hidden nodes being twice the number of inputs.\n",
        "- Use a random 75/25 split of the data for the training/test set.\n",
        "- Do not use early stopping.\n",
        "- Try at least 5 different learning rates (LR) from very small (e.g. .001) to pretty big (e.g. 10). Each LR will require a different number of epochs to learn. LR effects both accuracy and time required for learning.\n",
        "- Create a table which includes a row for each LR.  Your table columns should be LR, # epochs to learn the model, final training set accuracy and final test set accuracy.  As learning rates get smaller, it usually takes more epochs to learn. If your model is stopping learning too soon (converging) by hitting max_iterations (in this case and in experiments below), then you need to increase your max_iterations parameter in order to give your model more learning time.  To keep things faster, you don't need to increase max_iter past 1000 if you don't want to, but point out when more iterations may have given improvement.\n",
        "\n",
        "In real testing one averages the results of multiple trials per LR (and other parameters) with different intitial conditions (training/test split, initial weights, etc.). That gives more accurate results but is not required for this lab."
      ]
    },
    {
      "cell_type": "code",
      "execution_count": 5,
      "metadata": {
        "id": "KBGUn43ASiXW",
        "colab": {
          "base_uri": "https://localhost:8080/"
        },
        "outputId": "8b624fef-176f-4b61-8e0f-32f9f481c23a"
      },
      "outputs": [
        {
          "output_type": "stream",
          "name": "stderr",
          "text": [
            "/usr/local/lib/python3.11/dist-packages/sklearn/neural_network/_multilayer_perceptron.py:691: ConvergenceWarning: Stochastic Optimizer: Maximum iterations (1000) reached and the optimization hasn't converged yet.\n",
            "  warnings.warn(\n",
            "/usr/local/lib/python3.11/dist-packages/sklearn/neural_network/_multilayer_perceptron.py:691: ConvergenceWarning: Stochastic Optimizer: Maximum iterations (1000) reached and the optimization hasn't converged yet.\n",
            "  warnings.warn(\n",
            "/usr/local/lib/python3.11/dist-packages/sklearn/neural_network/_multilayer_perceptron.py:691: ConvergenceWarning: Stochastic Optimizer: Maximum iterations (1000) reached and the optimization hasn't converged yet.\n",
            "  warnings.warn(\n"
          ]
        },
        {
          "output_type": "stream",
          "name": "stdout",
          "text": [
            "         Iterations until Convergence  Training Set Accuracy  \\\n",
            "0.0001                           1000               0.041779   \n",
            "0.0010                           1000               0.510782   \n",
            "0.0100                           1000               0.920485   \n",
            "0.1000                            770               0.962264   \n",
            "1.0000                            262               0.500000   \n",
            "10.0000                           119               0.101078   \n",
            "\n",
            "         Test Set Accuracy  \n",
            "0.0001            0.048387  \n",
            "0.0010            0.383065  \n",
            "0.0100            0.758065  \n",
            "0.1000            0.790323  \n",
            "1.0000            0.423387  \n",
            "10.0000           0.060484  \n"
          ]
        }
      ],
      "source": [
        "# Train with different learning rates\n",
        "from scipy.io import arff\n",
        "\n",
        "data, meta = arff.loadarff(\"vowel_dataset.arff\")\n",
        "df = pd.DataFrame(data)\n",
        "df = df.map(lambda x: x.decode(\"utf-8\") if isinstance(x, bytes) else x)\n",
        "df = df.drop(columns=[\"Train or Test\", \"Speaker Number\", \"Sex\"])\n",
        "target_col = \"Class\"\n",
        "y = pd.get_dummies(df[target_col]).values\n",
        "X = df.drop(columns=[target_col]).values\n",
        "\n",
        "lr_values = [0.0001, .001, .01, .1, 1.0, 10.0]\n",
        "\n",
        "results = defaultdict(list)\n",
        "\n",
        "for i in lr_values:\n",
        "  X_train, X_test, y_train, y_test = train_test_split(X, y, test_size=0.25, random_state=42)\n",
        "\n",
        "  mlp = MLPClassifier(hidden_layer_sizes=22, activation='logistic', solver='sgd', alpha=0, batch_size=1,\n",
        "                      learning_rate_init=i, shuffle=True, momentum=0, n_iter_no_change=50, max_iter=1000)\n",
        "  mlp.fit(X_train, y_train)\n",
        "\n",
        "  results[i].append(mlp.n_iter_)\n",
        "  results[i].append(mlp.score(X_train, y_train))\n",
        "  results[i].append(mlp.score(X_test, y_test))\n",
        "\n",
        "\n",
        "df2 = pd.DataFrame.from_dict(results, orient=\"index\")\n",
        "df2.columns = [\"Iterations until Convergence\", \"Training Set Accuracy\", \"Test Set Accuracy\"]\n",
        "print(df2)"
      ]
    },
    {
      "cell_type": "markdown",
      "metadata": {
        "id": "xpjJBIwktlxt"
      },
      "source": [
        "#### Discussion\n",
        "Discuss your table and the effect of different learning rates on both training time and accuracy"
      ]
    },
    {
      "cell_type": "markdown",
      "metadata": {
        "id": "F7eRRZDgYzpU"
      },
      "source": [
        "While the higher learning rates caused the model to converge in a lot less epochs, the accuracy of the model decreased substancially. I was really surprized by how quickly the accuracy declined once the model was given higher learning rates. Having a smaller learning rate did cause the model to run a lot slower then having a larger learning rate. The smaller learning rates did hit the maximum number of iterations so having more iterations for those values would have improved the accuracy of these tests. I thought it was interesting that the accuracy peaked with a learning rate of .1 as opposed to the default value of 0.01. While the test accuracy stayed the same, the training accuracy found it's peak with this value, and it had substantially less epochs that the default learning rate value. So this value not only maximizes accuracy, but also helps to decrease the time of the model."
      ]
    },
    {
      "cell_type": "markdown",
      "metadata": {
        "id": "A-nUu5Txtlxt"
      },
      "source": [
        "### 2.3 (10%) Number of Hidden Nodes\n",
        "\n",
        "Using the best LR you discovered, experiment with different numbers of hidden nodes.\n",
        "\n",
        "- Start with 1 hidden node, then 2, and then double them for each test until you get no more improvement in accuracy.\n",
        "- Create a table just like above, except with # of hidden nodes rather than LR.\n",
        "\n",
        "In general, whenever you are testing a parameter such as # of hidden nodes, keep testing values until no more improvement is found. For example, if 20 hidden nodes did better than 10, you would not stop at 20, but would try 40, etc., until you no longer got improvement."
      ]
    },
    {
      "cell_type": "code",
      "execution_count": 6,
      "metadata": {
        "id": "uLqeA1iutlxt",
        "colab": {
          "base_uri": "https://localhost:8080/"
        },
        "outputId": "1cba6c90-c07a-4cbd-a6e8-98bf0ed587b0"
      },
      "outputs": [
        {
          "output_type": "stream",
          "name": "stdout",
          "text": [
            "     Iterations until Convergence  Training Set Accuracy  Test Set Accuracy\n",
            "1                             313               0.000000           0.000000\n",
            "2                             176               0.150943           0.088710\n",
            "4                             287               0.285714           0.213710\n",
            "8                             217               0.703504           0.548387\n",
            "16                            330               0.878706           0.697581\n",
            "32                            839               1.000000           0.834677\n",
            "64                            633               1.000000           0.870968\n",
            "128                           554               1.000000           0.887097\n"
          ]
        }
      ],
      "source": [
        "# Train with different numbers of hidden nodes\n",
        "from scipy.io import arff\n",
        "\n",
        "data, meta = arff.loadarff(\"vowel_dataset.arff\")\n",
        "df = pd.DataFrame(data)\n",
        "df = df.map(lambda x: x.decode(\"utf-8\") if isinstance(x, bytes) else x)\n",
        "df = df.drop(columns=[\"Train or Test\", \"Speaker Number\", \"Sex\"])\n",
        "target_col = \"Class\"\n",
        "y = pd.get_dummies(df[target_col]).values\n",
        "X = df.drop(columns=[target_col]).values\n",
        "\n",
        "hidden_nodes = [1, 2, 4, 8, 16, 32, 64, 128]\n",
        "\n",
        "results = defaultdict(list)\n",
        "\n",
        "for i in hidden_nodes:\n",
        "  X_train, X_test, y_train, y_test = train_test_split(X, y, test_size=0.25, random_state=42)\n",
        "\n",
        "  mlp = MLPClassifier(hidden_layer_sizes=i, activation='logistic', solver='sgd', alpha=0, batch_size=1,\n",
        "                      learning_rate_init=0.1, shuffle=True, momentum=0, n_iter_no_change=50, max_iter=1000)\n",
        "  mlp.fit(X_train, y_train)\n",
        "\n",
        "  results[i].append(mlp.n_iter_)\n",
        "  results[i].append(mlp.score(X_train, y_train))\n",
        "  results[i].append(mlp.score(X_test, y_test))\n",
        "\n",
        "\n",
        "df2 = pd.DataFrame.from_dict(results, orient=\"index\")\n",
        "df2.columns = [\"Iterations until Convergence\", \"Training Set Accuracy\", \"Test Set Accuracy\"]\n",
        "print(df2)"
      ]
    },
    {
      "cell_type": "markdown",
      "metadata": {
        "id": "CLliSMtXtlxt"
      },
      "source": [
        "#### Discussion\n",
        "Discuss your table and the effect of different numbers of hidden nodes on both training time and accuracy"
      ]
    },
    {
      "cell_type": "markdown",
      "metadata": {
        "id": "HLwOIPccYzpU"
      },
      "source": [
        "The more hidden nodes the model has, the longer the algorithm takes. The accuracy did improve with each increase in hidden nodes but reached a cap in accuracy once the number of hidden nodes became 6x the amount of input values. There was even high accuracy with 32 hidden nodes that would run faster than having 64 or 128 hidden nodes for some of the iterations. The 64 node trial had the highest test accuracy however, so this would probably be the most optimal option for getting the highest accuracy with the current max iterations. Sometimes when I ran the model the larger numbers of hidden nodes hit the max iteration number. To increase the testing accuracy of the model, the max iterations would probably have to be increased so these trials with higher numbers of hidden nodes would be able to run until convergence."
      ]
    },
    {
      "cell_type": "markdown",
      "metadata": {
        "id": "v72ryeHXtlxu"
      },
      "source": [
        "### 2.4 (10%) Momentum\n",
        "\n",
        "Try at least 5 different momentum terms between 0 and just less than 1 using the best number of hidden nodes and LR from your earlier experiments.\n",
        "\n",
        "- Create a table just like above, except with momentum values rather than LR or number of hidden nodes."
      ]
    },
    {
      "cell_type": "code",
      "execution_count": 7,
      "metadata": {
        "id": "yiEBTL6Vtlxu",
        "colab": {
          "base_uri": "https://localhost:8080/"
        },
        "outputId": "1c6f7f65-56f6-4507-c32e-243f7116fb5b"
      },
      "outputs": [
        {
          "output_type": "stream",
          "name": "stdout",
          "text": [
            "     Iterations until Convergence  Training Set Accuracy  Test Set Accuracy\n",
            "0.0                           566               1.000000           0.870968\n",
            "0.2                           524               1.000000           0.883065\n",
            "0.4                           415               1.000000           0.854839\n",
            "0.6                           149               0.960916           0.846774\n",
            "0.8                           259               0.900270           0.778226\n"
          ]
        }
      ],
      "source": [
        "# Train with different momentum values\n",
        "from scipy.io import arff\n",
        "\n",
        "data, meta = arff.loadarff(\"vowel_dataset.arff\")\n",
        "df = pd.DataFrame(data)\n",
        "df = df.map(lambda x: x.decode(\"utf-8\") if isinstance(x, bytes) else x)\n",
        "df = df.drop(columns=[\"Train or Test\", \"Speaker Number\", \"Sex\"])\n",
        "target_col = \"Class\"\n",
        "y = pd.get_dummies(df[target_col]).values\n",
        "X = df.drop(columns=[target_col]).values\n",
        "\n",
        "momentum = [0, .2, .4, .6, .8]\n",
        "\n",
        "results = defaultdict(list)\n",
        "\n",
        "for i in momentum:\n",
        "  X_train, X_test, y_train, y_test = train_test_split(X, y, test_size=0.25, random_state=42)\n",
        "\n",
        "  mlp = MLPClassifier(hidden_layer_sizes=64, activation='logistic', solver='sgd', alpha=0, batch_size=1,\n",
        "                      learning_rate_init=0.1, shuffle=True, momentum=i, n_iter_no_change=50, max_iter=1000)\n",
        "  mlp.fit(X_train, y_train)\n",
        "\n",
        "  results[i].append(mlp.n_iter_)\n",
        "  results[i].append(mlp.score(X_train, y_train))\n",
        "  results[i].append(mlp.score(X_test, y_test))\n",
        "\n",
        "\n",
        "df2 = pd.DataFrame.from_dict(results, orient=\"index\")\n",
        "df2.columns = [\"Iterations until Convergence\", \"Training Set Accuracy\", \"Test Set Accuracy\"]\n",
        "print(df2)"
      ]
    },
    {
      "cell_type": "markdown",
      "metadata": {
        "id": "LqidhekCtlxu"
      },
      "source": [
        "#### Discussion\n",
        "Discuss your table and the effect of momentum on both training time and accuracy"
      ]
    },
    {
      "cell_type": "markdown",
      "metadata": {
        "id": "X1bQ-Y1TYzpV"
      },
      "source": [
        "The biggest effect the change in momentum values had on the dataset was how many iterations it took to converge. It wasn't until the momentum got close to 1 that the accuracy started to substantially decrease. This indicats that optimizing the hidden nodes and learning rate for accuracy, can then be optimized for time with the momentum value. The highest accuracy with the smallest amount of iterations till convergence had a 0.4 momentum value."
      ]
    },
    {
      "cell_type": "markdown",
      "metadata": {
        "id": "7hHxNgUCtlxv"
      },
      "source": [
        "### 2.5 (10%) Automatic Hyperparameter Discovery\n",
        "Using the vowel dataset, automatically adjust the LR, # of hidden nodes, and momentum using [grid and random search](https://scikit-learn.org/stable/modules/grid_search.html)\n",
        "- For grid search include the most promising hyperparameter values you used in your experiments above.  You may add others also.\n",
        "- Be patient as the grid search can take a while since it has to train all combinations of models. Don't use too many parameter options or it will be too slow.\n",
        "- Report your best hyperparameters and accuracy.  Unfortunately, you will not always get as high a score as you might expect.  This is in part due to the simplicity of the dataset.  It also teaches that in gerneral you should not blindly assume that a tool will get you the results you expect, and that you may need to consider multiple approaches."
      ]
    },
    {
      "cell_type": "code",
      "execution_count": 8,
      "metadata": {
        "colab": {
          "base_uri": "https://localhost:8080/"
        },
        "id": "8Llnh_qKYzpV",
        "outputId": "099decc8-00df-4f2e-bf61-52f2ac1b697a"
      },
      "outputs": [
        {
          "output_type": "stream",
          "name": "stdout",
          "text": [
            "{'hidden_layer_sizes': [64], 'learning_rate_init': 0.1, 'momentum': 0.4}\n",
            "0.7436430220523844\n"
          ]
        }
      ],
      "source": [
        "#Grid search for hyperparameters.\n",
        "#Here is one variation of code you could use for your grid search. You can try your own variation if you prefer.\n",
        "from sklearn.model_selection import GridSearchCV\n",
        "\n",
        "data, meta = arff.loadarff(\"vowel_dataset.arff\")\n",
        "df = pd.DataFrame(data)\n",
        "df = df.map(lambda x: x.decode(\"utf-8\") if isinstance(x, bytes) else x)\n",
        "df = df.drop(columns=[\"Train or Test\", \"Speaker Number\", \"Sex\"])\n",
        "target_col = \"Class\"\n",
        "y = pd.get_dummies(df[target_col]).values\n",
        "X = df.drop(columns=[target_col]).values\n",
        "\n",
        "X_train, X_test, y_train, y_test = train_test_split(X, y, test_size=0.20, random_state=42)\n",
        "\n",
        "clf = MLPClassifier(activation='logistic', solver='sgd',alpha=0,early_stopping=True, n_iter_no_change=10, batch_size=1)\n",
        "parameters = {'learning_rate_init':( .001, .01, .1), #You have to fill in the rest of your values for these lists\n",
        "              'hidden_layer_sizes': ([8], [32], [64]),\n",
        "              'momentum':(0, .2, .4)}\n",
        "grid = GridSearchCV(clf, parameters)\n",
        "grid.fit(X_train, y_train)    #This takes a while to run\n",
        "print(grid.best_params_)\n",
        "print(grid.best_score_)"
      ]
    },
    {
      "cell_type": "code",
      "execution_count": 9,
      "metadata": {
        "colab": {
          "base_uri": "https://localhost:8080/"
        },
        "id": "fzI9sD8JYzpV",
        "outputId": "cdc8c47c-fbbf-4010-8435-59a7ba287c66"
      },
      "outputs": [
        {
          "output_type": "stream",
          "name": "stdout",
          "text": [
            "{'hidden_layer_sizes': [64], 'learning_rate_init': 0.023539725162458315, 'momentum': 0.8758196188371218}\n",
            "0.730913143857973\n"
          ]
        }
      ],
      "source": [
        "#Randomized search for hyperparameters\n",
        "#Here is one variation of code you could use for your randomized search.\n",
        "\n",
        "from sklearn.model_selection import RandomizedSearchCV\n",
        "from scipy.stats import uniform\n",
        "\n",
        "data, meta = arff.loadarff(\"vowel_dataset.arff\")\n",
        "df = pd.DataFrame(data)\n",
        "df = df.map(lambda x: x.decode(\"utf-8\") if isinstance(x, bytes) else x)\n",
        "df = df.drop(columns=[\"Train or Test\", \"Speaker Number\", \"Sex\"])\n",
        "target_col = \"Class\"\n",
        "y = pd.get_dummies(df[target_col]).values\n",
        "X = df.drop(columns=[target_col]).values\n",
        "\n",
        "X_train, X_test, y_train, y_test = train_test_split(X, y, test_size=0.20, random_state=42)\n",
        "\n",
        "clf = MLPClassifier(activation='logistic', solver='sgd',alpha=0,early_stopping=True, n_iter_no_change=10, batch_size=1)\n",
        "distributions = dict(learning_rate_init=uniform(loc=0, scale=.1), #loc is the min val, and loc + scale is the max val\n",
        "                    hidden_layer_sizes = ([8], [32], [64]), #since there is no distribution it samples these values uniformly\n",
        "                    momentum=uniform(loc=0,scale =.99))\n",
        "search = RandomizedSearchCV(clf, distributions, n_iter=10)\n",
        "search.fit(X_train, y_train)\n",
        "print(search.best_params_)\n",
        "print(search.best_score_)"
      ]
    },
    {
      "cell_type": "markdown",
      "metadata": {
        "id": "BqSFAXwlk3Ms"
      },
      "source": [
        "#### Discussion\n",
        "Write about and compare grid and randomized parameter search. How much time do they take? Which is more efficient or accurate? When should you use each?"
      ]
    },
    {
      "cell_type": "markdown",
      "metadata": {
        "id": "3nCQPehQYzpV"
      },
      "source": [
        "The randomized paramter search was more accurate overall than the grid search, but they both ended up taking about the same time. Both searches ended with 64 hidden layers being the optimal amount, which was what I found during my own trials. It was interesting to see that the learning rate was around the same value for both types of searches for some of the times I ran the model. The biggest difference between the two trials was the momentum values. Since the random search searches through a spectrum of values, it is more likely to find a specific value that will optimize the model. The grid search relies on discrete values that I had to input for each parameter. The randomized search is more accurate overall because it can search through a spectrum of parameters rather than a discrete list. The grid search is helpful if you already know values that will optimize the model. The randomized search should be used when you know the range the optimized values should be in, as then it will find the optimal values from those ranges."
      ]
    },
    {
      "cell_type": "markdown",
      "metadata": {
        "id": "lIM0rEA9tlxu"
      },
      "source": [
        "## 3 Regression with MLPs\n",
        "\n",
        "### 3.1 (10%) - Learn a regression data set of your choice\n",
        "\n",
        "Train MLP on any real world data set that requires regression (i.e. has a real valued ouput) and discuss your effort and results.  While the [Irvine ML Repository](https://archive.ics.uci.edu) is a great resource, also onsider [Kaggle](https://www.kaggle.com) and [OpenML](https://openml.org) as other great places to find datasets.\n",
        "- Use [MLPRegressor](https://scikit-learn.org/stable/modules/generated/sklearn.neural_network.MLPRegressor.html#sklearn.neural_network.MLPRegressor) rather than MLPclassifier.  It has almost the exact same setup as MLPClassier except it uses the linear activation function for the output nodes and SSE as the loss function.  MLPClassier uses softmax activation for the output nodes and cross-entropy for the loss function.\n",
        "- Use any reasonable hyperparameters that you want.  \n",
        "- You will probably need to normalize input features.\n",
        "- It is not typically necessary to normalize the output.\n",
        "- Split into train and test and report the training and test set MAEs (Mean Absolute Error). For regression problems where we don't normalize the output, MAE is an intuitive measure as it shows exactly how much our output is off on average."
      ]
    },
    {
      "cell_type": "code",
      "execution_count": 18,
      "metadata": {
        "id": "OFQv70W2VyqJ",
        "colab": {
          "base_uri": "https://localhost:8080/"
        },
        "outputId": "87f1d2d4-de1d-4b3d-c56f-3eaf6ef8b818"
      },
      "outputs": [
        {
          "output_type": "stream",
          "name": "stdout",
          "text": [
            "Training MAE:\n",
            "0.3690185112476578\n",
            "Test MAE:\n",
            "0.40865239129018444\n"
          ]
        }
      ],
      "source": [
        "# Load and Learn a real world regression data set\n",
        "# To calculate MAE you could do a variation of the following\n",
        "\n",
        "from sklearn.metrics import mean_absolute_error\n",
        "from sklearn.neural_network import MLPRegressor\n",
        "from sklearn.preprocessing import StandardScaler\n",
        "\n",
        "data, meta = arff.loadarff(\"dataset_8_liver-disorders.arff\")\n",
        "df = pd.DataFrame(data)\n",
        "target_col = \"selector\"\n",
        "y = df[target_col].values\n",
        "X = df.drop(columns=[target_col]).values\n",
        "\n",
        "X_train, X_test, y_train, y_test = train_test_split(X, y, test_size=0.20, random_state=42)\n",
        "scaler = StandardScaler()\n",
        "X_train = scaler.fit_transform(X_train)\n",
        "X_test = scaler.transform(X_test)\n",
        "\n",
        "clf = MLPRegressor(hidden_layer_sizes=(42), activation='relu', solver='adam', alpha=0.0001, learning_rate='constant',\n",
        "                   learning_rate_init=0.001, max_iter=1000, random_state=42, warm_start=False, momentum=0.9, early_stopping=False)\n",
        "clf.fit(X_train, y_train)\n",
        "\n",
        "print('Training MAE:')\n",
        "print(mean_absolute_error(clf.predict(X_train), y_train))\n",
        "print('Test MAE:')\n",
        "print(mean_absolute_error(clf.predict(X_test), y_test))"
      ]
    },
    {
      "cell_type": "markdown",
      "metadata": {
        "id": "LHzPcyeHYzpV"
      },
      "source": [
        "#### Discussion\n",
        "Report on your choice of data set and your results. How does the MLPRegressor differ from the MLPClassifier? What are their respective uses? What lessons from above did you use?"
      ]
    },
    {
      "cell_type": "markdown",
      "metadata": {
        "id": "j6PvbrCdYzpW"
      },
      "source": [
        "I chose the liver dataset from the OpenML to run the regression on. The regessor worked well on this dataset and seemed to return a small error margin for both the training and test sets of data. The activation function and loss functions are different from the Classification model, making it so the data needs to be normalized before it can be inputed into the model. It seems that the Classifier is more applicable to data that has more discrete categories, while the Regressor works better on data that has more continuous values. The lessons I used in this part were to keep the number of hidden nodes proportional to the input. Because the optimal number of nodes from the classifer was 6x the amount of input values, I decided to apply that same proportion to this model. I also applied my previous max iteration value and kept the learning rate low to maximize accuracy."
      ]
    },
    {
      "cell_type": "markdown",
      "metadata": {
        "id": "G14hXUjeYzpW"
      },
      "source": [
        "### 3.2 (10%) - Other MLP Hyperparameters\n",
        "With the same data set, you may (not required) experiment with some of the hyperparameters you already did above (LR, hidden nodes, momentum, validation set parameters, regularization).  But for sure experiment with and discuss the results of the first two hyperparameters below (activation functions and multiple hidden layers).  We encourage you to experiment briefly with the others but they are not required.\n",
        "\n",
        "- different hidden layer activation functions (tanh, relu in addition to logistic) - Note that Sklearn does not currently let you choose the output layer activation function.  It is automatically softmax for classification and linear for regression.\n",
        "- more than one hidden layer\n",
        "- solver - try adam and lbfgs in addition to sgd\n",
        "- batch size\n",
        "- learning rate adaptation - this is the schedule parameter which lets LR adapt during learning"
      ]
    },
    {
      "cell_type": "code",
      "execution_count": 20,
      "metadata": {
        "id": "Hu1JE4vStlxv",
        "colab": {
          "base_uri": "https://localhost:8080/"
        },
        "outputId": "8a0287a2-c3db-47c0-d628-08826c33f749"
      },
      "outputs": [
        {
          "output_type": "stream",
          "name": "stdout",
          "text": [
            "relu:\n",
            "Training MAE:\n",
            "0.3690185112476578\n",
            "Test MAE:\n",
            "0.40865239129018444\n",
            "\n",
            "tanh:\n",
            "Training MAE:\n",
            "0.41759130414278\n",
            "Test MAE:\n",
            "0.41359369294462167\n",
            "\n",
            "42 hidden layers\n",
            "Training MAE:\n",
            "0.3690185112476578\n",
            "Test MAE:\n",
            "0.40865239129018444\n",
            "\n",
            "28 hidden layers\n",
            "Training MAE:\n",
            "0.380347913136751\n",
            "Test MAE:\n",
            "0.43812669780581653\n",
            "\n",
            "56 hidden layers\n",
            "Training MAE:\n",
            "0.3591091413544505\n",
            "Test MAE:\n",
            "0.39871159593206973\n",
            "\n",
            "adam solver:\n",
            "Training MAE:\n",
            "0.3690185112476578\n",
            "Test MAE:\n",
            "0.40865239129018444\n",
            "\n",
            "lbfgs solver:\n"
          ]
        },
        {
          "output_type": "stream",
          "name": "stderr",
          "text": [
            "/usr/local/lib/python3.11/dist-packages/sklearn/neural_network/_multilayer_perceptron.py:546: ConvergenceWarning: lbfgs failed to converge (status=1):\n",
            "STOP: TOTAL NO. of ITERATIONS REACHED LIMIT.\n",
            "\n",
            "Increase the number of iterations (max_iter) or scale the data as shown in:\n",
            "    https://scikit-learn.org/stable/modules/preprocessing.html\n",
            "  self.n_iter_ = _check_optimize_result(\"lbfgs\", opt_res, self.max_iter)\n"
          ]
        },
        {
          "output_type": "stream",
          "name": "stdout",
          "text": [
            "Training MAE:\n",
            "0.062640962349542\n",
            "Test MAE:\n",
            "0.8213975272866207\n",
            "\n",
            "sgd solver:\n",
            "Training MAE:\n",
            "0.4327597598209453\n",
            "Test MAE:\n",
            "0.4357602403017656\n",
            "\n",
            "batch size auto (200):\n",
            "Training MAE:\n",
            "0.4327597598209453\n",
            "Test MAE:\n",
            "0.4357602403017656\n",
            "\n",
            "batch size (400):\n"
          ]
        },
        {
          "output_type": "stream",
          "name": "stderr",
          "text": [
            "/usr/local/lib/python3.11/dist-packages/sklearn/neural_network/_multilayer_perceptron.py:609: UserWarning: Got `batch_size` less than 1 or larger than sample size. It is going to be clipped\n",
            "  warnings.warn(\n"
          ]
        },
        {
          "output_type": "stream",
          "name": "stdout",
          "text": [
            "Training MAE:\n",
            "0.458358967181211\n",
            "Test MAE:\n",
            "0.4475631695145803\n",
            "\n",
            "learning rate adaptation (constant):\n",
            "Training MAE:\n",
            "0.4327597598209453\n",
            "Test MAE:\n",
            "0.4357602403017656\n",
            "\n",
            "learning rate adaptation (invscaling):\n"
          ]
        },
        {
          "output_type": "stream",
          "name": "stderr",
          "text": [
            "/usr/local/lib/python3.11/dist-packages/sklearn/neural_network/_multilayer_perceptron.py:691: ConvergenceWarning: Stochastic Optimizer: Maximum iterations (1000) reached and the optimization hasn't converged yet.\n",
            "  warnings.warn(\n"
          ]
        },
        {
          "output_type": "stream",
          "name": "stdout",
          "text": [
            "Training MAE:\n",
            "1.0767701099841724\n",
            "Test MAE:\n",
            "1.0600068158683982\n",
            "\n",
            "learning rate adaptation (adaptive):\n",
            "Training MAE:\n",
            "0.4313939468593541\n",
            "Test MAE:\n",
            "0.43534949898684855\n",
            "\n"
          ]
        }
      ],
      "source": [
        "# Run with different hyperparametersg\n",
        "\n",
        "from sklearn.metrics import mean_absolute_error\n",
        "from sklearn.neural_network import MLPRegressor\n",
        "from sklearn.preprocessing import StandardScaler\n",
        "\n",
        "data, meta = arff.loadarff(\"dataset_8_liver-disorders.arff\")\n",
        "df = pd.DataFrame(data)\n",
        "target_col = \"selector\"\n",
        "y = df[target_col].values\n",
        "X = df.drop(columns=[target_col]).values\n",
        "\n",
        "X_train, X_test, y_train, y_test = train_test_split(X, y, test_size=0.20, random_state=42)\n",
        "scaler = StandardScaler()\n",
        "X_train = scaler.fit_transform(X_train)\n",
        "X_test = scaler.transform(X_test)\n",
        "\n",
        "# difference activation\n",
        "print('relu:')\n",
        "clf = MLPRegressor(hidden_layer_sizes=(42), activation='relu', solver='adam', alpha=0.0001, learning_rate='constant',\n",
        "                   learning_rate_init=0.001, max_iter=1000, random_state=42, warm_start=False, momentum=0.9, early_stopping=False)\n",
        "clf.fit(X_train, y_train)\n",
        "\n",
        "print('Training MAE:')\n",
        "print(mean_absolute_error(clf.predict(X_train), y_train))\n",
        "print('Test MAE:')\n",
        "print(mean_absolute_error(clf.predict(X_test), y_test))\n",
        "print()\n",
        "\n",
        "print('tanh:')\n",
        "clf = MLPRegressor(hidden_layer_sizes=(42), activation='tanh', solver='adam', alpha=0.0001, learning_rate='constant',\n",
        "                   learning_rate_init=0.001, max_iter=1000, random_state=42, warm_start=False, momentum=0.9, early_stopping=False)\n",
        "clf.fit(X_train, y_train)\n",
        "\n",
        "print('Training MAE:')\n",
        "print(mean_absolute_error(clf.predict(X_train), y_train))\n",
        "print('Test MAE:')\n",
        "print(mean_absolute_error(clf.predict(X_test), y_test))\n",
        "print()\n",
        "\n",
        "#different hidden layers\n",
        "print('42 hidden layers')\n",
        "clf = MLPRegressor(hidden_layer_sizes=(42), activation='relu', solver='adam', alpha=0.0001, learning_rate='constant',\n",
        "                   learning_rate_init=0.001, max_iter=1000, random_state=42, warm_start=False, momentum=0.9, early_stopping=False)\n",
        "clf.fit(X_train, y_train)\n",
        "\n",
        "print('Training MAE:')\n",
        "print(mean_absolute_error(clf.predict(X_train), y_train))\n",
        "print('Test MAE:')\n",
        "print(mean_absolute_error(clf.predict(X_test), y_test))\n",
        "print()\n",
        "\n",
        "print('28 hidden layers')\n",
        "clf = MLPRegressor(hidden_layer_sizes=(28), activation='relu', solver='adam', alpha=0.0001, learning_rate='constant',\n",
        "                   learning_rate_init=0.001, max_iter=1000, random_state=42, warm_start=False, momentum=0.9, early_stopping=False)\n",
        "clf.fit(X_train, y_train)\n",
        "\n",
        "print('Training MAE:')\n",
        "print(mean_absolute_error(clf.predict(X_train), y_train))\n",
        "print('Test MAE:')\n",
        "print(mean_absolute_error(clf.predict(X_test), y_test))\n",
        "print()\n",
        "\n",
        "print('56 hidden layers')\n",
        "clf = MLPRegressor(hidden_layer_sizes=(56), activation='relu', solver='adam', alpha=0.0001, learning_rate='constant',\n",
        "                   learning_rate_init=0.001, max_iter=1000, random_state=42, warm_start=False, momentum=0.9, early_stopping=False)\n",
        "clf.fit(X_train, y_train)\n",
        "\n",
        "print('Training MAE:')\n",
        "print(mean_absolute_error(clf.predict(X_train), y_train))\n",
        "print('Test MAE:')\n",
        "print(mean_absolute_error(clf.predict(X_test), y_test))\n",
        "print()\n",
        "\n",
        "#different solver\n",
        "print('adam solver:')\n",
        "clf = MLPRegressor(hidden_layer_sizes=(42), activation='relu', solver='adam', alpha=0.0001, learning_rate='constant',\n",
        "                   learning_rate_init=0.001, max_iter=1000, random_state=42, warm_start=False, momentum=0.9, early_stopping=False)\n",
        "clf.fit(X_train, y_train)\n",
        "\n",
        "print('Training MAE:')\n",
        "print(mean_absolute_error(clf.predict(X_train), y_train))\n",
        "print('Test MAE:')\n",
        "print(mean_absolute_error(clf.predict(X_test), y_test))\n",
        "print()\n",
        "\n",
        "print('lbfgs solver:')\n",
        "clf = MLPRegressor(hidden_layer_sizes=(42), activation='relu', solver='lbfgs', alpha=0.0001, learning_rate='constant',\n",
        "                   learning_rate_init=0.001, max_iter=1000, random_state=42, warm_start=False, momentum=0.9, early_stopping=False)\n",
        "clf.fit(X_train, y_train)\n",
        "\n",
        "print('Training MAE:')\n",
        "print(mean_absolute_error(clf.predict(X_train), y_train))\n",
        "print('Test MAE:')\n",
        "print(mean_absolute_error(clf.predict(X_test), y_test))\n",
        "print()\n",
        "\n",
        "print('sgd solver:')\n",
        "clf = MLPRegressor(hidden_layer_sizes=(42), activation='relu', solver='sgd', alpha=0.0001, learning_rate='constant',\n",
        "                   learning_rate_init=0.001, max_iter=1000, random_state=42, warm_start=False, momentum=0.9, early_stopping=False)\n",
        "clf.fit(X_train, y_train)\n",
        "\n",
        "print('Training MAE:')\n",
        "print(mean_absolute_error(clf.predict(X_train), y_train))\n",
        "print('Test MAE:')\n",
        "print(mean_absolute_error(clf.predict(X_test), y_test))\n",
        "print()\n",
        "\n",
        "#different batch size\n",
        "print('batch size auto (200):')\n",
        "clf = MLPRegressor(hidden_layer_sizes=(42), activation='relu', solver='sgd', alpha=0.0001, batch_size='auto', learning_rate='constant',\n",
        "                   learning_rate_init=0.001, max_iter=1000, random_state=42, warm_start=False, momentum=0.9, early_stopping=False)\n",
        "clf.fit(X_train, y_train)\n",
        "\n",
        "print('Training MAE:')\n",
        "print(mean_absolute_error(clf.predict(X_train), y_train))\n",
        "print('Test MAE:')\n",
        "print(mean_absolute_error(clf.predict(X_test), y_test))\n",
        "print()\n",
        "\n",
        "print('batch size (400):')\n",
        "clf = MLPRegressor(hidden_layer_sizes=(42), activation='relu', solver='sgd', alpha=0.0001, batch_size=min(400, 345), learning_rate='constant',\n",
        "                   learning_rate_init=0.001, max_iter=1000, random_state=42, warm_start=False, momentum=0.9, early_stopping=False)\n",
        "clf.fit(X_train, y_train)\n",
        "\n",
        "print('Training MAE:')\n",
        "print(mean_absolute_error(clf.predict(X_train), y_train))\n",
        "print('Test MAE:')\n",
        "print(mean_absolute_error(clf.predict(X_test), y_test))\n",
        "print()\n",
        "\n",
        "#learning rate adaptation\n",
        "print('learning rate adaptation (constant):')\n",
        "clf = MLPRegressor(hidden_layer_sizes=(42), activation='relu', solver='sgd', alpha=0.0001, batch_size='auto', learning_rate='constant',\n",
        "                   learning_rate_init=0.001, max_iter=1000, random_state=42, warm_start=False, momentum=0.9, early_stopping=False)\n",
        "clf.fit(X_train, y_train)\n",
        "\n",
        "print('Training MAE:')\n",
        "print(mean_absolute_error(clf.predict(X_train), y_train))\n",
        "print('Test MAE:')\n",
        "print(mean_absolute_error(clf.predict(X_test), y_test))\n",
        "print()\n",
        "\n",
        "print('learning rate adaptation (invscaling):')\n",
        "clf = MLPRegressor(hidden_layer_sizes=(42), activation='relu', solver='sgd', alpha=0.0001, batch_size='auto', learning_rate='invscaling',\n",
        "                   learning_rate_init=0.001, max_iter=1000, random_state=42, warm_start=False, momentum=0.9, early_stopping=False)\n",
        "clf.fit(X_train, y_train)\n",
        "\n",
        "print('Training MAE:')\n",
        "print(mean_absolute_error(clf.predict(X_train), y_train))\n",
        "print('Test MAE:')\n",
        "print(mean_absolute_error(clf.predict(X_test), y_test))\n",
        "print()\n",
        "\n",
        "print('learning rate adaptation (adaptive):')\n",
        "clf = MLPRegressor(hidden_layer_sizes=(42), activation='relu', solver='sgd', alpha=0.0001, batch_size='auto', learning_rate='adaptive',\n",
        "                   learning_rate_init=0.001, max_iter=1000, random_state=42, warm_start=False, momentum=0.9, early_stopping=False)\n",
        "clf.fit(X_train, y_train)\n",
        "\n",
        "print('Training MAE:')\n",
        "print(mean_absolute_error(clf.predict(X_train), y_train))\n",
        "print('Test MAE:')\n",
        "print(mean_absolute_error(clf.predict(X_test), y_test))\n",
        "print()"
      ]
    },
    {
      "cell_type": "markdown",
      "metadata": {
        "id": "HScVQasltlxv"
      },
      "source": [
        "#### Discussion\n",
        "How do the hyperparameters affect your accuracy? Specifically the number of layers and nodes and activation functions you experimented with. Do the solver, batch size, and learning rate adaptation affect anything?\n"
      ]
    },
    {
      "cell_type": "markdown",
      "metadata": {
        "id": "j71YhjHgYzpg"
      },
      "source": [
        "Using the tanh instead of the relu activation function decreased the accuracy of the regression. As I increased the amount of hidden nodes the accuracy did improve. I expected this, and was not surprised when teh 56 hidden nodes reported lower error than 28 hidden nodes. The adam solver did improve the accuracy a little bit when compared with the sgd, but it wasn't as significant as some of the other parameters. The bigger batch size increased the error of the model. I think this was because the auto batch size was less than the number of instances and when I doubled it for testing, the new batch size was bigger than the number of instances. This implies that if batch size is to help improve accuracy of the model it needs to be smaller than the number of samples. The adaptive and constant learning rates did not differ in accuracy from each other, but using the invscaling method made the MAE skyrocket. From this we can gather that for a regression model it is better to use the constant or adaptive learning rate adaptations than the invscaling for this type of data."
      ]
    },
    {
      "cell_type": "markdown",
      "metadata": {
        "id": "cTlK-kijk8Mg"
      },
      "source": [
        "## 4. (Optional 20% extra credit) Code up your own MLP/Backprop learner\n",
        "Below is a scaffold you could use if you want. Requirements for this task:\n",
        "- Your model should support the methods shown in the example scaffold below.\n",
        "- Ability to create a network structure with at least one hidden layer and an arbitrary number of nodes. You may choose just one non-linear activation function for all hidden and output nodes if you want (e.g. sigmoid activation function where the loss is SSE rather than cross-entropy).\n",
        "- Random weight initialization with small random weights with 0 mean. Remember that every hidden and output node should have its own bias weight.\n",
        "- Use stochastic training updates: update weights after each training instance (i.e. not batch)\n",
        "- Option to include a momentum term\n",
        "- Your class can inherit from the relevant scikit-learn learners (e.g. data shuffling, etc.), but don't call any of the super methods to accomplish the core methods in the scaffold.\n",
        "- Run the Iris data set above with your Backprop version. Show and discuss your results and how they compare with the sklearn version.\n",
        "- Coding MLP is a good experience but is a little more challening than implementing other models so the extra credit points are higher than typical."
      ]
    },
    {
      "cell_type": "markdown",
      "metadata": {
        "id": "rokMDC3Qtlxv"
      },
      "source": [
        "*Discuss your results and any differences*"
      ]
    },
    {
      "cell_type": "code",
      "execution_count": null,
      "metadata": {
        "id": "hn8n_iR8tlxv"
      },
      "outputs": [],
      "source": [
        "from sklearn.base import BaseEstimator, ClassifierMixin\n",
        "\n",
        "class MLP(BaseEstimator,ClassifierMixin):\n",
        "\n",
        "    def __init__(self,lr=.1, momentum=0, shuffle=True,hidden_layer_widths=None):\n",
        "        \"\"\" Initialize class with chosen hyperparameters.\n",
        "\n",
        "        Args:\n",
        "            lr (float): A learning rate / step size.\n",
        "            shuffle(boolean): Whether to shuffle the training data each epoch. DO NOT SHUFFLE for evaluation / debug datasets.\n",
        "            momentum(float): The momentum coefficent\n",
        "        Optional Args (Args we think will make your life easier):\n",
        "            hidden_layer_widths (list(int)): A list of integers which defines the width of each hidden layer if hidden layer is none do twice as many hidden nodes as input nodes. (and then one more for the bias node)\n",
        "            For example: input width 1, then hidden layer will be 3 nodes\n",
        "        Example:\n",
        "            mlp = MLP(lr=.2,momentum=.5,shuffle=False,hidden_layer_widths = [3,3]),  <--- this will create a model with two hidden layers, both 3 nodes wide\n",
        "        \"\"\"\n",
        "        self.hidden_layer_widths\n",
        "        self.lr = lr\n",
        "        self.momentum = momentum\n",
        "        self.shuffle = shuffle\n",
        "\n",
        "\n",
        "    def fit(self, X, y, initial_weights=None):\n",
        "        \"\"\" Fit the data; run the algorithm and adjust the weights to find a good solution\n",
        "\n",
        "        Args:\n",
        "            X (array-like): A 2D numpy array with the training data, excluding targets\n",
        "            y (array-like): A 2D numpy array with the training targets\n",
        "        Optional Args (Args we think will make your life easier):\n",
        "            initial_weights (array-like): allows the user to provide initial weights\n",
        "        Returns:\n",
        "            self: this allows this to be chained, e.g. model.fit(X,y).predict(X_test)\n",
        "\n",
        "        \"\"\"\n",
        "        self.weights = self.initialize_weights() if not initial_weights else initial_weights\n",
        "\n",
        "        return self\n",
        "\n",
        "    def predict(self, X):\n",
        "        \"\"\" Predict all classes for a dataset X\n",
        "        Args:\n",
        "            X (array-like): A 2D numpy array with the training data, excluding targets\n",
        "        Returns:\n",
        "            array, shape (n_samples,)\n",
        "                Predicted target values per element in X.\n",
        "        \"\"\"\n",
        "        pass\n",
        "\n",
        "    def initialize_weights(self):\n",
        "        \"\"\" Initialize weights for perceptron. Don't forget the bias!\n",
        "\n",
        "        Returns:\n",
        "\n",
        "        \"\"\"\n",
        "\n",
        "        return [0]\n",
        "\n",
        "    def score(self, X, y):\n",
        "        \"\"\" Return accuracy of model on a given dataset. Must implement own score function.\n",
        "\n",
        "        Args:\n",
        "            X (array-like): A 2D numpy array with data, excluding targets\n",
        "            y (array-like): A 2D numpy array with targets\n",
        "\n",
        "        Returns:\n",
        "            score : float\n",
        "                Mean accuracy of self.predict(X) wrt. y.\n",
        "        \"\"\"\n",
        "\n",
        "        return 0\n",
        "\n",
        "    ###  Returns the weights. Not required but helpful for debugging\n",
        "    def get_weights(self):\n",
        "        pass\n"
      ]
    }
  ],
  "metadata": {
    "colab": {
      "provenance": []
    },
    "kernelspec": {
      "display_name": "Python 2.7.16 64-bit",
      "language": "python",
      "name": "python3"
    },
    "language_info": {
      "codemirror_mode": {
        "name": "ipython",
        "version": 3
      },
      "file_extension": ".py",
      "mimetype": "text/x-python",
      "name": "python",
      "nbconvert_exporter": "python",
      "pygments_lexer": "ipython3",
      "version": "2.7.16"
    },
    "vscode": {
      "interpreter": {
        "hash": "767d51c1340bd893661ea55ea3124f6de3c7a262a8b4abca0554b478b1e2ff90"
      }
    }
  },
  "nbformat": 4,
  "nbformat_minor": 0
}