{
  "cells": [
    {
      "cell_type": "markdown",
      "metadata": {
        "id": "DVL7_bgmIAPR"
      },
      "source": [
        "# K-Nearest Neighbor Lab\n",
        "Read over the sklearn info on [nearest neighbor learners](https://scikit-learn.org/stable/modules/neighbors.html#nearest-neighbors-classification)\n",
        "\n",
        "\n"
      ]
    },
    {
      "cell_type": "code",
      "execution_count": 1,
      "metadata": {
        "id": "6ZbYjZZZ_yLV"
      },
      "outputs": [],
      "source": [
        "from sklearn.neighbors import KNeighborsClassifier, KNeighborsRegressor\n",
        "import numpy as np\n",
        "import pandas as pd\n",
        "from scipy.io import arff\n",
        "import matplotlib.pyplot as plt\n",
        "from sklearn.model_selection import train_test_split"
      ]
    },
    {
      "cell_type": "markdown",
      "metadata": {
        "id": "gwcETsdz0tuv"
      },
      "source": [
        "## 1 K-Nearest Neighbor (KNN) algorithm\n",
        "\n",
        "### 1.1 (15%) Basic KNN Classification\n",
        "\n",
        "Learn the [Glass data set](https://archive.ics.uci.edu/dataset/42/glass+identification) using [KNeighborsClassifier](https://scikit-learn.org/stable/modules/generated/sklearn.neighbors.KNeighborsClassifier.html#sklearn.neighbors.KNeighborsClassifier) with default parameters.\n",
        "- Randomly split your data into train/test.  Anytime we don't tell you specifics (such as what percentage is train vs test) choose your own reasonable values\n",
        "- Give typical train and test set accuracies after running with different random splits\n",
        "- Print the output probabilities for a test set (predict_proba)\n",
        "- Try it with different p values (Minkowskian exponent) and discuss any differences"
      ]
    },
    {
      "cell_type": "code",
      "execution_count": 3,
      "metadata": {
        "colab": {
          "base_uri": "https://localhost:8080/"
        },
        "id": "0h7EIoid0tuv",
        "outputId": "b1336232-059e-4701-e14e-a58492a5bd5c"
      },
      "outputs": [
        {
          "output_type": "stream",
          "name": "stdout",
          "text": [
            "30% test split\n",
            "0.9932885906040269\n",
            "0.953125\n",
            "[[1.  0.  0.  0.  0.  0. ]\n",
            " [0.  0.  0.  0.  0.  1. ]\n",
            " [0.8 0.2 0.  0.  0.  0. ]\n",
            " [0.  0.  0.  0.  0.  1. ]\n",
            " [0.  1.  0.  0.  0.  0. ]\n",
            " [0.  1.  0.  0.  0.  0. ]\n",
            " [1.  0.  0.  0.  0.  0. ]\n",
            " [0.  1.  0.  0.  0.  0. ]\n",
            " [0.  1.  0.  0.  0.  0. ]\n",
            " [0.  0.4 0.6 0.  0.  0. ]\n",
            " [0.  0.  0.  0.  0.8 0.2]\n",
            " [0.  0.  0.  1.  0.  0. ]\n",
            " [0.  1.  0.  0.  0.  0. ]\n",
            " [0.  1.  0.  0.  0.  0. ]\n",
            " [0.  0.  0.  0.  1.  0. ]\n",
            " [0.  0.  0.  1.  0.  0. ]\n",
            " [0.  0.  0.  0.  0.  1. ]\n",
            " [1.  0.  0.  0.  0.  0. ]\n",
            " [1.  0.  0.  0.  0.  0. ]\n",
            " [0.  0.  0.  0.  0.4 0.6]\n",
            " [0.  1.  0.  0.  0.  0. ]\n",
            " [0.  0.  0.  0.  0.  1. ]\n",
            " [0.  0.  0.  0.  0.  1. ]\n",
            " [0.  0.  0.  0.  0.  1. ]\n",
            " [0.  0.  1.  0.  0.  0. ]\n",
            " [0.  1.  0.  0.  0.  0. ]\n",
            " [1.  0.  0.  0.  0.  0. ]\n",
            " [1.  0.  0.  0.  0.  0. ]\n",
            " [0.  0.  0.  0.6 0.4 0. ]\n",
            " [1.  0.  0.  0.  0.  0. ]\n",
            " [1.  0.  0.  0.  0.  0. ]\n",
            " [0.  1.  0.  0.  0.  0. ]\n",
            " [0.  0.  1.  0.  0.  0. ]\n",
            " [0.  1.  0.  0.  0.  0. ]\n",
            " [0.2 0.8 0.  0.  0.  0. ]\n",
            " [0.  0.  0.  0.  0.  1. ]\n",
            " [0.  0.  0.  1.  0.  0. ]\n",
            " [0.  0.  1.  0.  0.  0. ]\n",
            " [0.  1.  0.  0.  0.  0. ]\n",
            " [0.  1.  0.  0.  0.  0. ]\n",
            " [0.  1.  0.  0.  0.  0. ]\n",
            " [0.  0.  0.  0.  0.  1. ]\n",
            " [1.  0.  0.  0.  0.  0. ]\n",
            " [0.  1.  0.  0.  0.  0. ]\n",
            " [0.  0.  0.8 0.2 0.  0. ]\n",
            " [0.  1.  0.  0.  0.  0. ]\n",
            " [0.  1.  0.  0.  0.  0. ]\n",
            " [0.  1.  0.  0.  0.  0. ]\n",
            " [0.  1.  0.  0.  0.  0. ]\n",
            " [0.  1.  0.  0.  0.  0. ]\n",
            " [1.  0.  0.  0.  0.  0. ]\n",
            " [1.  0.  0.  0.  0.  0. ]\n",
            " [0.4 0.6 0.  0.  0.  0. ]\n",
            " [0.  1.  0.  0.  0.  0. ]\n",
            " [1.  0.  0.  0.  0.  0. ]\n",
            " [1.  0.  0.  0.  0.  0. ]\n",
            " [0.  0.  0.  0.  0.2 0.8]\n",
            " [0.  1.  0.  0.  0.  0. ]\n",
            " [0.  0.  0.2 0.8 0.  0. ]\n",
            " [0.6 0.4 0.  0.  0.  0. ]\n",
            " [1.  0.  0.  0.  0.  0. ]\n",
            " [0.  1.  0.  0.  0.  0. ]\n",
            " [1.  0.  0.  0.  0.  0. ]\n",
            " [0.  0.  0.  0.  0.  1. ]]\n",
            "\n",
            "20% test split\n",
            "0.9941176470588236\n",
            "0.9534883720930233\n",
            "[[1.  0.  0.  0.  0.  0. ]\n",
            " [0.  0.  0.  0.  0.  1. ]\n",
            " [1.  0.  0.  0.  0.  0. ]\n",
            " [0.  0.  0.  0.  0.  1. ]\n",
            " [0.  1.  0.  0.  0.  0. ]\n",
            " [0.  1.  0.  0.  0.  0. ]\n",
            " [1.  0.  0.  0.  0.  0. ]\n",
            " [0.  1.  0.  0.  0.  0. ]\n",
            " [0.  1.  0.  0.  0.  0. ]\n",
            " [0.  0.4 0.6 0.  0.  0. ]\n",
            " [0.  0.  0.  0.  0.8 0.2]\n",
            " [0.  0.  0.  1.  0.  0. ]\n",
            " [0.  1.  0.  0.  0.  0. ]\n",
            " [0.  1.  0.  0.  0.  0. ]\n",
            " [0.  0.  0.  0.  1.  0. ]\n",
            " [0.  0.  0.  1.  0.  0. ]\n",
            " [0.  0.  0.  0.  0.  1. ]\n",
            " [1.  0.  0.  0.  0.  0. ]\n",
            " [1.  0.  0.  0.  0.  0. ]\n",
            " [0.  0.  0.  0.  0.4 0.6]\n",
            " [0.  1.  0.  0.  0.  0. ]\n",
            " [0.  0.  0.  0.  0.  1. ]\n",
            " [0.  0.  0.  0.  0.  1. ]\n",
            " [0.  0.  0.  0.  0.  1. ]\n",
            " [0.  0.  1.  0.  0.  0. ]\n",
            " [0.  1.  0.  0.  0.  0. ]\n",
            " [1.  0.  0.  0.  0.  0. ]\n",
            " [1.  0.  0.  0.  0.  0. ]\n",
            " [0.  0.  0.  0.6 0.4 0. ]\n",
            " [1.  0.  0.  0.  0.  0. ]\n",
            " [1.  0.  0.  0.  0.  0. ]\n",
            " [0.  1.  0.  0.  0.  0. ]\n",
            " [0.  0.  1.  0.  0.  0. ]\n",
            " [0.  1.  0.  0.  0.  0. ]\n",
            " [0.4 0.6 0.  0.  0.  0. ]\n",
            " [0.  0.  0.  0.  0.  1. ]\n",
            " [0.  0.  0.  1.  0.  0. ]\n",
            " [0.  0.  1.  0.  0.  0. ]\n",
            " [0.  1.  0.  0.  0.  0. ]\n",
            " [0.  1.  0.  0.  0.  0. ]\n",
            " [0.  1.  0.  0.  0.  0. ]\n",
            " [0.  0.  0.  0.  0.  1. ]\n",
            " [1.  0.  0.  0.  0.  0. ]]\n",
            "\n",
            "50% test split\n",
            "0.9811320754716981\n",
            "0.9532710280373832\n",
            "[[1.  0.  0.  0.  0.  0. ]\n",
            " [0.  0.  0.  0.  0.  1. ]\n",
            " [0.6 0.4 0.  0.  0.  0. ]\n",
            " [0.  0.  0.  0.  0.  1. ]\n",
            " [0.  1.  0.  0.  0.  0. ]\n",
            " [0.  1.  0.  0.  0.  0. ]\n",
            " [1.  0.  0.  0.  0.  0. ]\n",
            " [0.  1.  0.  0.  0.  0. ]\n",
            " [0.  1.  0.  0.  0.  0. ]\n",
            " [0.  0.2 0.8 0.  0.  0. ]\n",
            " [0.  0.  0.  0.  0.6 0.4]\n",
            " [0.  0.  0.  1.  0.  0. ]\n",
            " [0.  0.4 0.6 0.  0.  0. ]\n",
            " [0.  1.  0.  0.  0.  0. ]\n",
            " [0.  0.  0.  0.2 0.8 0. ]\n",
            " [0.  0.  0.  1.  0.  0. ]\n",
            " [0.  0.  0.  0.  0.  1. ]\n",
            " [1.  0.  0.  0.  0.  0. ]\n",
            " [1.  0.  0.  0.  0.  0. ]\n",
            " [0.  0.  0.  0.  0.4 0.6]\n",
            " [0.  1.  0.  0.  0.  0. ]\n",
            " [0.  0.  0.  0.  0.  1. ]\n",
            " [0.  0.  0.  0.  0.  1. ]\n",
            " [0.  0.  0.  0.  0.  1. ]\n",
            " [0.  0.  1.  0.  0.  0. ]\n",
            " [0.  1.  0.  0.  0.  0. ]\n",
            " [1.  0.  0.  0.  0.  0. ]\n",
            " [1.  0.  0.  0.  0.  0. ]\n",
            " [0.  0.  0.  0.4 0.6 0. ]\n",
            " [1.  0.  0.  0.  0.  0. ]\n",
            " [1.  0.  0.  0.  0.  0. ]\n",
            " [0.  1.  0.  0.  0.  0. ]\n",
            " [0.  0.  1.  0.  0.  0. ]\n",
            " [0.  1.  0.  0.  0.  0. ]\n",
            " [0.2 0.8 0.  0.  0.  0. ]\n",
            " [0.  0.  0.  0.  0.  1. ]\n",
            " [0.  0.  0.  0.8 0.2 0. ]\n",
            " [0.  0.  1.  0.  0.  0. ]\n",
            " [0.  1.  0.  0.  0.  0. ]\n",
            " [0.  1.  0.  0.  0.  0. ]\n",
            " [0.  1.  0.  0.  0.  0. ]\n",
            " [0.  0.  0.  0.  0.  1. ]\n",
            " [1.  0.  0.  0.  0.  0. ]\n",
            " [0.  1.  0.  0.  0.  0. ]\n",
            " [0.  0.  0.6 0.4 0.  0. ]\n",
            " [0.  1.  0.  0.  0.  0. ]\n",
            " [0.  1.  0.  0.  0.  0. ]\n",
            " [0.  1.  0.  0.  0.  0. ]\n",
            " [0.  1.  0.  0.  0.  0. ]\n",
            " [0.  1.  0.  0.  0.  0. ]\n",
            " [1.  0.  0.  0.  0.  0. ]\n",
            " [1.  0.  0.  0.  0.  0. ]\n",
            " [0.4 0.6 0.  0.  0.  0. ]\n",
            " [0.  1.  0.  0.  0.  0. ]\n",
            " [1.  0.  0.  0.  0.  0. ]\n",
            " [1.  0.  0.  0.  0.  0. ]\n",
            " [0.  0.  0.  0.  0.2 0.8]\n",
            " [0.  1.  0.  0.  0.  0. ]\n",
            " [0.  0.  0.2 0.8 0.  0. ]\n",
            " [0.6 0.4 0.  0.  0.  0. ]\n",
            " [1.  0.  0.  0.  0.  0. ]\n",
            " [0.  1.  0.  0.  0.  0. ]\n",
            " [1.  0.  0.  0.  0.  0. ]\n",
            " [0.  0.  0.  0.  0.  1. ]\n",
            " [0.  0.  0.  0.6 0.4 0. ]\n",
            " [0.  1.  0.  0.  0.  0. ]\n",
            " [0.8 0.2 0.  0.  0.  0. ]\n",
            " [0.  1.  0.  0.  0.  0. ]\n",
            " [0.  0.  0.  0.  0.8 0.2]\n",
            " [1.  0.  0.  0.  0.  0. ]\n",
            " [1.  0.  0.  0.  0.  0. ]\n",
            " [1.  0.  0.  0.  0.  0. ]\n",
            " [1.  0.  0.  0.  0.  0. ]\n",
            " [1.  0.  0.  0.  0.  0. ]\n",
            " [0.  1.  0.  0.  0.  0. ]\n",
            " [0.  1.  0.  0.  0.  0. ]\n",
            " [0.  0.2 0.8 0.  0.  0. ]\n",
            " [1.  0.  0.  0.  0.  0. ]\n",
            " [0.  1.  0.  0.  0.  0. ]\n",
            " [0.  0.  0.  0.8 0.2 0. ]\n",
            " [0.  1.  0.  0.  0.  0. ]\n",
            " [1.  0.  0.  0.  0.  0. ]\n",
            " [0.  0.  1.  0.  0.  0. ]\n",
            " [0.  1.  0.  0.  0.  0. ]\n",
            " [0.  1.  0.  0.  0.  0. ]\n",
            " [1.  0.  0.  0.  0.  0. ]\n",
            " [0.  0.4 0.6 0.  0.  0. ]\n",
            " [0.  1.  0.  0.  0.  0. ]\n",
            " [0.  1.  0.  0.  0.  0. ]\n",
            " [1.  0.  0.  0.  0.  0. ]\n",
            " [0.  1.  0.  0.  0.  0. ]\n",
            " [1.  0.  0.  0.  0.  0. ]\n",
            " [0.  0.  0.8 0.2 0.  0. ]\n",
            " [0.  1.  0.  0.  0.  0. ]\n",
            " [0.  1.  0.  0.  0.  0. ]\n",
            " [0.  1.  0.  0.  0.  0. ]\n",
            " [0.  0.2 0.8 0.  0.  0. ]\n",
            " [1.  0.  0.  0.  0.  0. ]\n",
            " [0.  0.  0.  0.  0.  1. ]\n",
            " [1.  0.  0.  0.  0.  0. ]\n",
            " [1.  0.  0.  0.  0.  0. ]\n",
            " [0.  0.6 0.4 0.  0.  0. ]\n",
            " [0.  1.  0.  0.  0.  0. ]\n",
            " [1.  0.  0.  0.  0.  0. ]\n",
            " [1.  0.  0.  0.  0.  0. ]\n",
            " [0.  0.  0.  0.  0.  1. ]\n",
            " [0.  0.  0.  0.2 0.8 0. ]]\n"
          ]
        }
      ],
      "source": [
        "# Learn the glass data\n",
        "from sklearn.preprocessing import LabelEncoder\n",
        "\n",
        "df = pd.read_csv(\"glass.data\")\n",
        "label_encoder = LabelEncoder()\n",
        "cars_df = pd.get_dummies(df, drop_first=True)\n",
        "Data_Set_np = cars_df.to_numpy()\n",
        "\n",
        "X = Data_Set_np[:, :-1]\n",
        "y = Data_Set_np[:, -1]\n",
        "\n",
        "X_train, X_test, y_train, y_test = train_test_split(X, y, test_size=0.3, random_state=42)\n",
        "\n",
        "clf = KNeighborsClassifier()\n",
        "clf.fit(X_train, y_train)\n",
        "print(\"30% test split\")\n",
        "print(clf.score(X_train, y_train))\n",
        "print(clf.score(X_test, y_test))\n",
        "print(clf.predict_proba(X_test))\n",
        "print()\n",
        "\n",
        "X_train, X_test, y_train, y_test = train_test_split(X, y, test_size=0.2, random_state=42)\n",
        "\n",
        "clf = KNeighborsClassifier()\n",
        "clf.fit(X_train, y_train)\n",
        "print(\"20% test split\")\n",
        "print(clf.score(X_train, y_train))\n",
        "print(clf.score(X_test, y_test))\n",
        "print(clf.predict_proba(X_test))\n",
        "print()\n",
        "\n",
        "X_train, X_test, y_train, y_test = train_test_split(X, y, test_size=0.5, random_state=42)\n",
        "\n",
        "clf = KNeighborsClassifier()\n",
        "clf.fit(X_train, y_train)\n",
        "print(\"50% test split\")\n",
        "print(clf.score(X_train, y_train))\n",
        "print(clf.score(X_test, y_test))\n",
        "print(clf.predict_proba(X_test))"
      ]
    },
    {
      "cell_type": "code",
      "source": [
        "X_train, X_test, y_train, y_test = train_test_split(X, y, test_size=0.3, random_state=42)\n",
        "\n",
        "clf = KNeighborsClassifier()\n",
        "clf.fit(X_train, y_train)\n",
        "print(\"Default p-value = 2:\")\n",
        "print(clf.score(X_train, y_train))\n",
        "print(clf.score(X_test, y_test))\n",
        "print(clf.predict_proba(X_test))\n",
        "print()\n",
        "\n",
        "clf = KNeighborsClassifier(p=1)\n",
        "clf.fit(X_train, y_train)\n",
        "print(\"P = 1\")\n",
        "print(clf.score(X_train, y_train))\n",
        "print(clf.score(X_test, y_test))\n",
        "print(clf.predict_proba(X_test))\n",
        "print()\n",
        "\n",
        "clf = KNeighborsClassifier(p=3)\n",
        "clf.fit(X_train, y_train)\n",
        "print(\"P = 3:\")\n",
        "print(clf.score(X_train, y_train))\n",
        "print(clf.score(X_test, y_test))\n",
        "print(clf.predict_proba(X_test))"
      ],
      "metadata": {
        "colab": {
          "base_uri": "https://localhost:8080/"
        },
        "id": "E3CqHAMnBUh8",
        "outputId": "da4c3cab-c462-4754-ba04-f6219fc50b23"
      },
      "execution_count": 4,
      "outputs": [
        {
          "output_type": "stream",
          "name": "stdout",
          "text": [
            "Default p-value = 2:\n",
            "0.9932885906040269\n",
            "0.953125\n",
            "[[1.  0.  0.  0.  0.  0. ]\n",
            " [0.  0.  0.  0.  0.  1. ]\n",
            " [0.8 0.2 0.  0.  0.  0. ]\n",
            " [0.  0.  0.  0.  0.  1. ]\n",
            " [0.  1.  0.  0.  0.  0. ]\n",
            " [0.  1.  0.  0.  0.  0. ]\n",
            " [1.  0.  0.  0.  0.  0. ]\n",
            " [0.  1.  0.  0.  0.  0. ]\n",
            " [0.  1.  0.  0.  0.  0. ]\n",
            " [0.  0.4 0.6 0.  0.  0. ]\n",
            " [0.  0.  0.  0.  0.8 0.2]\n",
            " [0.  0.  0.  1.  0.  0. ]\n",
            " [0.  1.  0.  0.  0.  0. ]\n",
            " [0.  1.  0.  0.  0.  0. ]\n",
            " [0.  0.  0.  0.  1.  0. ]\n",
            " [0.  0.  0.  1.  0.  0. ]\n",
            " [0.  0.  0.  0.  0.  1. ]\n",
            " [1.  0.  0.  0.  0.  0. ]\n",
            " [1.  0.  0.  0.  0.  0. ]\n",
            " [0.  0.  0.  0.  0.4 0.6]\n",
            " [0.  1.  0.  0.  0.  0. ]\n",
            " [0.  0.  0.  0.  0.  1. ]\n",
            " [0.  0.  0.  0.  0.  1. ]\n",
            " [0.  0.  0.  0.  0.  1. ]\n",
            " [0.  0.  1.  0.  0.  0. ]\n",
            " [0.  1.  0.  0.  0.  0. ]\n",
            " [1.  0.  0.  0.  0.  0. ]\n",
            " [1.  0.  0.  0.  0.  0. ]\n",
            " [0.  0.  0.  0.6 0.4 0. ]\n",
            " [1.  0.  0.  0.  0.  0. ]\n",
            " [1.  0.  0.  0.  0.  0. ]\n",
            " [0.  1.  0.  0.  0.  0. ]\n",
            " [0.  0.  1.  0.  0.  0. ]\n",
            " [0.  1.  0.  0.  0.  0. ]\n",
            " [0.2 0.8 0.  0.  0.  0. ]\n",
            " [0.  0.  0.  0.  0.  1. ]\n",
            " [0.  0.  0.  1.  0.  0. ]\n",
            " [0.  0.  1.  0.  0.  0. ]\n",
            " [0.  1.  0.  0.  0.  0. ]\n",
            " [0.  1.  0.  0.  0.  0. ]\n",
            " [0.  1.  0.  0.  0.  0. ]\n",
            " [0.  0.  0.  0.  0.  1. ]\n",
            " [1.  0.  0.  0.  0.  0. ]\n",
            " [0.  1.  0.  0.  0.  0. ]\n",
            " [0.  0.  0.8 0.2 0.  0. ]\n",
            " [0.  1.  0.  0.  0.  0. ]\n",
            " [0.  1.  0.  0.  0.  0. ]\n",
            " [0.  1.  0.  0.  0.  0. ]\n",
            " [0.  1.  0.  0.  0.  0. ]\n",
            " [0.  1.  0.  0.  0.  0. ]\n",
            " [1.  0.  0.  0.  0.  0. ]\n",
            " [1.  0.  0.  0.  0.  0. ]\n",
            " [0.4 0.6 0.  0.  0.  0. ]\n",
            " [0.  1.  0.  0.  0.  0. ]\n",
            " [1.  0.  0.  0.  0.  0. ]\n",
            " [1.  0.  0.  0.  0.  0. ]\n",
            " [0.  0.  0.  0.  0.2 0.8]\n",
            " [0.  1.  0.  0.  0.  0. ]\n",
            " [0.  0.  0.2 0.8 0.  0. ]\n",
            " [0.6 0.4 0.  0.  0.  0. ]\n",
            " [1.  0.  0.  0.  0.  0. ]\n",
            " [0.  1.  0.  0.  0.  0. ]\n",
            " [1.  0.  0.  0.  0.  0. ]\n",
            " [0.  0.  0.  0.  0.  1. ]]\n",
            "\n",
            "P = 1\n",
            "0.9932885906040269\n",
            "0.984375\n",
            "[[1.  0.  0.  0.  0.  0. ]\n",
            " [0.  0.  0.  0.  0.  1. ]\n",
            " [1.  0.  0.  0.  0.  0. ]\n",
            " [0.  0.  0.  0.  0.  1. ]\n",
            " [0.  1.  0.  0.  0.  0. ]\n",
            " [0.  1.  0.  0.  0.  0. ]\n",
            " [1.  0.  0.  0.  0.  0. ]\n",
            " [0.  1.  0.  0.  0.  0. ]\n",
            " [0.  1.  0.  0.  0.  0. ]\n",
            " [0.  0.4 0.6 0.  0.  0. ]\n",
            " [0.  0.  0.  0.2 0.8 0. ]\n",
            " [0.  0.  0.  1.  0.  0. ]\n",
            " [0.  1.  0.  0.  0.  0. ]\n",
            " [0.  1.  0.  0.  0.  0. ]\n",
            " [0.  0.  0.  0.  1.  0. ]\n",
            " [0.  0.  0.  1.  0.  0. ]\n",
            " [0.  0.  0.  0.  0.  1. ]\n",
            " [1.  0.  0.  0.  0.  0. ]\n",
            " [1.  0.  0.  0.  0.  0. ]\n",
            " [0.  0.  0.  0.  0.4 0.6]\n",
            " [0.  1.  0.  0.  0.  0. ]\n",
            " [0.  0.  0.  0.  0.  1. ]\n",
            " [0.  0.  0.  0.  0.  1. ]\n",
            " [0.  0.  0.  0.  0.  1. ]\n",
            " [0.  0.  1.  0.  0.  0. ]\n",
            " [0.  1.  0.  0.  0.  0. ]\n",
            " [1.  0.  0.  0.  0.  0. ]\n",
            " [1.  0.  0.  0.  0.  0. ]\n",
            " [0.  0.  0.  0.4 0.6 0. ]\n",
            " [1.  0.  0.  0.  0.  0. ]\n",
            " [1.  0.  0.  0.  0.  0. ]\n",
            " [0.  1.  0.  0.  0.  0. ]\n",
            " [0.  0.  1.  0.  0.  0. ]\n",
            " [0.  1.  0.  0.  0.  0. ]\n",
            " [0.4 0.6 0.  0.  0.  0. ]\n",
            " [0.  0.  0.  0.  0.  1. ]\n",
            " [0.  0.  0.  1.  0.  0. ]\n",
            " [0.  0.  1.  0.  0.  0. ]\n",
            " [0.  1.  0.  0.  0.  0. ]\n",
            " [0.  1.  0.  0.  0.  0. ]\n",
            " [0.  1.  0.  0.  0.  0. ]\n",
            " [0.  0.  0.  0.  0.  1. ]\n",
            " [1.  0.  0.  0.  0.  0. ]\n",
            " [0.  1.  0.  0.  0.  0. ]\n",
            " [0.  0.  0.8 0.2 0.  0. ]\n",
            " [0.  1.  0.  0.  0.  0. ]\n",
            " [0.  1.  0.  0.  0.  0. ]\n",
            " [0.  1.  0.  0.  0.  0. ]\n",
            " [0.  1.  0.  0.  0.  0. ]\n",
            " [0.  1.  0.  0.  0.  0. ]\n",
            " [1.  0.  0.  0.  0.  0. ]\n",
            " [1.  0.  0.  0.  0.  0. ]\n",
            " [0.6 0.4 0.  0.  0.  0. ]\n",
            " [0.  1.  0.  0.  0.  0. ]\n",
            " [1.  0.  0.  0.  0.  0. ]\n",
            " [1.  0.  0.  0.  0.  0. ]\n",
            " [0.  0.  0.  0.  0.2 0.8]\n",
            " [0.  1.  0.  0.  0.  0. ]\n",
            " [0.  0.  0.  1.  0.  0. ]\n",
            " [0.8 0.2 0.  0.  0.  0. ]\n",
            " [1.  0.  0.  0.  0.  0. ]\n",
            " [0.  1.  0.  0.  0.  0. ]\n",
            " [1.  0.  0.  0.  0.  0. ]\n",
            " [0.  0.  0.  0.  0.  1. ]]\n",
            "\n",
            "P = 3:\n",
            "0.9932885906040269\n",
            "0.953125\n",
            "[[1.  0.  0.  0.  0.  0. ]\n",
            " [0.  0.  0.  0.  0.  1. ]\n",
            " [0.8 0.2 0.  0.  0.  0. ]\n",
            " [0.  0.  0.  0.  0.  1. ]\n",
            " [0.  1.  0.  0.  0.  0. ]\n",
            " [0.  1.  0.  0.  0.  0. ]\n",
            " [1.  0.  0.  0.  0.  0. ]\n",
            " [0.  1.  0.  0.  0.  0. ]\n",
            " [0.  1.  0.  0.  0.  0. ]\n",
            " [0.  0.4 0.6 0.  0.  0. ]\n",
            " [0.  0.  0.  0.  0.8 0.2]\n",
            " [0.  0.  0.  1.  0.  0. ]\n",
            " [0.  1.  0.  0.  0.  0. ]\n",
            " [0.  1.  0.  0.  0.  0. ]\n",
            " [0.  0.  0.  0.  1.  0. ]\n",
            " [0.  0.  0.  1.  0.  0. ]\n",
            " [0.  0.  0.  0.  0.  1. ]\n",
            " [1.  0.  0.  0.  0.  0. ]\n",
            " [1.  0.  0.  0.  0.  0. ]\n",
            " [0.  0.  0.  0.  0.4 0.6]\n",
            " [0.  1.  0.  0.  0.  0. ]\n",
            " [0.  0.  0.  0.  0.  1. ]\n",
            " [0.  0.  0.  0.  0.  1. ]\n",
            " [0.  0.  0.  0.  0.  1. ]\n",
            " [0.  0.  1.  0.  0.  0. ]\n",
            " [0.  1.  0.  0.  0.  0. ]\n",
            " [1.  0.  0.  0.  0.  0. ]\n",
            " [1.  0.  0.  0.  0.  0. ]\n",
            " [0.  0.  0.  0.6 0.4 0. ]\n",
            " [1.  0.  0.  0.  0.  0. ]\n",
            " [1.  0.  0.  0.  0.  0. ]\n",
            " [0.  1.  0.  0.  0.  0. ]\n",
            " [0.  0.  1.  0.  0.  0. ]\n",
            " [0.  1.  0.  0.  0.  0. ]\n",
            " [0.2 0.8 0.  0.  0.  0. ]\n",
            " [0.  0.  0.  0.  0.  1. ]\n",
            " [0.  0.  0.  1.  0.  0. ]\n",
            " [0.  0.  1.  0.  0.  0. ]\n",
            " [0.  1.  0.  0.  0.  0. ]\n",
            " [0.  1.  0.  0.  0.  0. ]\n",
            " [0.  1.  0.  0.  0.  0. ]\n",
            " [0.  0.  0.  0.  0.  1. ]\n",
            " [1.  0.  0.  0.  0.  0. ]\n",
            " [0.  1.  0.  0.  0.  0. ]\n",
            " [0.  0.  0.6 0.4 0.  0. ]\n",
            " [0.  1.  0.  0.  0.  0. ]\n",
            " [0.  1.  0.  0.  0.  0. ]\n",
            " [0.  1.  0.  0.  0.  0. ]\n",
            " [0.  1.  0.  0.  0.  0. ]\n",
            " [0.  1.  0.  0.  0.  0. ]\n",
            " [1.  0.  0.  0.  0.  0. ]\n",
            " [1.  0.  0.  0.  0.  0. ]\n",
            " [0.4 0.6 0.  0.  0.  0. ]\n",
            " [0.  1.  0.  0.  0.  0. ]\n",
            " [1.  0.  0.  0.  0.  0. ]\n",
            " [1.  0.  0.  0.  0.  0. ]\n",
            " [0.  0.  0.  0.  0.2 0.8]\n",
            " [0.  1.  0.  0.  0.  0. ]\n",
            " [0.  0.  0.2 0.8 0.  0. ]\n",
            " [0.6 0.4 0.  0.  0.  0. ]\n",
            " [1.  0.  0.  0.  0.  0. ]\n",
            " [0.  1.  0.  0.  0.  0. ]\n",
            " [1.  0.  0.  0.  0.  0. ]\n",
            " [0.  0.  0.  0.  0.  1. ]]\n"
          ]
        }
      ]
    },
    {
      "cell_type": "markdown",
      "metadata": {
        "id": "8QYRC0S10tuw"
      },
      "source": [
        "#### Discussion\n",
        "What were your accuracies or output probabilities and how did different hyperparameter values affect the outcome? Discuss the differences you see."
      ]
    },
    {
      "cell_type": "markdown",
      "metadata": {
        "id": "xvPdB6si0tuw"
      },
      "source": [
        "Overall, the classifier had very high accuracies with the default values. When changing the test/train split, the accuracies and probabilities weren't graetly affected while the test set was the majortiy of the data. Once I did a 50/50 split on the data, that was when the probabilities started to change and the training accuracy began to decrease. By changing the p-value, the accuracy was affected more. With the p-value as 1 (using the manhattan distance) it caused the the test accuracy to be the highest of the p-values I tried. By increasing the p-value to 3, it decreased the accuracy back to what it was for the default p-value of 2 at about 95%. So for this dataset, having a small test set and a small p-value give the best accuracy and output probabilities."
      ]
    },
    {
      "cell_type": "markdown",
      "metadata": {
        "id": "9vWiTdlbR2Xh"
      },
      "source": [
        "## 2 KNN Classification with normalization and distance weighting\n",
        "\n",
        "Use the [magic telescope](https://axon.cs.byu.edu/data/uci_class/MagicTelescope.arff) dataset\n",
        "\n",
        "### 2.1 (5%) - Without Normalization or Distance Weighting\n",
        "- Do random 80/20 train/test splits each time\n",
        "- Run with k=3 and *without* distance weighting and *without* normalization\n",
        "- Show train and test set accuracy"
      ]
    },
    {
      "cell_type": "code",
      "execution_count": 5,
      "metadata": {
        "id": "4SSoasDQSKXb",
        "colab": {
          "base_uri": "https://localhost:8080/"
        },
        "outputId": "a3afa64c-6b97-4a21-a7e9-56cadd6abc22"
      },
      "outputs": [
        {
          "output_type": "stream",
          "name": "stdout",
          "text": [
            "0.8857781282860148\n",
            "0.806782334384858\n"
          ]
        }
      ],
      "source": [
        "# Learn magic telescope data\n",
        "\n",
        "data, meta = arff.loadarff(\"MagicTelescope.arff\")\n",
        "df = pd.DataFrame(data)\n",
        "df = df.map(lambda x: x.decode(\"utf-8\") if isinstance(x, bytes) else x)\n",
        "X = df.drop(\"class:\", axis=1)\n",
        "y = df[\"class:\"]\n",
        "y = LabelEncoder().fit_transform(y)\n",
        "X = pd.get_dummies(X)\n",
        "\n",
        "X_train, X_test, y_train, y_test = train_test_split(X, y, test_size=0.2, random_state=42)\n",
        "clf = KNeighborsClassifier(n_neighbors=3)\n",
        "clf.fit(X_train, y_train)\n",
        "print(clf.score(X_train, y_train))\n",
        "print(clf.score(X_test, y_test))"
      ]
    },
    {
      "cell_type": "markdown",
      "metadata": {
        "id": "0OEARCwy0tuw"
      },
      "source": [
        "#### Discussion\n",
        "What did you observe in your results?"
      ]
    },
    {
      "cell_type": "markdown",
      "metadata": {
        "id": "MLsHEmRO0tuw"
      },
      "source": [
        "The accuracies for both the train and test set were very low. The data has just over 19,000 instances, so by only allowing for 3 neighbors to be considered, and no weighting or normalization involved, it may not have been able to be trained on a representative understanding of the data."
      ]
    },
    {
      "cell_type": "markdown",
      "metadata": {
        "id": "zlvOA5EW0tuw"
      },
      "source": [
        "### 2.2 (10%) With Normalization\n",
        "- Try it with k=3 without distance weighting but *with* normalization of input features.  You may use any reasonable normalization approach (e.g. standard min-max normalization between 0-1, z-transform, etc.)"
      ]
    },
    {
      "cell_type": "code",
      "execution_count": 6,
      "metadata": {
        "colab": {
          "base_uri": "https://localhost:8080/"
        },
        "id": "JUyAtCqT0tuw",
        "outputId": "756981ad-3d63-45fd-cf7c-75bf9abe5dd2"
      },
      "outputs": [
        {
          "output_type": "stream",
          "name": "stdout",
          "text": [
            "0.9014195583596214\n",
            "0.8283385909568874\n"
          ]
        }
      ],
      "source": [
        "# Train/Predict with normalization\n",
        "from sklearn.preprocessing import MinMaxScaler\n",
        "\n",
        "data, meta = arff.loadarff(\"MagicTelescope.arff\")\n",
        "df = pd.DataFrame(data)\n",
        "df = df.map(lambda x: x.decode(\"utf-8\") if isinstance(x, bytes) else x)\n",
        "X = df.drop(\"class:\", axis=1)\n",
        "y = df[\"class:\"]\n",
        "y = LabelEncoder().fit_transform(y)\n",
        "X = pd.get_dummies(X)\n",
        "\n",
        "X_train, X_test, y_train, y_test = train_test_split(X, y, test_size=0.2, random_state=42)\n",
        "\n",
        "scaler = MinMaxScaler()\n",
        "X_train = scaler.fit_transform(X_train)\n",
        "X_test = scaler.transform(X_test)\n",
        "\n",
        "clf = KNeighborsClassifier(n_neighbors=3)\n",
        "clf.fit(X_train, y_train)\n",
        "print(clf.score(X_train, y_train))\n",
        "print(clf.score(X_test, y_test))"
      ]
    },
    {
      "cell_type": "markdown",
      "metadata": {
        "id": "kwhXIeMp0tuw"
      },
      "source": [
        "#### Discussion\n",
        "Discuss the results of using normalized data vs. unnormalized data"
      ]
    },
    {
      "cell_type": "markdown",
      "metadata": {
        "id": "aKPlfjrc0tuw"
      },
      "source": [
        "Using the normalized data caused the overall accuracy of the model to increase by 2% for both the training data and the test data. By normalizing the data it helped scale the units of all the features to have similar dimensions. By so doing, it helped the data to be more comparable across features. This lent the normalized data to have better accuracy than the unnormalized data."
      ]
    },
    {
      "cell_type": "markdown",
      "metadata": {
        "id": "FMuTUEbz0tuw"
      },
      "source": [
        "### 2.3 (10%) With Distance Weighting\n",
        "- Try it with k=3 and with distance weighting *and* normalization"
      ]
    },
    {
      "cell_type": "code",
      "execution_count": 7,
      "metadata": {
        "colab": {
          "base_uri": "https://localhost:8080/"
        },
        "id": "0rpSL5FC0tuw",
        "outputId": "614b8a54-1bca-437a-bc22-3bcf948d449f"
      },
      "outputs": [
        {
          "output_type": "stream",
          "name": "stdout",
          "text": [
            "1.0\n",
            "0.830441640378549\n"
          ]
        }
      ],
      "source": [
        "#Train/Precdict with normalization and distance weighting\n",
        "from sklearn.preprocessing import MinMaxScaler\n",
        "\n",
        "data, meta = arff.loadarff(\"MagicTelescope.arff\")\n",
        "df = pd.DataFrame(data)\n",
        "df = df.map(lambda x: x.decode(\"utf-8\") if isinstance(x, bytes) else x)\n",
        "X = df.drop(\"class:\", axis=1)\n",
        "y = df[\"class:\"]\n",
        "y = LabelEncoder().fit_transform(y)\n",
        "X = pd.get_dummies(X)\n",
        "\n",
        "X_train, X_test, y_train, y_test = train_test_split(X, y, test_size=0.2, random_state=42)\n",
        "\n",
        "scaler = MinMaxScaler()\n",
        "X_train = scaler.fit_transform(X_train)\n",
        "X_test = scaler.transform(X_test)\n",
        "\n",
        "clf = KNeighborsClassifier(n_neighbors=3, weights='distance')\n",
        "clf.fit(X_train, y_train)\n",
        "print(clf.score(X_train, y_train))\n",
        "print(clf.score(X_test, y_test))"
      ]
    },
    {
      "cell_type": "markdown",
      "metadata": {
        "id": "F4OIdY7C0tuw"
      },
      "source": [
        "#### Discussion\n",
        "Comparison and discuss the differences you see with distance weighting and normalization vs without."
      ]
    },
    {
      "cell_type": "markdown",
      "metadata": {
        "id": "pGrKOzgB0tuw"
      },
      "source": [
        "The best accuracy came when using the normalized data and by using weighted distances. By using this combination the training data accuracy skyrocketed to 100% when the highest without the weighted distances (Even with normalization) the data was able to get to was 90%. What was really interesting to me was how the test accuracy continually was not super high. From not having the weighted distances and no normalization, to having the weighted distances and normalization, the test accuracy only increased by 3% over the trials. To increase test accuracy, other hyperparameters may have to be adjusted in a ddition to these to help increase the test accuracy of the data."
      ]
    },
    {
      "cell_type": "markdown",
      "metadata": {
        "id": "lKge0F2A0tuw"
      },
      "source": [
        "### 2.4 (10%) Different k Values\n",
        "- Using your normalized data with distance weighting, create one graph with classification accuracy on the test set on the y-axis and k values on the x-axis.\n",
        "- Use values of k from 1 to 15.  Use the same train/test split for each."
      ]
    },
    {
      "cell_type": "code",
      "execution_count": 9,
      "metadata": {
        "colab": {
          "base_uri": "https://localhost:8080/",
          "height": 472
        },
        "id": "Jbl1c3px0tuw",
        "outputId": "ddd6b29b-77b9-479c-b932-2ac10d5690ce"
      },
      "outputs": [
        {
          "output_type": "display_data",
          "data": {
            "text/plain": [
              "<Figure size 640x480 with 1 Axes>"
            ],
            "image/png": "[encoded data removed]"
          },
          "metadata": {}
        }
      ],
      "source": [
        "# Calculate and Graph classification accuracy vs k values\n",
        "from sklearn.preprocessing import MinMaxScaler\n",
        "\n",
        "data, meta = arff.loadarff(\"MagicTelescope.arff\")\n",
        "df = pd.DataFrame(data)\n",
        "df = df.map(lambda x: x.decode(\"utf-8\") if isinstance(x, bytes) else x)\n",
        "X = df.drop(\"class:\", axis=1)\n",
        "y = df[\"class:\"]\n",
        "y = LabelEncoder().fit_transform(y)\n",
        "X = pd.get_dummies(X)\n",
        "\n",
        "X_train, X_test, y_train, y_test = train_test_split(X, y, test_size=0.2, random_state=42)\n",
        "\n",
        "scaler = MinMaxScaler()\n",
        "X_train = scaler.fit_transform(X_train)\n",
        "X_test = scaler.transform(X_test)\n",
        "\n",
        "accuracies = {}\n",
        "\n",
        "for i in range(1,16):\n",
        "  clf = KNeighborsClassifier(n_neighbors=i, weights='distance')\n",
        "  clf.fit(X_train, y_train)\n",
        "  accuracies[i] = clf.score(X_test, y_test)\n",
        "\n",
        "x = list(accuracies.keys())\n",
        "y = list(accuracies.values())\n",
        "plt.plot(x, y, marker='o', linestyle='-')\n",
        "plt.xlabel(\"K Values\")\n",
        "plt.ylabel(\"Test Classification Accuracy\")\n",
        "plt.title(\"Accuracy v. K\")\n",
        "plt.grid(True)\n",
        "plt.show()"
      ]
    },
    {
      "cell_type": "markdown",
      "metadata": {
        "id": "5j920gwL0tuw"
      },
      "source": [
        "#### Discussion\n",
        "How do the k values affect your results?"
      ]
    },
    {
      "cell_type": "markdown",
      "metadata": {
        "id": "UbPFJqBC0tuw"
      },
      "source": [
        "Increasing the k value did increase the results, but it peaked at a certain point and then started to decrease slightly again. For this data, the peak was at k=9 with a 84.5% accuracy. This shows how for a ceratin dataset the accuracy could get worse if too many neighbors are considered when training the model. For a set of data it is better for find the optimal k-value and then use that to test the data."
      ]
    },
    {
      "cell_type": "markdown",
      "metadata": {
        "id": "SIRG42TgSR4x"
      },
      "source": [
        "## 3 KNN Regression with normalization and distance weighting\n",
        "\n",
        "Use the [sklean KNeighborsRegressor](https://scikit-learn.org/stable/modules/generated/sklearn.neighbors.KNeighborsRegressor.html#sklearn.neighbors.KNeighborsRegressor) on the [housing price prediction](https://axon.cs.byu.edu/data/uci_regression/housing.arff) problem.  \n",
        "### 3.1 (5%) Ethical Data\n",
        "Note this data set has an example of an inappropriate input feature which we discussed.  State which feature is inappropriate and discuss why."
      ]
    },
    {
      "cell_type": "markdown",
      "metadata": {
        "id": "kO-uOVqk0tuw"
      },
      "source": [
        "#### Discussion\n",
        "Discuss the innapropriate feature. Which one and why?"
      ]
    },
    {
      "cell_type": "markdown",
      "metadata": {
        "id": "pbtu4xcx0tuw"
      },
      "source": [
        "The inappropriate feature is the feature that takes the proportion of blacks by town into account. This data is meant to predict house price, and by including this metric, it is implying that race is a factor in determining the value of a neighborhood or a house. While this sentiment did taint the American view of certain neighborhoods and house prices for many years, in today's era of house pricing, it is unethical to include this feature when predicting modern house prices. A person's race does not categorize them into a certain social standing or imply their economic status. This feature should not be included when training a model on this data."
      ]
    },
    {
      "cell_type": "markdown",
      "metadata": {
        "id": "vD6rpxcp0tuw"
      },
      "source": [
        "### 3.2 (15%) - KNN Regression\n",
        "- Do random 80/20 train/test splits each time\n",
        "- Run with k=3\n",
        "- Print the score (coefficient of determination) and Mean Absolute Error (MAE) for the train and test set for the cases of\n",
        "  - No input normalization and no distance weighting\n",
        "  - Normalization and no distance weighting\n",
        "  - Normalization and distance weighting\n",
        "- Normalize inputs features where needed but do not normalize the output"
      ]
    },
    {
      "cell_type": "code",
      "execution_count": 19,
      "metadata": {
        "id": "KBGUn43ASiXW",
        "colab": {
          "base_uri": "https://localhost:8080/"
        },
        "outputId": "b0349450-3316-4127-ef18-1630ff9e21fe"
      },
      "outputs": [
        {
          "output_type": "stream",
          "name": "stdout",
          "text": [
            "No input normalization or distance weighting:\n",
            "Training Score: 0.8685238391672968\n",
            "Test Score: 0.5765311368844547\n",
            "Training MAE: 15.335808580858084\n",
            "Test MAE: 26.5359477124183\n",
            "\n",
            "Normalization but no distance weighting:\n",
            "Training Score: 0.9164775803334891\n",
            "Test Score: 0.7434295604166743\n",
            "Training MAE: 12.571782178217822\n",
            "Test MAE: 20.529411764705888\n",
            "\n",
            "Normalization and distance weighting:\n",
            "Training Score: 1.0\n",
            "Test Score: 0.7411996151021458\n",
            "Training MAE: 0.0\n",
            "Test MAE: 20.26558474048567\n"
          ]
        }
      ],
      "source": [
        "# Learn and experiment with housing price prediction data\n",
        "from sklearn.metrics import mean_absolute_error\n",
        "\n",
        "data, meta = arff.loadarff(\"housing.arff\")\n",
        "df = pd.DataFrame(data)\n",
        "df = df.map(lambda x: x.decode(\"utf-8\") if isinstance(x, bytes) else x)\n",
        "X = df.drop(columns=[\"MEDV\", \"B\"])\n",
        "y = df[\"MEDV\"]\n",
        "y = LabelEncoder().fit_transform(y)\n",
        "X = pd.get_dummies(X)\n",
        "\n",
        "X_train, X_test, y_train, y_test = train_test_split(X, y, test_size=0.2, random_state=42)\n",
        "\n",
        "clf = KNeighborsRegressor(n_neighbors=3)\n",
        "clf.fit(X_train, y_train)\n",
        "y_pred_test = clf.predict(X_test)\n",
        "y_pred_train = clf.predict(X_train)\n",
        "print(\"No input normalization or distance weighting:\")\n",
        "print(f'Training Score: {clf.score(X_train, y_train)}')\n",
        "print(f'Test Score: {clf.score(X_test, y_test)}')\n",
        "print(f'Training MAE: {mean_absolute_error(y_train, y_pred_train)}')\n",
        "print(f'Test MAE: {mean_absolute_error(y_test, y_pred_test)}')\n",
        "print()\n",
        "\n",
        "X_train, X_test, y_train, y_test = train_test_split(X, y, test_size=0.2, random_state=42)\n",
        "\n",
        "scaler = MinMaxScaler()\n",
        "X_train = scaler.fit_transform(X_train)\n",
        "X_test = scaler.transform(X_test)\n",
        "\n",
        "clf = KNeighborsRegressor(n_neighbors=3)\n",
        "clf.fit(X_train, y_train)\n",
        "y_pred_test = clf.predict(X_test)\n",
        "y_pred_train = clf.predict(X_train)\n",
        "print(\"Normalization but no distance weighting:\")\n",
        "print(f'Training Score: {clf.score(X_train, y_train)}')\n",
        "print(f'Test Score: {clf.score(X_test, y_test)}')\n",
        "print(f'Training MAE: {mean_absolute_error(y_train, y_pred_train)}')\n",
        "print(f'Test MAE: {mean_absolute_error(y_test, y_pred_test)}')\n",
        "print()\n",
        "\n",
        "X_train, X_test, y_train, y_test = train_test_split(X, y, test_size=0.2, random_state=42)\n",
        "\n",
        "scaler = MinMaxScaler()\n",
        "X_train = scaler.fit_transform(X_train)\n",
        "X_test = scaler.transform(X_test)\n",
        "\n",
        "clf = KNeighborsRegressor(n_neighbors=3, weights='distance')\n",
        "clf.fit(X_train, y_train)\n",
        "y_pred_test = clf.predict(X_test)\n",
        "y_pred_train = clf.predict(X_train)\n",
        "print(\"Normalization and distance weighting:\")\n",
        "print(f'Training Score: {clf.score(X_train, y_train)}')\n",
        "print(f'Test Score: {clf.score(X_test, y_test)}')\n",
        "print(f'Training MAE: {mean_absolute_error(y_train, y_pred_train)}')\n",
        "print(f'Test MAE: {mean_absolute_error(y_test, y_pred_test)}')"
      ]
    },
    {
      "cell_type": "markdown",
      "metadata": {
        "id": "TMgKOU7v0tux"
      },
      "source": [
        "#### Discussion\n",
        "Discuss your results. How did the hyperparameters affect your results? Discuss each one and combinations of each."
      ]
    },
    {
      "cell_type": "markdown",
      "metadata": {
        "id": "JdyQoW9a0tux"
      },
      "source": [
        "Normalizing the data had the biggest affect on the testing accuracy. The accuracy of the test data increased by almost 20% when the input data was normalized, showing how each feature was on a completely different scale to begin with. This hyperparameter really brought to light the disparity of the units of each feature, so by normalizing it, the model was able to understand the data better. The distance weighting metric mostly affected the training accuracy. When the distance weighting was introduced the training accuracy jumped to 100%. However, the test accuracy stayed low at just under 75%. There could be some overfitting happening in the training data that could be causing these results. The combination of these two hyperparameters however did result in the lowest mean absolute errors which was a good sign of the effect these hyperparameters have when used in tandem."
      ]
    },
    {
      "cell_type": "markdown",
      "metadata": {
        "id": "lJISDA4f0tux"
      },
      "source": [
        "### 3.3 (10%)  Different k Values\n",
        "- Using housing with normalized data and distance weighting, create one graph with MAE on the test set on the y-axis and k values on the x-axis\n",
        "- Use values of k from 1 to 15.  Use the same train/test split for each."
      ]
    },
    {
      "cell_type": "code",
      "execution_count": 20,
      "metadata": {
        "colab": {
          "base_uri": "https://localhost:8080/",
          "height": 472
        },
        "id": "SBHNpRqB0tux",
        "outputId": "f98b7597-532c-446f-c457-b7099850d0df"
      },
      "outputs": [
        {
          "output_type": "display_data",
          "data": {
            "text/plain": [
              "<Figure size 640x480 with 1 Axes>"
            ],
            "image/png": "[encoded data removed]"
          },
          "metadata": {}
        }
      ],
      "source": [
        "# Learn and graph for different k values\n",
        "\n",
        "data, meta = arff.loadarff(\"housing.arff\")\n",
        "df = pd.DataFrame(data)\n",
        "df = df.map(lambda x: x.decode(\"utf-8\") if isinstance(x, bytes) else x)\n",
        "X = df.drop(columns=[\"MEDV\", \"B\"])\n",
        "y = df[\"MEDV\"]\n",
        "y = LabelEncoder().fit_transform(y)\n",
        "X = pd.get_dummies(X)\n",
        "\n",
        "X_train, X_test, y_train, y_test = train_test_split(X, y, test_size=0.2, random_state=42)\n",
        "\n",
        "scaler = MinMaxScaler()\n",
        "X_train = scaler.fit_transform(X_train)\n",
        "X_test = scaler.transform(X_test)\n",
        "\n",
        "maes = {}\n",
        "\n",
        "for i in range(1,16):\n",
        "  clf = KNeighborsRegressor(n_neighbors=i, weights='distance')\n",
        "  clf.fit(X_train, y_train)\n",
        "  y_pred_test = clf.predict(X_test)\n",
        "  maes[i] = mean_absolute_error(y_test, y_pred_test)\n",
        "\n",
        "x = list(maes.keys())\n",
        "y = list(maes.values())\n",
        "plt.plot(x, y, marker='o', linestyle='-')\n",
        "plt.xlabel(\"K Values\")\n",
        "plt.ylabel(\"Test Mean Absolute Error\")\n",
        "plt.title(\"MAE v. K\")\n",
        "plt.grid(True)\n",
        "plt.show()"
      ]
    },
    {
      "cell_type": "markdown",
      "metadata": {
        "id": "4q3NdGf20tux"
      },
      "source": [
        "#### Discussion\n",
        "How did the k values affect your results for this dataset? How does that compare to your previous work in this lab?"
      ]
    },
    {
      "cell_type": "markdown",
      "metadata": {
        "id": "f9zi3byo0tux"
      },
      "source": [
        "This dataset is really sensitive to small k values and large k values. The minimum error came with k=6, so that would be the optimal k to use for this dataset. When comparing this data to the previous MAgic Telescope data, it is very apparent how this data is sensitive to quick changed in k values, when the telescope data was not. The telescope data started to plateau at a certain point, and had a wider range of decent accuracy for a range of k values. For this housing data, there is only one point that gives a clear optimal accuracy, with the rest being substantially lower than it."
      ]
    },
    {
      "cell_type": "markdown",
      "metadata": {
        "id": "ZA6MCNl90tux"
      },
      "source": [
        "## 4. (20%) KNN with nominal and real data\n",
        "\n",
        "- Use the [lymph dataset](https://axon.cs.byu.edu/data/uci_class/lymph.arff)\n",
        "- Use a 80/20 split of the data for the training/test set\n",
        "- This dataset has both continuous and nominal attributes\n",
        "- Implement a distance metric which uses Euclidean distance for continuous features and 0/1 distance for nominal. Hints:\n",
        "    - Write your own distance function (e.g. mydist) and use clf = KNeighborsClassifier(metric=mydist)\n",
        "    - Change the nominal features in the data set to integer values since KNeighborsClassifier expects numeric features. I used Label_Encoder on the nominal features.\n",
        "    - Keep a list of which features are nominal which mydist can use to decide which distance measure to use\n",
        "    - There was an occasional bug in SK version 1.3.0 (\"Flags object has no attribute 'c_contiguous'\") that went away when I upgraded to the lastest SK version 1.3.1\n",
        "- Use your own choice for k and other parameters"
      ]
    },
    {
      "cell_type": "code",
      "execution_count": 48,
      "metadata": {
        "colab": {
          "base_uri": "https://localhost:8080/"
        },
        "id": "cS7U3L-H0tux",
        "outputId": "6ff994a0-7637-4cc3-df33-41b5f56fb565"
      },
      "outputs": [
        {
          "output_type": "stream",
          "name": "stdout",
          "text": [
            "1.0\n",
            "0.8\n"
          ]
        }
      ],
      "source": [
        "# Train/Predict lymph with your own distance metric\n",
        "from scipy.spatial.distance import euclidean\n",
        "\n",
        "def my_dist(array1, array2, nominal_classes, features):\n",
        "  distance = 0.0\n",
        "  for i, label in enumerate(features):\n",
        "    a1 = array1[i]\n",
        "    a2 = array2[i]\n",
        "    if label in nominal_classes:\n",
        "      if a1 != a2:\n",
        "        distance += 1.0\n",
        "    else:\n",
        "      distance += (a1 - a2) ** 2\n",
        "  return distance ** 0.5\n",
        "\n",
        "data, meta = arff.loadarff(\"lymph.arff\")\n",
        "df = pd.DataFrame(data)\n",
        "df = df.map(lambda x: x.decode(\"utf-8\") if isinstance(x, bytes) else x)\n",
        "X = df.drop(columns=['class'])\n",
        "y = df['class']\n",
        "df.head()\n",
        "\n",
        "nominal_classes = []\n",
        "for col in X.columns:\n",
        "  if X[col].dtype == object:\n",
        "    nominal_classes.append(col)\n",
        "\n",
        "label = LabelEncoder()\n",
        "\n",
        "for col in X.columns:\n",
        "  if col in nominal_classes:\n",
        "    X[col] = label.fit_transform(X[col])\n",
        "\n",
        "y = label.fit_transform(y)\n",
        "\n",
        "X_train, X_test, y_train, y_test = train_test_split(X, y, test_size=0.2, random_state=42)\n",
        "\n",
        "clf = KNeighborsClassifier(n_neighbors=5, weights='distance', metric=my_dist, metric_params={'nominal_classes': nominal_classes, 'features': X.columns})\n",
        "clf.fit(X_train, y_train)\n",
        "print(clf.score(X_train, y_train))\n",
        "print(clf.score(X_test, y_test))"
      ]
    },
    {
      "cell_type": "markdown",
      "metadata": {
        "id": "E8G1mIbd0tux"
      },
      "source": [
        "#### Discussion\n",
        "Explain your distance metric and discuss your results"
      ]
    },
    {
      "cell_type": "markdown",
      "metadata": {
        "id": "Y5dKiKYY0tux"
      },
      "source": [
        "The distance metric I wrote takes as input the two arrays for comparison from the model, the nominal classes list, and a list of all the columns. Since the indexes of the values in the arrays correspond to the indexes of the columns in the dataframe, I was able to use those index value to iterate through the arrays and the dataframe columns to figure out which values in the arrays corresponded to nominal values. If a value was in a nominal column I use a 0/1 distance. If it wasn't in a nominal column, then I manually calculated the euclidean distance of the two points. Since the euclidean distance takes the square root of the squared points, I was able to leave the square rooting of the distance till the end, when all the values would have been considered and summed. I was very pleased with the results. The training data was able to get 100% accuracy, and the testing data had 80% accuracy. I think taking the nominal values into account and having a specific distance metric for those really helped the accuracy of the model. If there wasn't a 0/1 metric in place for these values, then the distances between these nominal points would have been a lot more skewed. For example, there was one nominal column that had some values up to 7 or so with the Label Encoding, and with my custom distance function the comparison between 1 and 7 ended up being 1, but if the regular euclidean distance was used then 36 would have been added to the sum of squares count. By keeping the nominal values with a 0/1 metric, it allowed the model to understand the data better and gain a better accuracy because of it."
      ]
    },
    {
      "cell_type": "markdown",
      "metadata": {
        "id": "Ed9VDEQW0tux"
      },
      "source": [
        "## 5. (Optional 15% extra credit) Code up your own KNN Learner\n",
        "Below is a scaffold you could use if you want. Requirements for this task:\n",
        "- Your model should support the methods shown in the example scaffold below\n",
        "- Use Euclidean distance to decide closest neighbors\n",
        "- Implement both the classification and regression versions\n",
        "- Include optional distance weighting for both algorithms\n",
        "- Run your algorithm on the magic telescope and housing data sets above and discuss and compare your results"
      ]
    },
    {
      "cell_type": "markdown",
      "metadata": {
        "id": "6Jt-HcOu0tux"
      },
      "source": [
        "*Discussion*"
      ]
    },
    {
      "cell_type": "code",
      "execution_count": null,
      "metadata": {
        "id": "wGeizwFd0tu5"
      },
      "outputs": [],
      "source": [
        "from sklearn.base import BaseEstimator, ClassifierMixin\n",
        "\n",
        "class KNNClassifier(BaseEstimator,ClassifierMixin):\n",
        "    def __init__(self, columntype=[], weight_type='inverse_distance'): ## add parameters here\n",
        "        \"\"\"\n",
        "        Args:\n",
        "            columntype for each column tells you if continues[real] or if nominal[categoritcal].\n",
        "            weight_type: inverse_distance voting or if non distance weighting. Options = [\"no_weight\",\"inverse_distance\"]\n",
        "        \"\"\"\n",
        "        self.columntype = columntype #Note This won't be needed until part 5\n",
        "        self.weight_type = weight_type\n",
        "\n",
        "    def fit(self, data, labels):\n",
        "        \"\"\" Fit the data; run the algorithm (for this lab really just saves the data :D)\n",
        "        Args:\n",
        "            X (array-like): A 2D numpy array with the training data, excluding targets\n",
        "            y (array-like): A 2D numpy array with the training targets\n",
        "        Returns:\n",
        "            self: this allows this to be chained, e.g. model.fit(X,y).predict(X_test)\n",
        "        \"\"\"\n",
        "        return self\n",
        "\n",
        "    def predict(self, data):\n",
        "        \"\"\" Predict all classes for a dataset X\n",
        "        Args:\n",
        "            X (array-like): A 2D numpy array with the training data, excluding targets\n",
        "        Returns:\n",
        "            array, shape (n_samples,)\n",
        "                Predicted target values per element in X.\n",
        "        \"\"\"\n",
        "        pass\n",
        "\n",
        "    #Returns the Mean score given input data and labels\n",
        "    def score(self, X, y):\n",
        "        \"\"\" Return accuracy of model on a given dataset. Must implement own score function.\n",
        "        Args:\n",
        "            X (array-like): A 2D numpy array with data, excluding targets\n",
        "            y (array-like): A 2D numpy array with targets\n",
        "        Returns:\n",
        "            score : float\n",
        "                Mean accuracy of self.predict(X) wrt. y.\n",
        "        \"\"\"\n",
        "        return 0"
      ]
    }
  ],
  "metadata": {
    "colab": {
      "provenance": []
    },
    "kernelspec": {
      "display_name": "Python 3.10.7 64-bit",
      "language": "python",
      "name": "python3"
    },
    "language_info": {
      "codemirror_mode": {
        "name": "ipython",
        "version": 3
      },
      "file_extension": ".py",
      "mimetype": "text/x-python",
      "name": "python",
      "nbconvert_exporter": "python",
      "pygments_lexer": "ipython3",
      "version": "3.10.7"
    },
    "vscode": {
      "interpreter": {
        "hash": "aee8b7b246df8f9039afb4144a1f6fd8d2ca17a180786b69acc140d282b71a49"
      }
    }
  },
  "nbformat": 4,
  "nbformat_minor": 0
}