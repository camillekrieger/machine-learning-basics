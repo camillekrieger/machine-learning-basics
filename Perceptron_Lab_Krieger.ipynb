{
  "cells": [
    {
      "cell_type": "markdown",
      "metadata": {
        "id": "DVL7_bgmIAPR"
      },
      "source": [
        "# Perceptron Lab"
      ]
    },
    {
      "cell_type": "markdown",
      "metadata": {
        "id": "rBIfzcfn3QPO"
      },
      "source": [
        "This is the scaffold notebook for the perceptron lab and each lab will have a similar scaffold.  Make your own copy of this notebook and then you can fill in the tasks.  **You will fill in code boxes and test boxes with discussion for most tasks** and particularly discussion of results, graphs, etc. Good writing, grammar, punctuation, etc. are important and points will be taken off if these things are lacking.\n",
        "\n",
        "<b><u>In most cases just reporting results without discussion will not receive full credit.</u></b> Thus, your discussion should also include sentences like the following: This is because…  Note that the …  I was surprised to observe… I am not sure why …, but my hypothesis is that …\n",
        "\n",
        "Start by looking over the scikit-learn [user guide](https://scikit-learn.org/stable/user_guide.html) and carefully reading over the [perceptron documentation](https://scikit-learn.org/stable/modules/generated/sklearn.linear_model.Perceptron.html)."
      ]
    },
    {
      "cell_type": "code",
      "execution_count": 89,
      "metadata": {
        "id": "6ZbYjZZZ_yLV"
      },
      "outputs": [],
      "source": [
        "# imports\n",
        "import numpy as np\n",
        "from scipy.io import arff\n",
        "import pandas as pd"
      ]
    },
    {
      "cell_type": "markdown",
      "metadata": {
        "id": "KibCIXIThpbE"
      },
      "source": [
        "## 1. Debug and Evaluation\n",
        "\n",
        "For most labs we will give you some data and expected results so that you can verify that you are doing things right and getting appropriate results.  We will then have you run on some other data with the exact same hyperparameters so we can see if your results are correct.\n",
        "\n",
        "### 1.1 Debug (5%)\n",
        "Download this [data set](https://raw.githubusercontent.com/cs472ta/CS472/master/datasets/linsep2nonorigin.arff) into your local directory and name it debug.arff.  To download rather than view, right-click the link and save as.  To allow consistent results run the Perceptron using the following hyperparameters:\n",
        "- Learning rate = .1\n",
        "- Do NOT shuffle the data after every epoch like you would normally do\n",
        "- Learn for a maximum of 10 epochs\n",
        "- Start all weights at 0 (which is the default for this scikit-learn implementation)  \n",
        "\n",
        "Your results should be:\n",
        "Accuracy = [.875]\\\n",
        "Final Weights = [[-0.23  0.18]]\\\n",
        "[-0.1] - This last weight is the bias weight, which they call the intercept.\n",
        "\n",
        "To help you with this first task, following is one detailed variation that would do this for you. You may use your own variation.  Note that commonly used variable names in the community are clf (classifier), X (array of input features), y (vector of output labels)."
      ]
    },
    {
      "cell_type": "code",
      "execution_count": 90,
      "metadata": {
        "id": "KgAyy82gixIF",
        "colab": {
          "base_uri": "https://localhost:8080/"
        },
        "outputId": "0817e711-e25e-4e19-aec4-9baa98ddd1dc"
      },
      "outputs": [
        {
          "output_type": "stream",
          "name": "stdout",
          "text": [
            "-- Epoch 1\n",
            "Norm: 0.04, NNZs: 2, Bias: -0.100000, T: 8, Avg. loss: 0.013500\n",
            "Total training time: 0.00 seconds.\n",
            "-- Epoch 2\n",
            "Norm: 0.07, NNZs: 2, Bias: -0.100000, T: 16, Avg. loss: 0.011875\n",
            "Total training time: 0.00 seconds.\n",
            "-- Epoch 3\n",
            "Norm: 0.11, NNZs: 2, Bias: -0.100000, T: 24, Avg. loss: 0.010250\n",
            "Total training time: 0.00 seconds.\n",
            "-- Epoch 4\n",
            "Norm: 0.14, NNZs: 2, Bias: -0.100000, T: 32, Avg. loss: 0.008625\n",
            "Total training time: 0.01 seconds.\n",
            "-- Epoch 5\n",
            "Norm: 0.18, NNZs: 2, Bias: -0.100000, T: 40, Avg. loss: 0.007000\n",
            "Total training time: 0.01 seconds.\n",
            "-- Epoch 6\n",
            "Norm: 0.21, NNZs: 2, Bias: -0.100000, T: 48, Avg. loss: 0.005375\n",
            "Total training time: 0.01 seconds.\n",
            "-- Epoch 7\n",
            "Norm: 0.23, NNZs: 2, Bias: -0.100000, T: 56, Avg. loss: 0.008250\n",
            "Total training time: 0.01 seconds.\n",
            "-- Epoch 8\n",
            "Norm: 0.25, NNZs: 2, Bias: -0.100000, T: 64, Avg. loss: 0.007625\n",
            "Total training time: 0.01 seconds.\n",
            "-- Epoch 9\n",
            "Norm: 0.27, NNZs: 2, Bias: -0.100000, T: 72, Avg. loss: 0.007000\n",
            "Total training time: 0.01 seconds.\n",
            "-- Epoch 10\n",
            "Norm: 0.29, NNZs: 2, Bias: -0.100000, T: 80, Avg. loss: 0.006375\n",
            "Total training time: 0.01 seconds.\n",
            "[[-0.23  0.18]]\n",
            "[-0.1]\n",
            "0.875\n"
          ]
        },
        {
          "output_type": "stream",
          "name": "stderr",
          "text": [
            "/usr/local/lib/python3.11/dist-packages/sklearn/linear_model/_stochastic_gradient.py:738: ConvergenceWarning: Maximum number of iteration reached before convergence. Consider increasing max_iter to improve the fit.\n",
            "  warnings.warn(\n"
          ]
        }
      ],
      "source": [
        "from sklearn.linear_model import Perceptron\n",
        "\n",
        "Data_Set = arff.loadarff('debug.arff')\n",
        "Data_Set_df = pd.DataFrame(Data_Set[0])\n",
        "Data_Set_np = Data_Set_df.to_numpy()\n",
        "Data_Set_np = Data_Set_np.astype(float)\n",
        "X = Data_Set_np[:, :-1]\n",
        "y = Data_Set_np[:, -1]\n",
        "\n",
        "clf = Perceptron(shuffle=False, verbose=1, eta0=.1, max_iter=10)\n",
        "clf.fit(X, y)\n",
        "print(clf.coef_)\n",
        "print(clf.intercept_)\n",
        "print(clf.score(X, y))"
      ]
    },
    {
      "cell_type": "markdown",
      "metadata": {
        "id": "5xJP3d45SRsr"
      },
      "source": [
        "Notes:\n",
        "* If you increase (or just remove) max_iter your perceptron will converge to 100% in one more epoch.  Try it!\n",
        "* verbose (integer) specifies how much info you get after each epoch.  It does not change results.  Try it with 0.\n",
        "    * Norm is a measure of the total weight magnitudes in the current model.\n",
        "    * NNZs is the number of non-zero weights there currently are (not including the bias).\n",
        "    * clf.intercept_ is the value of the bias weight, NOT the actual y-intercept of the decision surface, though it will affect that.\n",
        "    * T is the total number of weight updates so far.  In this case all the weights were updated each epoch.\n",
        "    * Avg. loss is another measure of error.  More on that later.\n",
        "    * The activation function outputs 1 if net > 0, else 0."
      ]
    },
    {
      "cell_type": "markdown",
      "metadata": {
        "id": "kY3VNB1ui03N"
      },
      "source": [
        "### 1.2 (5%) Evaluation\n",
        "\n",
        "Now train a perceptron model  on the [banknote authentication dataset](https://raw.githubusercontent.com/cs472ta/CS472/master/datasets/data_banknote_authentication.arff) and report the final accuracy, weights, and bias. Use the exact same hyperparameters as the debug dataset. The most common reason for results not matching ours is not exactly using the same hyperparameters (e.g. initial weights, training exactly 10 epochs, no shuffling, etc.) Hint: Throughout these labs for the numerous cases where you are doing the same task, but with different data (e.g. debug, eval), you could create a function where you just pass the data set name, so as not to recreate the code multiple times."
      ]
    },
    {
      "cell_type": "code",
      "execution_count": 91,
      "metadata": {
        "id": "2yAxA78QjDh2",
        "colab": {
          "base_uri": "https://localhost:8080/"
        },
        "outputId": "f144e547-975f-4927-db44-03d238f0cbe3"
      },
      "outputs": [
        {
          "output_type": "stream",
          "name": "stdout",
          "text": [
            "-- Epoch 1\n",
            "Norm: 1.42, NNZs: 4, Bias: 2.100000, T: 1372, Avg. loss: 0.023615\n",
            "Total training time: 0.00 seconds.\n",
            "-- Epoch 2\n",
            "Norm: 2.90, NNZs: 4, Bias: 2.600000, T: 2744, Avg. loss: 0.022359\n",
            "Total training time: 0.00 seconds.\n",
            "-- Epoch 3\n",
            "Norm: 3.62, NNZs: 4, Bias: 3.500000, T: 4116, Avg. loss: 0.028435\n",
            "Total training time: 0.00 seconds.\n",
            "-- Epoch 4\n",
            "Norm: 4.36, NNZs: 4, Bias: 3.700000, T: 5488, Avg. loss: 0.013195\n",
            "Total training time: 0.00 seconds.\n",
            "-- Epoch 5\n",
            "Norm: 4.51, NNZs: 4, Bias: 4.300000, T: 6860, Avg. loss: 0.015216\n",
            "Total training time: 0.01 seconds.\n",
            "-- Epoch 6\n",
            "Norm: 4.70, NNZs: 4, Bias: 4.700000, T: 8232, Avg. loss: 0.026061\n",
            "Total training time: 0.01 seconds.\n",
            "-- Epoch 7\n",
            "Norm: 5.40, NNZs: 4, Bias: 4.600000, T: 9604, Avg. loss: 0.018060\n",
            "Total training time: 0.01 seconds.\n",
            "-- Epoch 8\n",
            "Norm: 5.83, NNZs: 4, Bias: 4.800000, T: 10976, Avg. loss: 0.018378\n",
            "Total training time: 0.01 seconds.\n",
            "-- Epoch 9\n",
            "Norm: 5.88, NNZs: 4, Bias: 5.200000, T: 12348, Avg. loss: 0.015085\n",
            "Total training time: 0.01 seconds.\n",
            "Convergence after 9 epochs took 0.01 seconds\n",
            "[[-4.28857497 -2.390381   -3.0160324  -1.1686672 ]]\n",
            "[5.2]\n",
            "0.9766763848396501\n"
          ]
        }
      ],
      "source": [
        "# Load evaluation data\n",
        "# Train on the evaluation data\n",
        "# print your accuracy and weights. Do not enter these values by hand.\n",
        "def open_file(name):\n",
        "  return arff.loadarff(name)\n",
        "\n",
        "Data_Set = open_file('data_banknote_authentication.arff')\n",
        "Data_Set_df = pd.DataFrame(Data_Set[0])\n",
        "Data_Set_np = Data_Set_df.to_numpy()\n",
        "Data_Set_np = Data_Set_np.astype(float)\n",
        "X = Data_Set_np[:, :-1]\n",
        "y = Data_Set_np[:, -1]\n",
        "\n",
        "clf = Perceptron(shuffle=False, verbose=1, eta0=.1, max_iter=10)\n",
        "clf.fit(X, y)\n",
        "print(clf.coef_)\n",
        "print(clf.intercept_)\n",
        "print(clf.score(X, y))"
      ]
    },
    {
      "cell_type": "markdown",
      "metadata": {
        "id": "U-4J5VcS9umq"
      },
      "source": [
        "#### Discussion\n",
        "Open the box below and type in your discussion.  Note that after each exercise you will have a chance to discuss your effort and results. What was your final accuracy? What was your experience running on the banknote authentication dataset?"
      ]
    },
    {
      "cell_type": "markdown",
      "metadata": {
        "id": "W4nw3Q9hSRss"
      },
      "source": [
        "I was very intrigued that the banknote data got a better accuracy than the debug dataset. The banknote data had a 97.7% accuracy when the debug data had 87.5% accuracy. Looking over the data it makes sense that since the banknote dataset has a lot more data to train on that it would be more accurate. What I like about this agorithm is that the only input is the input data. This makes this algorithm very robust and able to handle many different kinds of data that can be separated by a series of weights."
      ]
    },
    {
      "cell_type": "markdown",
      "metadata": {
        "id": "9vWiTdlbR2Xh"
      },
      "source": [
        "## 2. Classifying on linearly separable and non-linearly separable data\n",
        "\n",
        "### 2.1 (5%) Create 2 datasets\n",
        "\n",
        "- Both with 8 instances using 2 real valued inputs with 4 instances from each class.\n",
        "- One data set should be linearly separable and the other not.\n",
        "- Show or print your datasets"
      ]
    },
    {
      "cell_type": "code",
      "execution_count": 92,
      "metadata": {
        "id": "4SSoasDQSKXb",
        "colab": {
          "base_uri": "https://localhost:8080/"
        },
        "outputId": "bf5f27b1-dab9-46cc-f6d9-480203830b50"
      },
      "outputs": [
        {
          "output_type": "stream",
          "name": "stdout",
          "text": [
            "Linear:\n",
            "    x1   x2 class\n",
            "0  0.1  0.8  b'1'\n",
            "1  0.2  0.9  b'1'\n",
            "2  0.1  0.7  b'1'\n",
            "3  0.3  0.9  b'1'\n",
            "4  0.3  0.1  b'0'\n",
            "5  0.4  0.2  b'0'\n",
            "6  0.5  0.3  b'0'\n",
            "7  0.7  0.2  b'0'\n",
            "\n",
            "Nonlinear:\n",
            "    x1   x2 class\n",
            "0  0.1  0.8  b'1'\n",
            "1  0.2  0.9  b'1'\n",
            "2  0.5  0.3  b'1'\n",
            "3  0.7  0.2  b'1'\n",
            "4  0.3  0.2  b'0'\n",
            "5  0.4  0.5  b'0'\n",
            "6  0.3  0.4  b'0'\n",
            "7  0.4  0.2  b'0'\n"
          ]
        }
      ],
      "source": [
        "# Create and show the 2 datasets.\n",
        "# You could do it here in Python or create arff files in your local folder with a text editor.  Either way show your dataset.\n",
        "\n",
        "# Linearly separable data:\n",
        "Data_Set = open_file('linear.arff')\n",
        "linearDF = pd.DataFrame(Data_Set[0])\n",
        "print('Linear:')\n",
        "print(linearDF)\n",
        "\n",
        "print()\n",
        "\n",
        "# Non-linearly separable data:\n",
        "Data_Set = open_file('nonlinear.arff')\n",
        "nonlinearDF = pd.DataFrame(Data_Set[0])\n",
        "print('Nonlinear:')\n",
        "print(nonlinearDF)"
      ]
    },
    {
      "cell_type": "markdown",
      "metadata": {
        "id": "SIRG42TgSR4x"
      },
      "source": [
        "### 2.2 (5%) Train on both sets using the scikit-learn perceptron model\n",
        "- Train on each and print the results. Train until convergence (i.e. use the default max_iter by simply not specifying it).\n",
        "- You may choose your other hyperparameters."
      ]
    },
    {
      "cell_type": "code",
      "execution_count": 93,
      "metadata": {
        "id": "KBGUn43ASiXW",
        "colab": {
          "base_uri": "https://localhost:8080/"
        },
        "outputId": "2a8973bd-fa3c-4b8f-fa40-aef57dc8cda2"
      },
      "outputs": [
        {
          "output_type": "stream",
          "name": "stdout",
          "text": [
            "Linear:\n",
            "-- Epoch 1\n",
            "Norm: 0.08, NNZs: 2, Bias: -0.100000, T: 8, Avg. loss: 0.014625\n",
            "Total training time: 0.00 seconds.\n",
            "-- Epoch 2\n",
            "Norm: 0.14, NNZs: 2, Bias: -0.100000, T: 16, Avg. loss: 0.009000\n",
            "Total training time: 0.00 seconds.\n",
            "-- Epoch 3\n",
            "Norm: 0.21, NNZs: 2, Bias: -0.100000, T: 24, Avg. loss: 0.003375\n",
            "Total training time: 0.00 seconds.\n",
            "-- Epoch 4\n",
            "Norm: 0.21, NNZs: 2, Bias: -0.100000, T: 32, Avg. loss: 0.000000\n",
            "Total training time: 0.00 seconds.\n",
            "-- Epoch 5\n",
            "Norm: 0.21, NNZs: 2, Bias: -0.100000, T: 40, Avg. loss: 0.000000\n",
            "Total training time: 0.00 seconds.\n",
            "-- Epoch 6\n",
            "Norm: 0.21, NNZs: 2, Bias: -0.100000, T: 48, Avg. loss: 0.000000\n",
            "Total training time: 0.00 seconds.\n",
            "-- Epoch 7\n",
            "Norm: 0.21, NNZs: 2, Bias: -0.100000, T: 56, Avg. loss: 0.000000\n",
            "Total training time: 0.00 seconds.\n",
            "-- Epoch 8\n",
            "Norm: 0.21, NNZs: 2, Bias: -0.100000, T: 64, Avg. loss: 0.000000\n",
            "Total training time: 0.00 seconds.\n",
            "-- Epoch 9\n",
            "Norm: 0.21, NNZs: 2, Bias: -0.100000, T: 72, Avg. loss: 0.000000\n",
            "Total training time: 0.01 seconds.\n",
            "Convergence after 9 epochs took 0.01 seconds\n",
            "[[-0.12  0.17]]\n",
            "[-0.1]\n",
            "1.0\n",
            "\n",
            "Nonlinear:\n",
            "-- Epoch 1\n",
            "Norm: 0.06, NNZs: 2, Bias: -0.100000, T: 8, Avg. loss: 0.017625\n",
            "Total training time: 0.00 seconds.\n",
            "-- Epoch 2\n",
            "Norm: 0.06, NNZs: 2, Bias: -0.100000, T: 16, Avg. loss: 0.035500\n",
            "Total training time: 0.01 seconds.\n",
            "-- Epoch 3\n",
            "Norm: 0.08, NNZs: 2, Bias: -0.100000, T: 24, Avg. loss: 0.034250\n",
            "Total training time: 0.01 seconds.\n",
            "-- Epoch 4\n",
            "Norm: 0.14, NNZs: 2, Bias: -0.100000, T: 32, Avg. loss: 0.008625\n",
            "Total training time: 0.01 seconds.\n",
            "-- Epoch 5\n",
            "Norm: 0.21, NNZs: 2, Bias: -0.100000, T: 40, Avg. loss: 0.003625\n",
            "Total training time: 0.01 seconds.\n",
            "-- Epoch 6\n",
            "Norm: 0.21, NNZs: 2, Bias: -0.100000, T: 48, Avg. loss: 0.014750\n",
            "Total training time: 0.01 seconds.\n",
            "-- Epoch 7\n",
            "Norm: 0.21, NNZs: 2, Bias: -0.100000, T: 56, Avg. loss: 0.014125\n",
            "Total training time: 0.01 seconds.\n",
            "-- Epoch 8\n",
            "Norm: 0.18, NNZs: 2, Bias: -0.200000, T: 64, Avg. loss: 0.013750\n",
            "Total training time: 0.01 seconds.\n",
            "-- Epoch 9\n",
            "Norm: 0.22, NNZs: 2, Bias: -0.200000, T: 72, Avg. loss: 0.024250\n",
            "Total training time: 0.01 seconds.\n",
            "-- Epoch 10\n",
            "Norm: 0.26, NNZs: 2, Bias: -0.200000, T: 80, Avg. loss: 0.022125\n",
            "Total training time: 0.02 seconds.\n",
            "Convergence after 10 epochs took 0.02 seconds\n",
            "[[-0.08  0.25]]\n",
            "[-0.2]\n",
            "0.625\n"
          ]
        },
        {
          "output_type": "stream",
          "name": "stderr",
          "text": [
            "/usr/local/lib/python3.11/dist-packages/sklearn/linear_model/_stochastic_gradient.py:738: ConvergenceWarning: Maximum number of iteration reached before convergence. Consider increasing max_iter to improve the fit.\n",
            "  warnings.warn(\n"
          ]
        }
      ],
      "source": [
        "# Train and print results with both datasets\n",
        "print('Linear:')\n",
        "Data_Set_np = linearDF.to_numpy()\n",
        "Data_Set_np = Data_Set_np.astype(float)\n",
        "X = Data_Set_np[:, :-1]\n",
        "y = Data_Set_np[:, -1]\n",
        "\n",
        "clf = Perceptron(shuffle=False, verbose=1, eta0=.1)\n",
        "clf.fit(X, y)\n",
        "print(clf.coef_)\n",
        "print(clf.intercept_)\n",
        "print(clf.score(X, y))\n",
        "\n",
        "print()\n",
        "\n",
        "print('Nonlinear:')\n",
        "Data_Set_np = nonlinearDF.to_numpy()\n",
        "Data_Set_np = Data_Set_np.astype(float)\n",
        "X = Data_Set_np[:, :-1]\n",
        "y = Data_Set_np[:, -1]\n",
        "\n",
        "clf = Perceptron(shuffle=False, verbose=1, eta0=.1, max_iter=10)\n",
        "clf.fit(X, y)\n",
        "print(clf.coef_)\n",
        "print(clf.intercept_)\n",
        "print(clf.score(X, y))"
      ]
    },
    {
      "cell_type": "markdown",
      "metadata": {
        "id": "890A39KX9zLC"
      },
      "source": [
        "#### Discussion\n",
        "What is different about the two runs? What makes one dataset not linearly separable? What is the result of the training? What is the accuracy of the two models?"
      ]
    },
    {
      "cell_type": "markdown",
      "metadata": {
        "id": "y8-F4CB0SRst"
      },
      "source": [
        "A few of the differences between the two datasets was that the linear data took less epochs to converge than the nonlinear data, and the linear data had substantially less average loss than the nonlinear data. Besides those differences the main difference was in the accuracy of how the perceptron separated the data. The linear data set was able to converge with 100% accuracy, when the nonlinear dataset converged with 62.5% accuracy. The reason for the low accuracy with the nonlinear data, and the reason that the data is not linearly separable, was because for one of the classes I intentionally clustered it in the middle, with the other class surrounding that cluster on both sides. Idealy this data would be quadratically separable, but because the model cannot separate the data with one straight line, it is considered not linearly separable. The result of the training for this data set was to find weights that would create a line with most of the data separated. However, the accuracy of the outcome suggests that using a linear perceptron model in this instance is not effective."
      ]
    },
    {
      "cell_type": "markdown",
      "metadata": {
        "id": "v19fpixqTe-7"
      },
      "source": [
        "### 2.3 (10%) Graph the datasets and their corresponding decision line\n",
        "\n",
        " - Graph each dataset\n",
        " - Use your trained perceptrons above to determine each dataset's decision line\n",
        "    - We discssed how to find the slope and intercept in class and the equation is in the Perceptron slides\n",
        " - For all graphs always label the axes!\n",
        " - Following are examples of what graphs could look like\n",
        "\n",
        "![Linearly Separable Data](https://raw.githubusercontent.com/rmorain/CS472-1/master/images/perceptron/linearly_separable.png)\n",
        "\n",
        "![Not Linearly Separable](https://raw.githubusercontent.com/rmorain/CS472-1/master/images/perceptron/not_linearly_separable.png)"
      ]
    },
    {
      "cell_type": "code",
      "execution_count": 94,
      "metadata": {
        "colab": {
          "base_uri": "https://localhost:8080/",
          "height": 472
        },
        "id": "8l64tZUqCEwy",
        "outputId": "e0e12de8-f1b6-46cd-dcdf-eec71a30276c"
      },
      "outputs": [
        {
          "output_type": "display_data",
          "data": {
            "text/plain": [
              "<Figure size 640x480 with 1 Axes>"
            ],
            "image/png": "[encoded data removed]"
          },
          "metadata": {}
        }
      ],
      "source": [
        "# Sample Graph code, You can use any graphing approach you want including this one.\n",
        "# We encourage you to use matplotlib.\n",
        "import matplotlib.pyplot as plt\n",
        "\n",
        "# The data in this example is made up.  You will use your real data.\n",
        "data = np.array([[-.9,-.9],[-.6,.6],[-.3,.3],[-.1,.1],[.1,.456],[.3,-.324],[.6,.778],[.9,-.76]])\n",
        "labels = np.array([0,0,0,0,1,1,1,1])\n",
        "\n",
        "# Create a scatter plot of data\n",
        "plt.xlim(-1,1)\n",
        "plt.ylim(-1,1)\n",
        "scatter = plt.scatter(data[:,0], data[:,1], c = labels, s=200, cmap='seismic')\n",
        "legend = plt.legend(*scatter.legend_elements(num=1), title=\"Class\", loc='upper right') # Legend\n",
        "\n",
        "# Plot the learned separator.  We just made up the slope and intercept for this example. You need to calculate\n",
        "# the correct slope and intercept using your learned weights and bias.\n",
        "xlist = np.linspace(-1.0, 1.0, 100) # create 100 evenly spaced points between -1 and 1 for the x axis\n",
        "ylist = np.linspace(-1.0, 1.0, 100) # create 100 evenly spaced points between -1 and 1 for the y axis\n",
        "slope = -2  # made up\n",
        "intercept = 0.1 # made up\n",
        "eq = slope*xlist + intercept\n",
        "plt.plot(xlist,  eq, '-k', )\n",
        "plt.title('Linearly Separable Data Example')\n",
        "plt.xlabel('x')\n",
        "plt.ylabel('y')\n",
        "plt.grid() # add grid lines\n",
        "plt.show() # show the plot"
      ]
    },
    {
      "cell_type": "code",
      "execution_count": 95,
      "metadata": {
        "id": "ZCPFUAGTS2sX",
        "colab": {
          "base_uri": "https://localhost:8080/",
          "height": 945
        },
        "outputId": "50e41031-77d9-425a-cb28-19d766bfc20b"
      },
      "outputs": [
        {
          "output_type": "display_data",
          "data": {
            "text/plain": [
              "<Figure size 640x480 with 1 Axes>"
            ],
            "image/png": "[encoded data removed]"
          },
          "metadata": {}
        },
        {
          "output_type": "stream",
          "name": "stdout",
          "text": [
            "\n"
          ]
        },
        {
          "output_type": "display_data",
          "data": {
            "text/plain": [
              "<Figure size 640x480 with 1 Axes>"
            ],
            "image/png": "[encoded data removed]"
          },
          "metadata": {}
        }
      ],
      "source": [
        "# Graph datasets and decision lines for both cases.\n",
        "\n",
        "#Linear:\n",
        "import matplotlib.pyplot as plt\n",
        "\n",
        "data = np.array([[0.7,0.2],[0.5,0.3],[0.4,0.2],[0.3,0.1],[0.3,0.9],[0.1,0.7],[0.2,0.9],[0.1,0.8]])\n",
        "labels = np.array([0,0,0,0,1,1,1,1])\n",
        "plt.xlim(0,1)\n",
        "plt.ylim(0,1)\n",
        "scatter = plt.scatter(data[:,0], data[:,1], c = labels, s=200, cmap='seismic')\n",
        "legend = plt.legend(*scatter.legend_elements(num=1), title=\"Class\", loc='upper right')\n",
        "xlist = np.linspace(-1.0, 1.0, 100)\n",
        "ylist = np.linspace(-1.0, 1.0, 100)\n",
        "slope = 0.17/0.12\n",
        "intercept = 0.1\n",
        "eq = slope*xlist + intercept\n",
        "plt.plot(xlist,  eq, '-k', )\n",
        "plt.title('Linearly Separable')\n",
        "plt.xlabel('x1')\n",
        "plt.ylabel('x2')\n",
        "plt.grid()\n",
        "plt.show()\n",
        "\n",
        "print()\n",
        "\n",
        "#Non Linear:\n",
        "import matplotlib.pyplot as plt\n",
        "\n",
        "data = np.array([[0.4,0.2],[0.3,0.4],[0.4,0.5],[0.3,0.2],[0.7,0.2],[0.5,0.3],[0.2,0.9],[0.1,0.8]])\n",
        "labels = np.array([0,0,0,0,1,1,1,1])\n",
        "plt.xlim(0,1)\n",
        "plt.ylim(0,1)\n",
        "scatter = plt.scatter(data[:,0], data[:,1], c = labels, s=200, cmap='seismic')\n",
        "legend = plt.legend(*scatter.legend_elements(num=1), title=\"Class\", loc='upper right')\n",
        "xlist = np.linspace(-1.0, 1.0, 100)\n",
        "ylist = np.linspace(-1.0, 1.0, 100)\n",
        "slope = 0.08/0.25\n",
        "intercept = 0.2\n",
        "eq = slope*xlist + intercept\n",
        "plt.plot(xlist,  eq, '-k', )\n",
        "plt.title('Not Linearly Separable')\n",
        "plt.xlabel('x1')\n",
        "plt.ylabel('x2')\n",
        "plt.grid()\n",
        "plt.show()"
      ]
    },
    {
      "cell_type": "markdown",
      "metadata": {
        "id": "M7dyHR0c92zd"
      },
      "source": [
        "#### Discussion\n",
        "What makes a dataset not linearly separable? How is the decision line determined? slope? y-intercept?"
      ]
    },
    {
      "cell_type": "markdown",
      "metadata": {
        "id": "4vKF3QBaSRsu"
      },
      "source": [
        "If there is no way that a strait line can be drawn between the datapoints clearly separating them, than the data is not linearly separable. The decision line is determined by using the resulting weights and bias from the perceptron. The slope becomes the negative first weight divided by the second weight, and the y-intercept becomes the negative bias weight divided by the second weight."
      ]
    },
    {
      "cell_type": "markdown",
      "metadata": {
        "id": "_N5RXV8AzdRF"
      },
      "source": [
        "### 2.4 (5%) Discussion - In general, why will perceptrons not get perfect accuracy on non-linearly separable data"
      ]
    },
    {
      "cell_type": "markdown",
      "metadata": {
        "id": "0hSjHuLdzdRF"
      },
      "source": [
        "If the dataset is not linearly separable, the perceptron cannot get perfect accuracy because there will always be some part of the class that will not be on the side of the line with the majority. The data will be split or clustered in a way that will not support the data perfectly separating on two sides of the line. Because of this, the perceptron will not converge to perfect accuracy."
      ]
    },
    {
      "cell_type": "markdown",
      "metadata": {
        "id": "0ySvhd1lUGSe"
      },
      "source": [
        "## 3. Use the perceptron to learn this version of the [voting data set](https://raw.githubusercontent.com/cs472ta/CS472/master/datasets/voting-dataset.arff)\n",
        "\n",
        "This particular task is an edited version of the standard voting set, where we have replaced all the “don’t know” values with the most common value for the particular attribute. Look at the [tutorial](https://github.com/cs472ta/CS472/blob/master/Tutorial.ipynb) from the Labs Content page to see examples of prepping the voting data set for sklearn.\n",
        "\n",
        "### 3.1 (10%) Average final training and test set accuracy over multiple trials\n",
        "\n",
        "- Learn the voting data five times with different random 70/30 Training/Test splits each time\n",
        "- Use a learning rate of 1.  The other hyperparameters are up to you.\n",
        "- Report the 5 trials and the average training and test accuracy and number of epochs to converge across the 5 trials in a table\n",
        "    - Below is an example of what a 2 trial table might look like\n",
        "\n",
        "| Trial | Training Accuracy | Test accuracy | Number of epochs |\n",
        "| --- | --- | --- | --- |\n",
        "| 1 | .950 | .550 | 4 |\n",
        "| 2 | .850 | .450 | 6 |\n",
        "| Average | .900 | .500 | 5 |\n",
        "\n",
        "*- As a rough sanity check, typical Perceptron test accuracies for the voting data set are 90%-98%.*\n"
      ]
    },
    {
      "cell_type": "code",
      "execution_count": 96,
      "metadata": {
        "id": "Romyl4G8Trki",
        "colab": {
          "base_uri": "https://localhost:8080/"
        },
        "outputId": "0c613823-178b-410b-843a-c605fac38181"
      },
      "outputs": [
        {
          "output_type": "stream",
          "name": "stdout",
          "text": [
            "     Trial  Training Accuracy  Test Accuracy  Number of Epochs\n",
            "0        1           0.972050       0.956835              17.0\n",
            "1        2           0.913043       0.906475              11.0\n",
            "2        3           0.965839       0.949640              20.0\n",
            "3        4           0.968944       0.964029              12.0\n",
            "4        5           0.962733       0.964029              14.0\n",
            "5  Average           0.956522       0.948201              14.8\n"
          ]
        }
      ],
      "source": [
        "# Run the perceptron 5 times on the voting data set with different splits and record the results.\n",
        "# Hint: look up scikit-learn train_test_split\n",
        "# Create the table using the tool of your choice\n",
        "from sklearn.model_selection import train_test_split\n",
        "from sklearn.preprocessing import LabelEncoder\n",
        "\n",
        "voting_data = open_file('voting-dataset.arff')\n",
        "voting_df = pd.DataFrame(voting_data[0])\n",
        "label_encoder = LabelEncoder()\n",
        "voting_label_encoded_df = voting_df.apply(label_encoder.fit_transform)\n",
        "Data_Set_np = voting_label_encoded_df.to_numpy()\n",
        "Data_Set_np = Data_Set_np.astype(float)\n",
        "\n",
        "X = Data_Set_np[:, :-1]\n",
        "y = Data_Set_np[:, -1]\n",
        "\n",
        "trials = []\n",
        "training_acc = []\n",
        "test_acc = []\n",
        "epochs = []\n",
        "\n",
        "for i in range(5):\n",
        "  X_train, X_test, y_train, y_test = train_test_split(X, y, test_size=0.30, train_size=0.70, random_state=i)\n",
        "  clf = Perceptron(shuffle=False, verbose=0, eta0=1)\n",
        "  clf.fit(X_train, y_train)\n",
        "  train = clf.score(X_train, y_train)\n",
        "  test = clf.score(X_test, y_test)\n",
        "  num_epochs = clf.n_iter_\n",
        "  trials.append(i+1)\n",
        "  training_acc.append(train)\n",
        "  test_acc.append(test)\n",
        "  epochs.append(num_epochs)\n",
        "\n",
        "trials.append(\"Average\")\n",
        "training_acc.append(np.mean(training_acc))\n",
        "test_acc.append(np.mean(test_acc))\n",
        "epochs.append(np.mean(epochs))\n",
        "\n",
        "result = pd.DataFrame({\"Trial\": trials, \"Training Accuracy\": training_acc, \"Test Accuracy\": test_acc, \"Number of Epochs\": epochs})\n",
        "print(result)"
      ]
    },
    {
      "cell_type": "markdown",
      "metadata": {
        "id": "cm4rbWkzVeoR"
      },
      "source": [
        "### 3.2 (10%) Interpreting the Model\n",
        "- Learn with the perceptron once on the full voting data set\n",
        "- Look at the learned weights and bias and do your best to explain what the model has learned and how the individual input features affect the result.\n",
        "- Which specific features are most critical for the voting task, and which are least critical?"
      ]
    },
    {
      "cell_type": "code",
      "execution_count": 97,
      "metadata": {
        "colab": {
          "base_uri": "https://localhost:8080/",
          "height": 341
        },
        "id": "e-cEf-HrSRsv",
        "outputId": "90697bbb-0914-4baa-bfef-32654910045b"
      },
      "outputs": [
        {
          "output_type": "stream",
          "name": "stdout",
          "text": [
            "['handicapped-infants', 'water-project-cost-sharing', 'adoption-of-the-budget-resolution', 'physician-fee-freeze', 'el-salvador-aid', 'religious-groups-in-schools', 'anti-satellite-test-ban', 'aid-to-nicaraguan-contras', 'mx-missile', 'immigration', 'synfuels-corporation-cutback', 'education-spending', 'superfund-right-to-sue', 'crime', 'duty-free-exports', 'export-administration-act-south-africa', 'Class']\n",
            "[[-5. -5. -7. 17.  4. -4.  8.  2. -8.  8. -7.  1.  1.  2. -4. -1.]]\n",
            "[-5.]\n",
            "0.968944099378882\n",
            "0.9424460431654677\n",
            "9\n",
            "The feature that is most crucial is physician-fee-freeze, anti-satellite-test-ban, immigration, mx-missile.\n",
            "The feature that is least crucial is education-spending, superfund-right-to-sue, export-administration-act-south-africa.\n",
            "\n"
          ]
        },
        {
          "output_type": "execute_result",
          "data": {
            "text/plain": [
              "'\\n  The model has learned how to differenciate the two classes, republican and democrat, \\n  from the dataset based on the given features. The individual input features affect\\n  the result by affecting how the weights shift with each epoch, eventually showing\\n  which weights have the highest effect on the result. The most crucial features in \\n  this dataset are the physician-fee-freeze, anti-satellite-test-ban, immigration, and mx-missile.\\n  This means that between republicans and democrats, these had the most different values.\\n  The least crucial features for the voting task were the education-spending, superfund-right-to-sue,\\n  and export-administration-act-south-africa, meaning that these features had very \\n  similar values between the two classes.\\n                                                                                  '"
            ],
            "application/vnd.google.colaboratory.intrinsic+json": {
              "type": "string"
            }
          },
          "metadata": {},
          "execution_count": 97
        }
      ],
      "source": [
        "#Learn once on the full voting data set.  If you Look at our tutorial at the beginning\n",
        "\n",
        "from sklearn.model_selection import train_test_split\n",
        "from sklearn.preprocessing import LabelEncoder\n",
        "\n",
        "voting_data = open_file('voting-dataset.arff')\n",
        "voting_df = pd.DataFrame(voting_data[0])\n",
        "label_encoder = LabelEncoder()\n",
        "voting_label_encoded_df = voting_df.apply(label_encoder.fit_transform)\n",
        "Data_Set_np = voting_label_encoded_df.to_numpy()\n",
        "Data_Set_np = Data_Set_np.astype(float)\n",
        "\n",
        "X = Data_Set_np[:, :-1]\n",
        "y = Data_Set_np[:, -1]\n",
        "\n",
        "X_train, X_test, y_train, y_test = train_test_split(X, y, test_size=0.30, train_size=0.70, random_state=42)\n",
        "clf = Perceptron(shuffle=False, verbose=0, eta0=1)\n",
        "clf.fit(X_train, y_train)\n",
        "train = clf.score(X_train, y_train)\n",
        "test = clf.score(X_test, y_test)\n",
        "num_epochs = clf.n_iter_\n",
        "\n",
        "print(voting_df.columns.tolist())\n",
        "print(clf.coef_)\n",
        "print(clf.intercept_)\n",
        "print(train)\n",
        "print(test)\n",
        "print(num_epochs)\n",
        "print(f'The feature that is most crucial is {voting_df.columns.tolist()[3]}, {voting_df.columns.tolist()[6]}, {voting_df.columns.tolist()[9]}, {voting_df.columns.tolist()[8]}.')\n",
        "print(f'The feature that is least crucial is {voting_df.columns.tolist()[11]}, {voting_df.columns.tolist()[12]}, {voting_df.columns.tolist()[15]}.')\n",
        "print()\n",
        "\"\"\"\n",
        "  The model has learned how to differenciate the two classes, republican and democrat,\n",
        "  from the dataset based on the given features. The individual input features affect\n",
        "  the result by affecting how the weights shift with each epoch, eventually showing\n",
        "  which weights have the highest effect on the result. The most crucial features in\n",
        "  this dataset are the physician-fee-freeze, anti-satellite-test-ban, immigration, and mx-missile.\n",
        "  This means that between republicans and democrats, these had the most different values.\n",
        "  The least crucial features for the voting task were the education-spending, superfund-right-to-sue,\n",
        "  and export-administration-act-south-africa, meaning that these features had very\n",
        "  similar values between the two classes.\n",
        "                                                                                  \"\"\""
      ]
    },
    {
      "cell_type": "markdown",
      "metadata": {
        "id": "xYnOaUs3SRsv"
      },
      "source": [
        "### Discussion\n",
        "How do the different features in the dataset effect prediction? How could you determine this?"
      ]
    },
    {
      "cell_type": "markdown",
      "metadata": {
        "id": "eXye9NO1SRsv"
      },
      "source": [
        "The different features in the dataset provide the data to change the weights that will create the decision boundary between the data. The way to know how much a feature contributes to the boundary, is by analyzing the absolute value of the resulting weight. If the absolute value of the weight is high, then that feature contributes a lot to the resulting prediction. If the absolute value of the coorosponding weight is low, then it has little effect on the prediction"
      ]
    },
    {
      "cell_type": "markdown",
      "metadata": {
        "id": "NyUmJ4yWVsQ7"
      },
      "source": [
        "### 3.3 (15%) Misclassification rate vs epochs\n",
        "\n",
        "Learn with the perceptron once on the full voting data set and graph the misclassification rate (number_misclassified  /  number_of_total_data_points) at each epoch until convergence (0th – final epoch).  Hints:\n",
        "- For the 0th epoch (i.e. initial weights), assume the initial misclassification rate is 50% and let that be the first point on your graph. Since there are 2 output classes, random guessing would only get it right about 1/2 of the time. Missclassifcation rate is 1 - accuracy.\n",
        "- Doing clf.fit with max_iter = 1, and warm_start=True will let you loop through epochs one at a time, allowing you to look at accuracy, etc. after each epoch.  But how do you know how many epochs to run until convergence?  One way is to just to first run it until convergence with random_state = c to see how many epochs it took (n_iter_).  Then run it again one epoch at a time n_iter_ times using the same random_state constant c (so that you get the exact same conditions).\n",
        "- Below is a rough example of what this type of graph might look like (though this graph is for avg rate across multiple trials)\n",
        "\n",
        "![Average Misclassification Rate](https://raw.githubusercontent.com/rmorain/CS472-1/master/images/perceptron/avg_misclassification_rate_vs_epochs.png)"
      ]
    },
    {
      "cell_type": "code",
      "execution_count": 98,
      "metadata": {
        "id": "2_ZRPWWVVeFM",
        "colab": {
          "base_uri": "https://localhost:8080/",
          "height": 813
        },
        "outputId": "77d107dc-cc98-4ab1-ea58-db00feb08f07"
      },
      "outputs": [
        {
          "output_type": "stream",
          "name": "stderr",
          "text": [
            "/usr/local/lib/python3.11/dist-packages/sklearn/linear_model/_stochastic_gradient.py:738: ConvergenceWarning: Maximum number of iteration reached before convergence. Consider increasing max_iter to improve the fit.\n",
            "  warnings.warn(\n",
            "/usr/local/lib/python3.11/dist-packages/sklearn/linear_model/_stochastic_gradient.py:738: ConvergenceWarning: Maximum number of iteration reached before convergence. Consider increasing max_iter to improve the fit.\n",
            "  warnings.warn(\n",
            "/usr/local/lib/python3.11/dist-packages/sklearn/linear_model/_stochastic_gradient.py:738: ConvergenceWarning: Maximum number of iteration reached before convergence. Consider increasing max_iter to improve the fit.\n",
            "  warnings.warn(\n",
            "/usr/local/lib/python3.11/dist-packages/sklearn/linear_model/_stochastic_gradient.py:738: ConvergenceWarning: Maximum number of iteration reached before convergence. Consider increasing max_iter to improve the fit.\n",
            "  warnings.warn(\n",
            "/usr/local/lib/python3.11/dist-packages/sklearn/linear_model/_stochastic_gradient.py:738: ConvergenceWarning: Maximum number of iteration reached before convergence. Consider increasing max_iter to improve the fit.\n",
            "  warnings.warn(\n",
            "/usr/local/lib/python3.11/dist-packages/sklearn/linear_model/_stochastic_gradient.py:738: ConvergenceWarning: Maximum number of iteration reached before convergence. Consider increasing max_iter to improve the fit.\n",
            "  warnings.warn(\n",
            "/usr/local/lib/python3.11/dist-packages/sklearn/linear_model/_stochastic_gradient.py:738: ConvergenceWarning: Maximum number of iteration reached before convergence. Consider increasing max_iter to improve the fit.\n",
            "  warnings.warn(\n",
            "/usr/local/lib/python3.11/dist-packages/sklearn/linear_model/_stochastic_gradient.py:738: ConvergenceWarning: Maximum number of iteration reached before convergence. Consider increasing max_iter to improve the fit.\n",
            "  warnings.warn(\n",
            "/usr/local/lib/python3.11/dist-packages/sklearn/linear_model/_stochastic_gradient.py:738: ConvergenceWarning: Maximum number of iteration reached before convergence. Consider increasing max_iter to improve the fit.\n",
            "  warnings.warn(\n"
          ]
        },
        {
          "output_type": "display_data",
          "data": {
            "text/plain": [
              "<Figure size 640x480 with 1 Axes>"
            ],
            "image/png": "[encoded data removed]"
          },
          "metadata": {}
        }
      ],
      "source": [
        "# Learn once on the full voting data set, while gathering info after every epoch\n",
        "# Then Graph it here.  Here is some sample graph code, but you can do it your own way, including using a bar graph, etc.\n",
        "\n",
        "# 9 epochs\n",
        "\n",
        "voting_data = open_file('voting-dataset.arff')\n",
        "voting_df = pd.DataFrame(voting_data[0])\n",
        "label_encoder = LabelEncoder()\n",
        "voting_label_encoded_df = voting_df.apply(label_encoder.fit_transform)\n",
        "Data_Set_np = voting_label_encoded_df.to_numpy()\n",
        "Data_Set_np = Data_Set_np.astype(float)\n",
        "\n",
        "X = Data_Set_np[:, :-1]\n",
        "y = Data_Set_np[:, -1]\n",
        "\n",
        "misclassifications = [.5]\n",
        "\n",
        "X_train, X_test, y_train, y_test = train_test_split(X, y, test_size=0.30, train_size=0.70, random_state=42)\n",
        "clf = Perceptron(shuffle=False, verbose=0, eta0=1, max_iter=1, warm_start=True)\n",
        "for i in range(9):\n",
        "  clf.fit(X_train, y_train)\n",
        "  test = clf.score(X_test, y_test)\n",
        "  misclassifications.append(1-test)\n",
        "\n",
        "def plot_misclassification(misclassification_rate):\n",
        "    \"\"\"\n",
        "        Plots the misclassification rate\n",
        "    Args:\n",
        "        misclassification_rate (array-like): A 1D array or list of missclassifcation rate at every epoch\n",
        "    \"\"\"\n",
        "    plt.plot(np.arange(len(misclassification_rate)), misclassification_rate)\n",
        "    plt.title(\"Misclassification Rate vs. Epoch\")\n",
        "    plt.xlabel(\"Epoch\")\n",
        "    plt.ylabel(\"Misclassification Rate\")\n",
        "    plt.show()\n",
        "\n",
        "plot_misclassification(misclassifications)"
      ]
    },
    {
      "cell_type": "markdown",
      "metadata": {
        "id": "PgqUrgh--GeU"
      },
      "source": [
        "#### Discussion\n",
        "Discuss the results in your graph. How quickly does the perceptron converge? Do you think this is typical? Are there any anomalies or anything you didn't expect?"
      ]
    },
    {
      "cell_type": "markdown",
      "metadata": {
        "id": "0GlEWC0fSRsv"
      },
      "source": [
        "The perceptron converged within the first epoch, and then just optimized the algorithm. I think this is typical of most perceptrons, because the weights will change the most with the first epoch as this data is the first thing the perceptron has seen, and will start to move the weights in the right direction. The next iterations are giving the perceptron similar data overall, so the weights are only changing slightly to become more refined to the data after this point. I didn't expect for the first epoch to have a smaller misclassification rate than the other epochs though. It makes sense to have some variability between each epoch, but I though the 8th or 9th epoch would have had the highest accuracy, rather than the first epoch."
      ]
    },
    {
      "cell_type": "markdown",
      "metadata": {
        "id": "t8Dz2fLkSRsv"
      },
      "source": [
        "### 3.4 (15%) Hyperparameters\n",
        "Read over all the Hyperparameters and their defaults in the scikit [perceptron documentation](https://scikit-learn.org/stable/modules/generated/sklearn.linear_model.Perceptron.html). With the voting data set, experiment briefly with EACH of the following 6 hyperparameters and discuss your findings.\n",
        "- shuffle\n",
        "- eta0 - learning rate\n",
        "- verbose\n",
        "- fit_intercept - whether to use a bias weight or not\n",
        "- random state\n",
        "- warm start"
      ]
    },
    {
      "cell_type": "code",
      "execution_count": 99,
      "metadata": {
        "colab": {
          "base_uri": "https://localhost:8080/"
        },
        "id": "7OPk7Vb-SRsv",
        "outputId": "ab2997e5-ee34-4dd0-acc8-3c47955fdf60"
      },
      "outputs": [
        {
          "output_type": "stream",
          "name": "stdout",
          "text": [
            "control:\n",
            "[[-5. -5. -7. 17.  4. -4.  8.  2. -8.  8. -7.  1.  1.  2. -4. -1.]]\n",
            "[-5.]\n",
            "0.968944099378882\n",
            "0.9424460431654677\n",
            "9\n",
            "\n",
            "shuffle:\n",
            "[[-2. -3. -5. 18.  5. -8.  5.  6. -8.  7. -7.  0.  4.  3. -5. -1.]]\n",
            "[-10.]\n",
            "0.9720496894409938\n",
            "0.9496402877697842\n",
            "11\n",
            "\n",
            "learning rate:\n",
            "[[-2.5 -2.5 -3.5  8.5  2.  -2.   4.   1.  -4.   4.  -3.5  0.5  0.5  1.\n",
            "  -2.  -0.5]]\n",
            "[-2.5]\n",
            "0.968944099378882\n",
            "0.9424460431654677\n",
            "9\n",
            "\n",
            "verbose:\n",
            "-- Epoch 1\n",
            "Norm: 12.92, NNZs: 15, Bias: -1.000000, T: 322, Avg. loss: 0.357143\n",
            "Total training time: 0.00 seconds.\n",
            "-- Epoch 2\n",
            "Norm: 16.70, NNZs: 13, Bias: -2.000000, T: 644, Avg. loss: 0.236025\n",
            "Total training time: 0.00 seconds.\n",
            "-- Epoch 3\n",
            "Norm: 19.13, NNZs: 15, Bias: -3.000000, T: 966, Avg. loss: 0.195652\n",
            "Total training time: 0.00 seconds.\n",
            "-- Epoch 4\n",
            "Norm: 21.47, NNZs: 14, Bias: -3.000000, T: 1288, Avg. loss: 0.180124\n",
            "Total training time: 0.01 seconds.\n",
            "-- Epoch 5\n",
            "Norm: 22.61, NNZs: 15, Bias: -4.000000, T: 1610, Avg. loss: 0.229814\n",
            "Total training time: 0.01 seconds.\n",
            "-- Epoch 6\n",
            "Norm: 23.73, NNZs: 15, Bias: -4.000000, T: 1932, Avg. loss: 0.186335\n",
            "Total training time: 0.01 seconds.\n",
            "-- Epoch 7\n",
            "Norm: 24.35, NNZs: 15, Bias: -4.000000, T: 2254, Avg. loss: 0.214286\n",
            "Total training time: 0.01 seconds.\n",
            "-- Epoch 8\n",
            "Norm: 25.51, NNZs: 16, Bias: -4.000000, T: 2576, Avg. loss: 0.223602\n",
            "Total training time: 0.01 seconds.\n",
            "-- Epoch 9\n",
            "Norm: 26.23, NNZs: 16, Bias: -5.000000, T: 2898, Avg. loss: 0.236025\n",
            "Total training time: 0.01 seconds.\n",
            "Convergence after 9 epochs took 0.01 seconds\n",
            "[[-5. -5. -7. 17.  4. -4.  8.  2. -8.  8. -7.  1.  1.  2. -4. -1.]]\n",
            "[-5.]\n",
            "0.968944099378882\n",
            "0.9424460431654677\n",
            "9\n",
            "\n",
            "fit_intercept\n",
            "[[-4. -4. -5. 14.  2. -7.  5.  3. -8.  5. -8. -2.  1.  2. -4. -1.]]\n",
            "[0.]\n",
            "0.9503105590062112\n",
            "0.9568345323741008\n",
            "8\n",
            "\n",
            "random state\n",
            "[[ -1.  -5.  -6.  19.   3.  -3.   6.   5. -10.   5.  -9.   0.   2.   2.\n",
            "   -5.  -2.]]\n",
            "[-10.]\n",
            "0.9627329192546584\n",
            "0.9640287769784173\n",
            "16\n",
            "\n",
            "warm start\n",
            "[[-5. -5. -7. 17.  4. -4.  8.  2. -8.  8. -7.  1.  1.  2. -4. -1.]]\n",
            "[-5.]\n",
            "0.968944099378882\n",
            "0.9424460431654677\n",
            "9\n",
            "\n"
          ]
        }
      ],
      "source": [
        "# Run the model with different hyperparameters\n",
        "voting_data = open_file('voting-dataset.arff')\n",
        "voting_df = pd.DataFrame(voting_data[0])\n",
        "label_encoder = LabelEncoder()\n",
        "voting_label_encoded_df = voting_df.apply(label_encoder.fit_transform)\n",
        "Data_Set_np = voting_label_encoded_df.to_numpy()\n",
        "Data_Set_np = Data_Set_np.astype(float)\n",
        "\n",
        "X = Data_Set_np[:, :-1]\n",
        "y = Data_Set_np[:, -1]\n",
        "X_train, X_test, y_train, y_test = train_test_split(X, y, test_size=0.30, train_size=0.70, random_state=42)\n",
        "\n",
        "#control\n",
        "print(\"control:\")\n",
        "clf = Perceptron(shuffle=False, verbose=0, eta0=1)\n",
        "clf.fit(X_train, y_train)\n",
        "train = clf.score(X_train, y_train)\n",
        "test = clf.score(X_test, y_test)\n",
        "num_epochs = clf.n_iter_\n",
        "\n",
        "print(clf.coef_) #weights\n",
        "print(clf.intercept_) #bias\n",
        "print(train) #accuracy of training set\n",
        "print(test) #accuracy of test set\n",
        "print(num_epochs) #total epochs\n",
        "print()\n",
        "\n",
        "#shuffle\n",
        "print(\"shuffle:\")\n",
        "clf = Perceptron(shuffle=True, verbose=0, eta0=1)\n",
        "clf.fit(X_train, y_train)\n",
        "train = clf.score(X_train, y_train)\n",
        "test = clf.score(X_test, y_test)\n",
        "num_epochs = clf.n_iter_\n",
        "\n",
        "print(clf.coef_) #weights\n",
        "print(clf.intercept_) #bias\n",
        "print(train) #accuracy of training set\n",
        "print(test) #accuracy of test set\n",
        "print(num_epochs) #total epochs\n",
        "print()\n",
        "\n",
        "#eta0/learning rate\n",
        "print(\"learning rate:\")\n",
        "clf = Perceptron(shuffle=False, verbose=0, eta0=0.5)\n",
        "clf.fit(X_train, y_train)\n",
        "train = clf.score(X_train, y_train)\n",
        "test = clf.score(X_test, y_test)\n",
        "num_epochs = clf.n_iter_\n",
        "\n",
        "print(clf.coef_) #weights\n",
        "print(clf.intercept_) #bias\n",
        "print(train) #accuracy of training set\n",
        "print(test) #accuracy of test set\n",
        "print(num_epochs) #total epochs\n",
        "print()\n",
        "\n",
        "#verbose\n",
        "print('verbose:')\n",
        "clf = Perceptron(shuffle=False, verbose=1, eta0=1)\n",
        "clf.fit(X_train, y_train)\n",
        "train = clf.score(X_train, y_train)\n",
        "test = clf.score(X_test, y_test)\n",
        "num_epochs = clf.n_iter_\n",
        "\n",
        "print(clf.coef_) #weights\n",
        "print(clf.intercept_) #bias\n",
        "print(train) #accuracy of training set\n",
        "print(test) #accuracy of test set\n",
        "print(num_epochs) #total epochs\n",
        "print()\n",
        "\n",
        "#fit_intercept\n",
        "print('fit_intercept')\n",
        "clf = Perceptron(shuffle=False, verbose=0, eta0=1, fit_intercept=False)\n",
        "clf.fit(X_train, y_train)\n",
        "train = clf.score(X_train, y_train)\n",
        "test = clf.score(X_test, y_test)\n",
        "num_epochs = clf.n_iter_\n",
        "\n",
        "print(clf.coef_) #weights\n",
        "print(clf.intercept_) #bias\n",
        "print(train) #accuracy of training set\n",
        "print(test) #accuracy of test set\n",
        "print(num_epochs) #total epochs\n",
        "print()\n",
        "\n",
        "#random state\n",
        "print('random state')\n",
        "clf = Perceptron(shuffle=True, verbose=0, eta0=1, random_state=1)\n",
        "clf.fit(X_train, y_train)\n",
        "train = clf.score(X_train, y_train)\n",
        "test = clf.score(X_test, y_test)\n",
        "num_epochs = clf.n_iter_\n",
        "\n",
        "print(clf.coef_) #weights\n",
        "print(clf.intercept_) #bias\n",
        "print(train) #accuracy of training set\n",
        "print(test) #accuracy of test set\n",
        "print(num_epochs) #total epochs\n",
        "print()\n",
        "\n",
        "#warm start\n",
        "print('warm start')\n",
        "clf = Perceptron(shuffle=False, verbose=0, eta0=1, warm_start=True)\n",
        "clf.fit(X_train, y_train)\n",
        "train = clf.score(X_train, y_train)\n",
        "test = clf.score(X_test, y_test)\n",
        "num_epochs = clf.n_iter_\n",
        "\n",
        "print(clf.coef_) #weights\n",
        "print(clf.intercept_) #bias\n",
        "print(train) #accuracy of training set\n",
        "print(test) #accuracy of test set\n",
        "print(num_epochs) #total epochs\n",
        "print()"
      ]
    },
    {
      "cell_type": "markdown",
      "metadata": {
        "id": "tZycF7QjSRsv"
      },
      "source": [
        "#### Discussion\n",
        "Discuss your findings from the experimentation with the hyperparameters."
      ]
    },
    {
      "cell_type": "markdown",
      "metadata": {
        "id": "C_1Xzb_CSRsw"
      },
      "source": [
        "The changes in the training and test accuracy, the change in the weight values, and the overall epochs with the different parameters really intrigued me. While most training data got to the same amount of accuracy, it is interesting that by shuffling the data, the training acuracy increased from my control. Also, when I didn't have the algorithm calculate the intercept the accuracy of the training data went down. I can understand that as the data gets shuffled around with each epoch, that the data can get more accurate because it is testing more combinations of the data. What is interesting though is that even though the fit_intercept decreased the training data's accuracy, it increased accuracy for the test data from the control. The random state had the same effect. The weights all stayed about the same when the learning rate was the same, regardless of the other parameters, but when the learning rate was changed the weights changed with the magnitude of the learning rate. The number of epochs were pretty variable across the data, but since the accuracy was all very similar, it seemed that the longer or shorter it took didn't have too much of an effect."
      ]
    },
    {
      "cell_type": "markdown",
      "metadata": {
        "id": "mxssT08TzdRH"
      },
      "source": [
        "## 4. (10%) Use the perceptron to learn one other data set of your choice.  \n",
        "- The UC Irvine Data Repository is one great source, but you may get your data set from wherever you like, though it should be a real world task.\n",
        "- Report your results"
      ]
    },
    {
      "cell_type": "code",
      "execution_count": 100,
      "metadata": {
        "id": "hqPZLMf1zdRH",
        "colab": {
          "base_uri": "https://localhost:8080/"
        },
        "outputId": "900f94ff-866c-4f1d-bdaa-6859237d56ca"
      },
      "outputs": [
        {
          "output_type": "stream",
          "name": "stdout",
          "text": [
            "[[ 9.01523636 -0.02411528  7.50289788  6.70564869  5.19946382 -6.55411932\n",
            "   5.61842811 11.73806139 -7.30986446 -7.76562992 14.00889267 -6.56996363\n",
            "   5.60040454 12.17858849  9.68211291 -1.82948624 -2.13374542  7.53169268\n",
            "  -9.10332806 -4.36456871  7.36305734 19.74162415  3.08879129  6.58820749\n",
            "   8.72357568  0.98829176 10.78293198  6.56726542 17.11166853 -0.98706187]]\n",
            "[-5.]\n",
            "0.9924433249370277\n",
            "0.9707602339181286\n",
            "22\n"
          ]
        }
      ],
      "source": [
        "# Load and Train on your dataset and report results\n",
        "\n",
        "from sklearn.model_selection import train_test_split\n",
        "from sklearn.preprocessing import LabelEncoder, StandardScaler\n",
        "\n",
        "df = pd.read_csv(\"wdbc.data\")\n",
        "df.drop(columns=df.columns[0], inplace=True)\n",
        "df.rename(columns={df.columns[0]: 'diagnosis'}, inplace=True)\n",
        "df['diagnosis'] = df['diagnosis'].map({'M': 1, 'B': 0})\n",
        "\n",
        "X = df.drop(columns=['diagnosis'])\n",
        "y = df['diagnosis']\n",
        "scaler = StandardScaler()\n",
        "X = scaler.fit_transform(X)\n",
        "\n",
        "X_train, X_test, y_train, y_test = train_test_split(X, y, test_size=0.30, train_size=0.70, random_state=42)\n",
        "clf = Perceptron(shuffle=False, verbose=0, eta0=1)\n",
        "clf.fit(X_train, y_train)\n",
        "train = clf.score(X_train, y_train)\n",
        "test = clf.score(X_test, y_test)\n",
        "num_epochs = clf.n_iter_\n",
        "\n",
        "print(clf.coef_)\n",
        "print(clf.intercept_)\n",
        "print(train)\n",
        "print(test)\n",
        "print(num_epochs)"
      ]
    },
    {
      "cell_type": "markdown",
      "metadata": {
        "id": "BqSFAXwlk3Ms"
      },
      "source": [
        "#### Discussion\n",
        "Discuss how the perceptron did on the data set and why you think it performed as such."
      ]
    },
    {
      "cell_type": "markdown",
      "metadata": {
        "id": "fNHRvX8ZSRsw"
      },
      "source": [
        "The perceptron did a very good job with the dataset, resulting in high accuracy. I think because the breast cancer data set was very black in white if a person had breast cancer or not, that it made it so the weights were easy to determine, and the process only took 33 epochs to converge.\n"
      ]
    },
    {
      "cell_type": "markdown",
      "metadata": {
        "id": "cTlK-kijk8Mg"
      },
      "source": [
        "## 5. (5%) Code up your own perceptron learner\n",
        "\n",
        "Actually coding a model leads to better understanding of what is really happening \"under the hood.\"  Below is a scaffold you could use if you want. Requirements for this task:\n",
        "- Your perceptron should support the methods shown in the example scaffold below.\n",
        "- Your output node should output 1 if net is > 0, else 0.\n",
        "- Use Stochastic/On-line training updates: Iterate and update weights after each training instance (i.e. not batch updates)\n",
        "- Implement a stopping criteria: when your model has trained for a number of epochs with no improvement in accuracy, stop training. Note that the weights/accuracy do not usually change monotonically.\n",
        "- Your class can inherit from the relevant scikit-learn learners (e.g. data shuffling, etc.), but don't call any of the super methods to accomplish the core methods in the scaffold.\n",
        "- Run the evaluation data set and the voting data set above with your Perceptron version. Show and discuss your results and how they compare with the scikit-learn version."
      ]
    },
    {
      "cell_type": "code",
      "execution_count": 101,
      "metadata": {
        "id": "5iY77P7gk1Nh",
        "colab": {
          "base_uri": "https://localhost:8080/"
        },
        "outputId": "9b521c05-13df-4db7-f684-8e16943d4a03"
      },
      "outputs": [
        {
          "output_type": "stream",
          "name": "stdout",
          "text": [
            "Evaluation Data:\n",
            "Training Accuracy: 0.5552083333333333\n",
            "Test Accuracy: 0.5558252427184466\n",
            "\n",
            "Voting Data:\n",
            "Training Accuracy: 0.5900621118012422\n",
            "Test Accuracy: 0.6330935251798561\n"
          ]
        }
      ],
      "source": [
        "# Your Perceptron Code\n",
        "# Optional scaffold for Perceptron code.  IF you use this feel free to change/add any methods you want.\n",
        "\n",
        "from sklearn.base import BaseEstimator, ClassifierMixin\n",
        "class PerceptronClassifier(BaseEstimator,ClassifierMixin):\n",
        "\n",
        "    def __init__(self, lr=.1, shuffle=True):\n",
        "        \"\"\"\n",
        "            Initialize class with chosen hyperparameters.\n",
        "        Args:\n",
        "            lr (float): A learning rate / step size.\n",
        "            shuffle: Whether to shuffle the training data each epoch. DO NOT\n",
        "            SHUFFLE for evaluation / debug datasets.\n",
        "        \"\"\"\n",
        "        self.lr = lr\n",
        "        self.shuffle = shuffle\n",
        "\n",
        "    def fit(self, X, y, initial_weights=None):\n",
        "        \"\"\"\n",
        "            Fit the data; run the algorithm and adjust the weights to find a\n",
        "            good solution\n",
        "        Args:\n",
        "            X (array-like): A 2D numpy array with the training data, excluding\n",
        "            targets\n",
        "            y (array-like): A 2D numpy array with the training targets\n",
        "            initial_weights (array-like): allows the user to provide initial\n",
        "            weights\n",
        "        Returns:\n",
        "            self: this allows this to be chained, e.g. model.fit(X,y).predict(X_test)\n",
        "        \"\"\"\n",
        "        self.weights = self.initialize_weights() * (len(X) + 1) if not initial_weights else initial_weights\n",
        "        net = 0\n",
        "        accuracy = 0.5\n",
        "        temp_accuracy = 1\n",
        "        while accuracy > temp_accuracy:\n",
        "          right = 0\n",
        "          total = 0\n",
        "          for i in range(len(X)):\n",
        "              iteration_net = 0\n",
        "              for j in range(len(i)):\n",
        "                  iternation_net += (X[i][j] * self.weights[j])\n",
        "              output = 1 if iteration_net > 0 else 0\n",
        "              if output == y[i]:\n",
        "                right += 1\n",
        "              if output != y[i]:\n",
        "                  #change weights\n",
        "                  for j in range(len(i)):\n",
        "                    change = self.lr * (y[i] - output) * X[i][j]\n",
        "                    self.weights[j] += change\n",
        "              total += 1\n",
        "          temp_accuracy = accuracy\n",
        "          accuracy = right / total\n",
        "        return self\n",
        "\n",
        "    def predict(self, X):\n",
        "        \"\"\"\n",
        "            Predict all classes for a dataset X\n",
        "        Args:\n",
        "            X (array-like): A 2D numpy array with the training data, excluding\n",
        "            targets\n",
        "        Returns:\n",
        "            array, shape (n_samples,)\n",
        "                Predicted target values per element in X.\n",
        "        \"\"\"\n",
        "        output_list = []\n",
        "        for i in range(len(X)):\n",
        "              iteration_net = 0\n",
        "              for j in range(len(X[i])):\n",
        "                  iteration_net += (X[i][j] * self.weights[j])\n",
        "              output = 1 if iteration_net > 0 else 0\n",
        "              output_list.append(output)\n",
        "        return output_list\n",
        "\n",
        "    def initialize_weights(self):\n",
        "        \"\"\" Initialize weights for perceptron. Don't forget the bias!\n",
        "        Returns:\n",
        "        \"\"\"\n",
        "        return [0]\n",
        "\n",
        "    def score(self, X, y):\n",
        "        \"\"\"\n",
        "            Return accuracy of model on a given dataset. Must implement own\n",
        "            score function.\n",
        "        Args:\n",
        "            X (array-like): A 2D numpy array with data, excluding targets\n",
        "            y (array-like): A 2D numpy array with targets\n",
        "        Returns:\n",
        "            score : float\n",
        "                Mean accuracy of self.predict(X) wrt. y.\n",
        "        \"\"\"\n",
        "        test_scores = self.predict(X)\n",
        "        right = 0\n",
        "        for i in range(len(y)):\n",
        "            if test_scores[i] == y[i]:\n",
        "              right += 1\n",
        "        return right / len(y)\n",
        "\n",
        "    ### Returns the weights and bias. Not required but great for debugging.\n",
        "    def get_weights(self):\n",
        "        return self.weights, self.weights[-1]\n",
        "\n",
        "Data_Set = open_file('data_banknote_authentication.arff')\n",
        "Data_Set_df = pd.DataFrame(Data_Set[0])\n",
        "Data_Set_np = Data_Set_df.to_numpy()\n",
        "Data_Set_np = Data_Set_np.astype(float)\n",
        "X = Data_Set_np[:, :-1]\n",
        "y = Data_Set_np[:, -1]\n",
        "X_train, X_test, y_train, y_test = train_test_split(X, y, test_size=0.30, train_size=0.70, random_state=42)\n",
        "PC = PerceptronClassifier(0.1, False)\n",
        "PC.fit(X_train, y_train)\n",
        "print(\"Evaluation Data:\")\n",
        "print(f'Training Accuracy: {PC.score(X_train, y_train)}')\n",
        "print(f'Test Accuracy: {PC.score(X_test, y_test)}')\n",
        "print()\n",
        "\n",
        "voting_data = open_file('voting-dataset.arff')\n",
        "voting_df = pd.DataFrame(voting_data[0])\n",
        "label_encoder = LabelEncoder()\n",
        "voting_label_encoded_df = voting_df.apply(label_encoder.fit_transform)\n",
        "Data_Set_np = voting_label_encoded_df.to_numpy()\n",
        "Data_Set_np = Data_Set_np.astype(float)\n",
        "X = Data_Set_np[:, :-1]\n",
        "y = Data_Set_np[:, -1]\n",
        "X_train, X_test, y_train, y_test = train_test_split(X, y, test_size=0.30, train_size=0.70, random_state=42)\n",
        "PC = PerceptronClassifier(0.1, False)\n",
        "PC.fit(X_train, y_train)\n",
        "print('Voting Data:')\n",
        "print(f'Training Accuracy: {PC.score(X_train, y_train)}')\n",
        "print(f'Test Accuracy: {PC.score(X_test, y_test)}')"
      ]
    },
    {
      "cell_type": "markdown",
      "metadata": {
        "id": "CCMC9aHQ-IGL"
      },
      "source": [
        "While my model didn't result in as high of accuracy as the built-in model, it did increase the accuracy from a simiple 50/50 guess for both datasets. This indicates, that while my convergence was not optimized, it is heading in the right direction. I stopped the algorithm when the accuracy of the model starts to decrease again, which could have stopped the model prematurely. However, this exercise was a good glimpse of what is happening behind the curtain in the code for this model."
      ]
    },
    {
      "cell_type": "code",
      "execution_count": 102,
      "metadata": {
        "id": "VEfGFSKzSRsx"
      },
      "outputs": [],
      "source": [
        "# Optional scaffold for Perceptron code.  IF you use this feel free to change/add any methods you want.\n",
        "\n",
        "from sklearn.base import BaseEstimator, ClassifierMixin\n",
        "class PerceptronClassifier(BaseEstimator,ClassifierMixin):\n",
        "\n",
        "    def __init__(self, lr=.1, shuffle=True):\n",
        "        \"\"\"\n",
        "            Initialize class with chosen hyperparameters.\n",
        "        Args:\n",
        "            lr (float): A learning rate / step size.\n",
        "            shuffle: Whether to shuffle the training data each epoch. DO NOT\n",
        "            SHUFFLE for evaluation / debug datasets.\n",
        "        \"\"\"\n",
        "        self.lr = lr\n",
        "        self.shuffle = shuffle\n",
        "\n",
        "    def fit(self, X, y, initial_weights=None):\n",
        "        \"\"\"\n",
        "            Fit the data; run the algorithm and adjust the weights to find a\n",
        "            good solution\n",
        "        Args:\n",
        "            X (array-like): A 2D numpy array with the training data, excluding\n",
        "            targets\n",
        "            y (array-like): A 2D numpy array with the training targets\n",
        "            initial_weights (array-like): allows the user to provide initial\n",
        "            weights\n",
        "        Returns:\n",
        "            self: this allows this to be chained, e.g. model.fit(X,y).predict(X_test)\n",
        "        \"\"\"\n",
        "        self.weights = self.initialize_weights() if not initial_weights else initial_weights\n",
        "\n",
        "        return self\n",
        "\n",
        "    def predict(self, X):\n",
        "        \"\"\"\n",
        "            Predict all classes for a dataset X\n",
        "        Args:\n",
        "            X (array-like): A 2D numpy array with the training data, excluding\n",
        "            targets\n",
        "        Returns:\n",
        "            array, shape (n_samples,)\n",
        "                Predicted target values per element in X.\n",
        "        \"\"\"\n",
        "        pass\n",
        "\n",
        "    def initialize_weights(self):\n",
        "        \"\"\" Initialize weights for perceptron. Don't forget the bias!\n",
        "        Returns:\n",
        "        \"\"\"\n",
        "\n",
        "        return [0]\n",
        "\n",
        "    def score(self, X, y):\n",
        "        \"\"\"\n",
        "            Return accuracy of model on a given dataset. Must implement own\n",
        "            score function.\n",
        "        Args:\n",
        "            X (array-like): A 2D numpy array with data, excluding targets\n",
        "            y (array-like): A 2D numpy array with targets\n",
        "        Returns:\n",
        "            score : float\n",
        "                Mean accuracy of self.predict(X) wrt. y.\n",
        "        \"\"\"\n",
        "\n",
        "        return 0\n",
        "\n",
        "    ### Returns the weights and bias. Not required but great for debugging.\n",
        "    def get_weights(self):\n",
        "        pass"
      ]
    }
  ],
  "metadata": {
    "colab": {
      "provenance": []
    },
    "kernelspec": {
      "display_name": "Python 2.7.16 64-bit",
      "language": "python",
      "name": "python3"
    },
    "language_info": {
      "codemirror_mode": {
        "name": "ipython",
        "version": 3
      },
      "file_extension": ".py",
      "mimetype": "text/x-python",
      "name": "python",
      "nbconvert_exporter": "python",
      "pygments_lexer": "ipython3",
      "version": "3.11.4"
    },
    "vscode": {
      "interpreter": {
        "hash": "767d51c1340bd893661ea55ea3124f6de3c7a262a8b4abca0554b478b1e2ff90"
      }
    }
  },
  "nbformat": 4,
  "nbformat_minor": 0
}